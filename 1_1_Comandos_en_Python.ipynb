{
  "nbformat": 4,
  "nbformat_minor": 0,
  "metadata": {
    "colab": {
      "provenance": [],
      "authorship_tag": "ABX9TyOKM7fnNmFs1oYEBd4uESqO",
      "include_colab_link": true
    },
    "kernelspec": {
      "name": "python3",
      "display_name": "Python 3"
    },
    "language_info": {
      "name": "python"
    }
  },
  "cells": [
    {
      "cell_type": "markdown",
      "metadata": {
        "id": "view-in-github",
        "colab_type": "text"
      },
      "source": [
        "<a href=\"https://colab.research.google.com/github/artyomRimbaud/Entregas/blob/main/1_1_Comandos_en_Python.ipynb\" target=\"_parent\"><img src=\"https://colab.research.google.com/assets/colab-badge.svg\" alt=\"Open In Colab\"/></a>"
      ]
    },
    {
      "cell_type": "markdown",
      "source": [
        "# **Instituto Politécnico Nacional**\n",
        "## **Unidad Profesional Interdisciplinaria de Ingeniería Campus Coahuila**\n",
        "---\n",
        "**Nombre:** Juan Carlos Hernandez Rodriguez  \n",
        "**Carrera:** Licenciatura en Ciencia de Datos  \n",
        "**Séptimo Semestre**\n",
        "---\n",
        "**Materia:** Protección de Datos  \n",
        "**Docente:** Jessica Sarahí Méndez Rincón  \n",
        "San Buenaventura, Coahuila a **12 de septiembre del 2023**"
      ],
      "metadata": {
        "id": "Nwcz_Bo4N-mL"
      }
    },
    {
      "cell_type": "markdown",
      "source": [
        "# **Documento \"1.2. Introduccion a Python**.[`PDF`](https://drive.google.com/file/d/1sn9hMosUjpSxZkJ9Q3jF0Z-F_AYEls3Q/view?pli=1)\"\n",
        "\n",
        "---"
      ],
      "metadata": {
        "id": "8GAKun39QOwL"
      }
    },
    {
      "cell_type": "markdown",
      "source": [
        "### ***01 .- Código Pag: 24***\n",
        "---"
      ],
      "metadata": {
        "id": "S_WXs7VeSw2n"
      }
    },
    {
      "cell_type": "code",
      "execution_count": null,
      "metadata": {
        "colab": {
          "base_uri": "https://localhost:8080/"
        },
        "id": "fGJKnQNS85Z2",
        "outputId": "f92ee763-d490-44b2-d468-89d447bb92c9"
      },
      "outputs": [
        {
          "output_type": "execute_result",
          "data": {
            "text/plain": [
              "120"
            ]
          },
          "metadata": {},
          "execution_count": 2
        }
      ],
      "source": [
        "# Importa la función 'factorial' del módulo 'math'.\n",
        "# La función 'factorial' toma un número entero no negativo como entrada y devuelve\n",
        "# el producto de todos los enteros positivos menores o iguales a ese número.\n",
        "# Es decir, factorial(5) calculará 5! = 5 x 4 x 3 x 2 x 1 = 120.\n",
        "from math import factorial\n",
        "\n",
        "# Utiliza la función 'factorial' para calcular el factorial de 5.\n",
        "# En este caso, devolverá 120.\n",
        "factorial(5)"
      ]
    },
    {
      "cell_type": "markdown",
      "source": [
        "### ***02 .- Código Pag: 25***\n",
        "---"
      ],
      "metadata": {
        "id": "pYcR4xmcUPmh"
      }
    },
    {
      "cell_type": "code",
      "source": [
        "# Definimos una variable 'n' y le asignamos el valor entero 3.\n",
        "n = 3\n",
        "\n",
        "# Definimos una variable 'address' y le asignamos una cadena de texto con una dirección.\n",
        "address = \"221b Baker Street, NW1 6XE, London\"\n",
        "\n",
        "# Definimos un diccionario 'employee' con información sobre un empleado.\n",
        "employee = {\n",
        "    'age': 45,          # La edad del empleado.\n",
        "    'role': 'CTO',      # El rol o posición del empleado.\n",
        "    'SSN': 'AB1234567'  # El número de seguro social del empleado.\n",
        "}\n",
        "\n",
        "# Imprimimos las variables que acabamos de definir.\n",
        "print(n)           # Esto imprimirá: 3\n",
        "print(address)     # Esto imprimirá: 221b Baker Street, NW1 6XE, London\n",
        "print(employee)    # Esto imprimirá el diccionario con la información del empleado.\n",
        "\n",
        "# Si intentamos acceder a una variable (o nombre) que no ha sido definido, Python lanzará un error.\n",
        "# En este caso, 'other_name' no ha sido definido, por lo que resultará en un NameError.\n",
        "\n",
        "other_name  # Esta línea provocará un error.\n"
      ],
      "metadata": {
        "colab": {
          "base_uri": "https://localhost:8080/",
          "height": 297
        },
        "id": "esSXK7MgUTmT",
        "outputId": "c737cf9d-e919-4270-cd3e-32f5bf198323"
      },
      "execution_count": null,
      "outputs": [
        {
          "output_type": "stream",
          "name": "stdout",
          "text": [
            "3\n",
            "221b Baker Street, NW1 6XE, London\n",
            "{'age': 45, 'role': 'CTO', 'SSN': 'AB1234567'}\n"
          ]
        },
        {
          "output_type": "error",
          "ename": "NameError",
          "evalue": "ignored",
          "traceback": [
            "\u001b[0;31m---------------------------------------------------------------------------\u001b[0m",
            "\u001b[0;31mNameError\u001b[0m                                 Traceback (most recent call last)",
            "\u001b[0;32m<ipython-input-4-b6068aedf927>\u001b[0m in \u001b[0;36m<cell line: 22>\u001b[0;34m()\u001b[0m\n\u001b[1;32m     20\u001b[0m \u001b[0;31m# En este caso, 'other_name' no ha sido definido, por lo que resultará en un NameError.\u001b[0m\u001b[0;34m\u001b[0m\u001b[0;34m\u001b[0m\u001b[0m\n\u001b[1;32m     21\u001b[0m \u001b[0;34m\u001b[0m\u001b[0m\n\u001b[0;32m---> 22\u001b[0;31m \u001b[0mother_name\u001b[0m  \u001b[0;31m# Esta línea provocará un error.\u001b[0m\u001b[0;34m\u001b[0m\u001b[0;34m\u001b[0m\u001b[0m\n\u001b[0m\u001b[1;32m     23\u001b[0m \u001b[0;34m\u001b[0m\u001b[0m\n\u001b[1;32m     24\u001b[0m \u001b[0;34m\u001b[0m\u001b[0m\n",
            "\u001b[0;31mNameError\u001b[0m: name 'other_name' is not defined"
          ]
        }
      ]
    },
    {
      "cell_type": "markdown",
      "source": [
        "### ***03 .- Código Pag: 28 - 30***\n",
        "---"
      ],
      "metadata": {
        "id": "lMUd1KfoWgyd"
      }
    },
    {
      "cell_type": "code",
      "source": [
        "# --- scopes1.py ---\n",
        "# Este código ilustra la diferencia entre una variable definida a nivel global y una definida a nivel local.\n",
        "\n",
        "def local():\n",
        "    # Definimos 'm' en el alcance local de la función\n",
        "    m = 7\n",
        "    print(m)  # Esto imprimirá 7, ya que se refiere al 'm' local.\n",
        "\n",
        "# Definimos 'm' en el alcance global\n",
        "m = 5\n",
        "\n",
        "# Llamamos a la función 'local', que imprimirá el valor de 'm' definido dentro de la función\n",
        "local()\n",
        "\n",
        "# Esto imprimirá 5, ya que se refiere al 'm' global.\n",
        "print(m)"
      ],
      "metadata": {
        "colab": {
          "base_uri": "https://localhost:8080/"
        },
        "id": "HBQtcW45Y5vh",
        "outputId": "762a3133-3ba2-45a3-ff5c-5328bc8d523a"
      },
      "execution_count": null,
      "outputs": [
        {
          "output_type": "stream",
          "name": "stdout",
          "text": [
            "7\n",
            "5\n"
          ]
        }
      ]
    },
    {
      "cell_type": "code",
      "source": [
        "# --- scopes2.py ---\n",
        "# Este código ilustra cómo Python busca en diferentes alcances cuando una variable no está definida localmente.\n",
        "\n",
        "def local():\n",
        "    # No hay 'm' definido aquí dentro, por lo que Python buscará en alcances superiores.\n",
        "    print(m, 'printing from the local scope')\n",
        "\n",
        "# Definimos 'm' en el alcance global\n",
        "m = 5\n",
        "\n",
        "# Imprimimos el 'm' global\n",
        "print(m, 'printing from the global scope')\n",
        "\n",
        "# Llamamos a la función 'local', que imprimirá el valor de 'm' definido a nivel global\n",
        "local()"
      ],
      "metadata": {
        "colab": {
          "base_uri": "https://localhost:8080/"
        },
        "id": "aEv8bC0iZIyn",
        "outputId": "ccd2caf8-e3ad-4a72-a0d3-13a83d6c0983"
      },
      "execution_count": null,
      "outputs": [
        {
          "output_type": "stream",
          "name": "stdout",
          "text": [
            "5 printing from the global scope\n",
            "5 printing from the local scope\n"
          ]
        }
      ]
    },
    {
      "cell_type": "code",
      "source": [
        "# --- scopes3.py ---\n",
        "# Este código muestra un nivel adicional de alcance: el alcance \"enclosing\".\n",
        "\n",
        "def enclosing_func():\n",
        "    # 'm' definido en el alcance de la función 'enclosing_func'\n",
        "    m = 13\n",
        "\n",
        "    def local():\n",
        "        # 'm' no está definido en el alcance local, así que Python buscará en alcances superiores.\n",
        "        # Encontrará 'm' en el alcance de 'enclosing_func'.\n",
        "        print(m, 'printing from the local scope')\n",
        "\n",
        "    # Llamamos a la función 'local' desde dentro de 'enclosing_func'\n",
        "    local()\n",
        "\n",
        "# Definimos 'm' en el alcance global\n",
        "m = 5\n",
        "\n",
        "# Imprimimos el 'm' global\n",
        "print(m, 'printing from the global scope')\n",
        "\n",
        "# Llamamos a 'enclosing_func', que a su vez llamará a 'local'\n",
        "enclosing_func()"
      ],
      "metadata": {
        "colab": {
          "base_uri": "https://localhost:8080/"
        },
        "id": "qy8O9lEBZPV8",
        "outputId": "27a8e13a-ef1b-4364-a665-66ea0e45e295"
      },
      "execution_count": null,
      "outputs": [
        {
          "output_type": "stream",
          "name": "stdout",
          "text": [
            "5 printing from the global scope\n",
            "13 printing from the local scope\n"
          ]
        }
      ]
    },
    {
      "cell_type": "markdown",
      "source": [
        "***04 .- Código Pag: 78***\n",
        "---"
      ],
      "metadata": {
        "id": "TO7XRei9WmKt"
      }
    },
    {
      "cell_type": "code",
      "source": [
        "# Creación de diccionarios que representan a los clientes.\n",
        "customer1 = {'id': 'abc123', 'full_name': 'Master Yoda'}\n",
        "customer2 = {'id': 'def456', 'full_name': 'Obi-Wan Kenobi'}\n",
        "customer3 = {'id': 'ghi789', 'full_name': 'Anakin Skywalker'}\n",
        "\n",
        "# Opción 1: Usar una tupla para almacenar clientes. Las tuplas son inmutables, por lo que no puedes añadir o eliminar clientes después.\n",
        "# Esto es útil si sabes que la lista de clientes no cambiará.\n",
        "customers_tuple = (customer1, customer2, customer3)\n",
        "print(\"Clientes en una tupla:\")\n",
        "print(customers_tuple)\n",
        "print(\"----\")\n",
        "\n",
        "# Opción 2: Usar una lista para almacenar clientes. Las listas son mutables, por lo que puedes añadir o eliminar clientes.\n",
        "# Esto es útil si la lista de clientes podría cambiar con el tiempo.\n",
        "customers_list = [customer1, customer2, customer3]\n",
        "print(\"Clientes en una lista:\")\n",
        "print(customers_list)\n",
        "print(\"----\")\n",
        "\n",
        "# Opción 3: Usar un diccionario para almacenar clientes usando sus ID únicos como claves.\n",
        "# Esto facilita la búsqueda y el acceso a la información del cliente por su ID.\n",
        "customers_dict = {\n",
        "    'abc123': customer1,\n",
        "    'def456': customer2,\n",
        "    'ghi789': customer3,\n",
        "}\n",
        "print(\"Clientes en un diccionario:\")\n",
        "print(customers_dict)"
      ],
      "metadata": {
        "colab": {
          "base_uri": "https://localhost:8080/"
        },
        "id": "KReIocKLwPlF",
        "outputId": "fb5dff69-3db8-43f3-8d96-8a26cd9a858b"
      },
      "execution_count": null,
      "outputs": [
        {
          "output_type": "stream",
          "name": "stdout",
          "text": [
            "Clientes en una tupla:\n",
            "({'id': 'abc123', 'full_name': 'Master Yoda'}, {'id': 'def456', 'full_name': 'Obi-Wan Kenobi'}, {'id': 'ghi789', 'full_name': 'Anakin Skywalker'})\n",
            "----\n",
            "Clientes en una lista:\n",
            "[{'id': 'abc123', 'full_name': 'Master Yoda'}, {'id': 'def456', 'full_name': 'Obi-Wan Kenobi'}, {'id': 'ghi789', 'full_name': 'Anakin Skywalker'}]\n",
            "----\n",
            "Clientes en un diccionario:\n",
            "{'abc123': {'id': 'abc123', 'full_name': 'Master Yoda'}, 'def456': {'id': 'def456', 'full_name': 'Obi-Wan Kenobi'}, 'ghi789': {'id': 'ghi789', 'full_name': 'Anakin Skywalker'}}\n"
          ]
        }
      ]
    },
    {
      "cell_type": "markdown",
      "source": [
        "***05 .- Código Pag: 105 - 107***\n",
        "---"
      ],
      "metadata": {
        "id": "G2NHu9wyWn6Z"
      }
    },
    {
      "cell_type": "code",
      "source": [
        "# primes_optimized.py\n",
        "primes = []  # Lista para almacenar números primos.\n",
        "upto = 100  # Límite superior, inclusive.\n",
        "\n",
        "for n in range(2, upto + 1):\n",
        "    for divisor in range(2, int(n**0.5) + 1):  # Solo verifica hasta la raíz cuadrada de n.\n",
        "        if n % divisor == 0:  # Si n es divisible por divisor.\n",
        "            break  # n no es primo.\n",
        "    else:  # Esta cláusula se ejecuta si el bucle for no encuentra un divisor.\n",
        "        primes.append(n)  # n es primo.\n",
        "\n",
        "print(primes)"
      ],
      "metadata": {
        "colab": {
          "base_uri": "https://localhost:8080/"
        },
        "id": "52iwGVy4zFpK",
        "outputId": "d1df349f-ed0a-4f4d-8eac-13751fa8848a"
      },
      "execution_count": null,
      "outputs": [
        {
          "output_type": "stream",
          "name": "stdout",
          "text": [
            "[2, 3, 5, 7, 11, 13, 17, 19, 23, 29, 31, 37, 41, 43, 47, 53, 59, 61, 67, 71, 73, 79, 83, 89, 97]\n"
          ]
        }
      ]
    },
    {
      "cell_type": "markdown",
      "source": [
        "***06 .- Código Pag: 108 - 110***\n",
        "---"
      ],
      "metadata": {
        "id": "XeWB4WmbWobb"
      }
    },
    {
      "cell_type": "code",
      "source": [
        "# Definimos una lista de clientes con sus ID, totales de compra y códigos de cupón.\n",
        "customers = [\n",
        "    dict(id=1, total=200, coupon_code='F20'),  # F20: descuento fijo de £20\n",
        "    dict(id=2, total=150, coupon_code='P30'),  # P30: descuento porcentual del 30%\n",
        "    dict(id=3, total=100, coupon_code='P50'),  # P50: descuento porcentual del 50%\n",
        "    dict(id=4, total=110, coupon_code='F15'),  # F15: descuento fijo de £15\n",
        "]\n",
        "\n",
        "# Definimos un diccionario de descuentos donde las claves son los códigos de cupón\n",
        "# y los valores son tuplas que contienen el descuento porcentual y el descuento fijo, respectivamente.\n",
        "discounts = {\n",
        "    'F20': (0.0, 20.0),  # Sin descuento porcentual, £20 de descuento fijo\n",
        "    'P30': (0.3, 0.0),  # 30% de descuento, sin descuento fijo\n",
        "    'P50': (0.5, 0.0),  # 50% de descuento, sin descuento fijo\n",
        "    'F15': (0.0, 15.0),  # Sin descuento porcentual, £15 de descuento fijo\n",
        "}\n",
        "\n",
        "# Para cada cliente en nuestra lista:\n",
        "for customer in customers:\n",
        "    # Extraemos el código de cupón del cliente.\n",
        "    code = customer['coupon_code']\n",
        "    # Intentamos obtener el porcentaje y descuento fijo de nuestro diccionario de descuentos.\n",
        "    # Si el código no se encuentra, usamos (0.0, 0.0) como valores predeterminados.\n",
        "    percent, fixed = discounts.get(code, (0.0, 0.0))\n",
        "    # Calculamos el descuento total y lo asignamos al diccionario del cliente.\n",
        "    customer['discount'] = percent * customer['total'] + fixed\n",
        "\n",
        "# Finalmente, imprimimos el ID del cliente, el total de su compra y el descuento aplicado.\n",
        "for customer in customers:\n",
        "    print(customer['id'], customer['total'], customer['discount'])\n"
      ],
      "metadata": {
        "id": "z2rxObqK5WJM",
        "colab": {
          "base_uri": "https://localhost:8080/"
        },
        "outputId": "6cdbdebc-8426-4866-9315-5a1923cdf773"
      },
      "execution_count": null,
      "outputs": [
        {
          "output_type": "stream",
          "name": "stdout",
          "text": [
            "1 200 20.0\n",
            "2 150 45.0\n",
            "3 100 50.0\n",
            "4 110 15.0\n"
          ]
        }
      ]
    },
    {
      "cell_type": "markdown",
      "source": [
        "***07 .- Código Pag: 119***\n",
        "---"
      ],
      "metadata": {
        "id": "v3eVTPJBWt1P"
      }
    },
    {
      "cell_type": "code",
      "source": [
        "# Sin usar función:\n",
        "\n",
        "# matrix.multiplication.nofunc.py\n",
        "\n",
        "# Definimos dos matrices a y b\n",
        "a = [[1, 2], [3, 4]]\n",
        "b = [[5, 1], [2, 1]]\n",
        "\n",
        "# Multiplicamos las matrices a y b usando una lista por comprensión.\n",
        "# Este paso es un poco complicado para quienes no están familiarizados con el álgebra lineal y las listas por comprensión.\n",
        "c = [[sum(i * j for i, j in zip(r, c)) for c in zip(*b)]\n",
        "     for r in a]\n",
        "\n",
        "print(c)"
      ],
      "metadata": {
        "id": "ePNQuEun5WrQ",
        "colab": {
          "base_uri": "https://localhost:8080/"
        },
        "outputId": "7f5aeb74-4426-4559-adb2-7268db0765bc"
      },
      "execution_count": null,
      "outputs": [
        {
          "output_type": "stream",
          "name": "stdout",
          "text": [
            "[[9, 3], [23, 7]]\n"
          ]
        }
      ]
    },
    {
      "cell_type": "code",
      "source": [
        "# Usando función:\n",
        "\n",
        "# matrix.multiplication.func.py\n",
        "\n",
        "# Definimos una función para multiplicar matrices.\n",
        "# Esta función encapsula la lógica de multiplicación de matrices, lo que mejora la legibilidad del código.\n",
        "def matrix_mul(a, b):\n",
        "    return [[sum(i * j for i, j in zip(r, c)) for c in zip(*b)]\n",
        "            for r in a]\n",
        "\n",
        "# Definimos dos matrices a y b\n",
        "a = [[1, 2], [3, 4]]\n",
        "b = [[5, 1], [2, 1]]\n",
        "\n",
        "# Usamos la función definida anteriormente para multiplicar las matrices a y b.\n",
        "# Al hacerlo, el código se vuelve más limpio y fácil de entender.\n",
        "c = matrix_mul(a, b)\n",
        "\n",
        "print(c)"
      ],
      "metadata": {
        "colab": {
          "base_uri": "https://localhost:8080/"
        },
        "id": "eWpmKeKVFe2z",
        "outputId": "06397f20-6d69-4e7f-e45b-1aefe39cfad9"
      },
      "execution_count": null,
      "outputs": [
        {
          "output_type": "stream",
          "name": "stdout",
          "text": [
            "[[9, 3], [23, 7]]\n"
          ]
        }
      ]
    },
    {
      "cell_type": "markdown",
      "source": [
        "***08 .- Código Pag: 127***\n",
        "---"
      ],
      "metadata": {
        "id": "MyDVdvoLWt7z"
      }
    },
    {
      "cell_type": "code",
      "source": [
        "# key.points.mutable.py\n",
        "\n",
        "# Cambiando un objeto mutable:\n",
        "\n",
        "# Creamos una lista x.\n",
        "x = [1, 2, 3]\n",
        "\n",
        "# Definimos una función que modifica su argumento.\n",
        "def func(x):\n",
        "    # Aquí, estamos modificando el objeto al que se refiere 'x' (la lista original en la memoria).\n",
        "    x[1] = 42\n",
        "\n",
        "# Llamamos a la función pasándole x como argumento.\n",
        "func(x)\n",
        "\n",
        "# Imprimimos x para ver su estado después de llamar a la función.\n",
        "print(x) # imprime: [1, 42, 3]"
      ],
      "metadata": {
        "id": "m-xUbdXi5XJm",
        "colab": {
          "base_uri": "https://localhost:8080/"
        },
        "outputId": "a9951ba7-100b-41ad-fd7e-aba7b1305154"
      },
      "execution_count": null,
      "outputs": [
        {
          "output_type": "stream",
          "name": "stdout",
          "text": [
            "[1, 42, 3]\n"
          ]
        }
      ]
    },
    {
      "cell_type": "code",
      "source": [
        "# key.points.mutable.assignment.py\n",
        "\n",
        "# Reasignación de una referencia:\n",
        "\n",
        "x = [1, 2, 3]\n",
        "\n",
        "def func(x):\n",
        "    x[1] = 42         # Esta línea modifica el objeto original.\n",
        "    x = 'something else'  # Esta línea reasigna la referencia local 'x' a una nueva cadena.\n",
        "\n",
        "# Llamamos a la función pasándole x como argumento.\n",
        "func(x)\n",
        "\n",
        "# Imprimimos x para ver su estado después de llamar a la función.\n",
        "print(x)  # aún imprime: [1, 42, 3]"
      ],
      "metadata": {
        "colab": {
          "base_uri": "https://localhost:8080/"
        },
        "id": "j-lvsAokHEtZ",
        "outputId": "a592c6f4-8ee1-48fc-cb58-0d65435dad73"
      },
      "execution_count": null,
      "outputs": [
        {
          "output_type": "stream",
          "name": "stdout",
          "text": [
            "[1, 42, 3]\n"
          ]
        }
      ]
    },
    {
      "cell_type": "markdown",
      "source": [
        "***09 .- Código Pag: 132***\n",
        "---"
      ],
      "metadata": {
        "id": "erHwlxx5Wt-n"
      }
    },
    {
      "cell_type": "code",
      "source": [
        "# parameters.default.py\n",
        "\n",
        "# Esta función tiene tres parámetros: a, b y c.\n",
        "# 'a' es un parámetro requerido, mientras que 'b' y 'c' tienen valores por defecto.\n",
        "def func(a, b=4, c=88):\n",
        "    print(a, b, c)\n",
        "\n",
        "# Aquí sólo proporcionamos un valor para 'a'. 'b' y 'c' toman sus valores predeterminados.\n",
        "func(1)  # imprime: 1 4 88\n",
        "\n",
        "# Aquí especificamos los valores para todos los parámetros usando argumentos con nombre.\n",
        "func(b=5, a=7, c=9)  # imprime: 7 5 9\n",
        "\n",
        "# Especificamos valores para 'a' y 'c'. 'b' toma su valor por defecto.\n",
        "func(42, c=9)  # imprime: 42 4 9\n",
        "\n",
        "# Proporcionamos valores para todos los parámetros en orden.\n",
        "func(42, 43, 44)  # imprime: 42 43 44"
      ],
      "metadata": {
        "id": "p2Ox1_nD5Xfi",
        "colab": {
          "base_uri": "https://localhost:8080/"
        },
        "outputId": "f793aabb-5f74-4105-d520-8d3cbcb792a9"
      },
      "execution_count": null,
      "outputs": [
        {
          "output_type": "stream",
          "name": "stdout",
          "text": [
            "1 4 88\n",
            "7 5 9\n",
            "42 4 9\n",
            "42 43 44\n"
          ]
        }
      ]
    },
    {
      "cell_type": "markdown",
      "source": [
        "***10 .- Código Pag:  154***\n",
        "---"
      ],
      "metadata": {
        "id": "tRyj750dWuA7"
      }
    },
    {
      "cell_type": "code",
      "source": [
        "from math import sqrt, ceil\n",
        "\n",
        "def get_primes(n):\n",
        "    \"\"\"Calculate a list of primes up to n (included). \"\"\"\n",
        "    primelist = []  # Lista para almacenar números primos\n",
        "\n",
        "    for candidate in range(2, n + 1):  # Comprobando cada número desde 2 hasta n\n",
        "        is_prime = True  # Asumiendo que el número es primo\n",
        "        root = ceil(sqrt(candidate))  # Calculando el límite de división\n",
        "\n",
        "        for prime in primelist:  # Dividiendo solo por números primos previos\n",
        "            if prime > root:  # Si el divisor es mayor que la raíz, no hay necesidad de continuar\n",
        "                break\n",
        "            if candidate % prime == 0:  # Si el candidato es divisible por algún número primo\n",
        "                is_prime = False  # El número no es primo\n",
        "                break\n",
        "\n",
        "        if is_prime:  # Si el candidato es primo\n",
        "            primelist.append(candidate)  # Añadirlo a la lista de primos\n",
        "\n",
        "    return primelist  # Devolver la lista de números primos\n",
        "\n",
        "# Elegir un valor para n\n",
        "n = 50\n",
        "\n",
        "# Calcular e imprimir números primos hasta n\n",
        "print(get_primes(n))"
      ],
      "metadata": {
        "id": "7SL1D87Z5X4t",
        "colab": {
          "base_uri": "https://localhost:8080/"
        },
        "outputId": "afcd04c1-f9ea-42f0-fe40-cf81439b8f14"
      },
      "execution_count": null,
      "outputs": [
        {
          "output_type": "stream",
          "name": "stdout",
          "text": [
            "[2, 3, 5, 7, 11, 13, 17, 19, 23, 29, 31, 37, 41, 43, 47]\n"
          ]
        }
      ]
    },
    {
      "cell_type": "markdown",
      "source": [
        "# **Documento \"1.3. Importación datos Python**.[`PDF`](https://drive.google.com/file/d/13UKTK6XZbB3A4GdbiUThmntnHhtRk80z/view)\"\n",
        "\n",
        "---"
      ],
      "metadata": {
        "id": "KweXc4ppXAXR"
      }
    },
    {
      "cell_type": "markdown",
      "source": [
        "***01 .- Código Pag: 258 - 259***\n",
        "---"
      ],
      "metadata": {
        "id": "qrrJqvapXgP3"
      }
    },
    {
      "cell_type": "code",
      "source": [
        "# files/open_try.py\n",
        "\n",
        "# La función 'open()' es usada para abrir archivos.\n",
        "# Especificamos el nombre del archivo 'fear.txt' y el modo 'rt' (leer en modo texto) como argumentos.\n",
        "# 'rt' es en realidad el valor predeterminado, así que si no se especifica, Python asumirá que es 'rt'.\n",
        "fh = open('/content/sample_data/fear.txt', 'rt')\n",
        "\n",
        "# Iniciamos un bloque try. Esto nos permite manejar errores que pueden ocurrir en el bloque de código.\n",
        "try:\n",
        "    # El objeto 'fh' nos permite iterar a través de cada línea en el archivo.\n",
        "    for line in fh.readlines():\n",
        "        # 'strip()' elimina cualquier espacio adicional (incluyendo el carácter de nueva línea) alrededor del contenido de cada línea.\n",
        "        # Luego, 'print()' imprime cada línea.\n",
        "        print(line.strip())\n",
        "\n",
        "# El bloque 'finally' se ejecuta sin importar si ocurre un error en el bloque 'try' o no.\n",
        "finally:\n",
        "    # Es importante cerrar el archivo después de usarlo. Esto libera recursos.\n",
        "    fh.close()\n"
      ],
      "metadata": {
        "id": "cNmsLapG5CIF",
        "colab": {
          "base_uri": "https://localhost:8080/"
        },
        "outputId": "fbfb62ea-8ca5-4f11-af6b-f80565af5a56"
      },
      "execution_count": null,
      "outputs": [
        {
          "output_type": "stream",
          "name": "stdout",
          "text": [
            "An excerpt from Fear - By Thich Nhat Hanh\n",
            "The Present Is Free from Fear\n",
            "When we are not fully present, we are not really living. We're not\n",
            "really there, either for our loved ones or for ourselves. If we're not\n",
            "there, then where are we? We are running, running, running, even during\n",
            "our sleep. We run because we're trying to escape from our fear.\n",
            "...\n"
          ]
        }
      ]
    },
    {
      "cell_type": "code",
      "source": [
        "# Alternativamente, aquí hay otra versión del mismo código:\n",
        "# files/open_try.py\n",
        "\n",
        "# En esta versión, estamos usando los valores predeterminados y características de Python para simplificar el código.\n",
        "fh = open('/content/sample_data/fear.txt')  # 'rt' es el modo predeterminado\n",
        "\n",
        "try:\n",
        "    # No es necesario usar 'readlines()'. Podemos iterar directamente a través del objeto 'fh'.\n",
        "    for line in fh:\n",
        "        print(line.strip())\n",
        "\n",
        "finally:\n",
        "    fh.close()"
      ],
      "metadata": {
        "colab": {
          "base_uri": "https://localhost:8080/"
        },
        "id": "G-kjZKLRTE1O",
        "outputId": "b14eab32-afa0-4a1f-a25d-d7af36292ab6"
      },
      "execution_count": null,
      "outputs": [
        {
          "output_type": "stream",
          "name": "stdout",
          "text": [
            "An excerpt from Fear - By Thich Nhat Hanh\n",
            "The Present Is Free from Fear\n",
            "When we are not fully present, we are not really living. We're not\n",
            "really there, either for our loved ones or for ourselves. If we're not\n",
            "there, then where are we? We are running, running, running, even during\n",
            "our sleep. We run because we're trying to escape from our fear.\n",
            "...\n"
          ]
        }
      ]
    },
    {
      "cell_type": "markdown",
      "source": [
        "***02 .- Código Pag: 260 - 262***\n",
        "---"
      ],
      "metadata": {
        "id": "0bqPegqGXjpU"
      }
    },
    {
      "cell_type": "code",
      "source": [
        "# files/print_file.py\n",
        "\n",
        "# Abre un archivo para escribir ('w') y usa un administrador de contexto (`with`) para garantizar que el archivo se cierre correctamente después de usarlo.\n",
        "with open('print_example.txt', 'w') as fw:\n",
        "    # Usa la función `print()` para escribir texto en el archivo especificado.\n",
        "    print('Hey I am printing into a file!!!', file=fw)"
      ],
      "metadata": {
        "id": "fufgoN395GL4"
      },
      "execution_count": null,
      "outputs": []
    },
    {
      "cell_type": "code",
      "source": [
        "# files/read_write.py\n",
        "\n",
        "# Abre el archivo 'fear.txt' para lectura.\n",
        "with open('/content/sample_data/fear.txt') as f:\n",
        "    # Lee cada línea del archivo, elimina los espacios en blanco del extremo derecho y almacena las líneas en una lista.\n",
        "    lines = [line.rstrip() for line in f]\n",
        "\n",
        "# Abre un nuevo archivo 'fear_copy.txt' para escritura.\n",
        "with open('fear_copy.txt', 'w') as fw:\n",
        "    # Escribe las líneas de la lista al archivo, separadas por saltos de línea.\n",
        "    fw.write('\\n'.join(lines))"
      ],
      "metadata": {
        "id": "LYqvl-BYVX_f"
      },
      "execution_count": null,
      "outputs": []
    },
    {
      "cell_type": "code",
      "source": [
        "# files/read_write_bin.py\n",
        "\n",
        "# Abre un archivo en modo binario para escritura.\n",
        "with open('example.bin', 'wb') as fw:\n",
        "    # Escribe datos binarios en el archivo. Se utiliza el prefijo 'b' para indicar datos binarios.\n",
        "    fw.write(b'This is binary data...')\n",
        "\n",
        "# Abre el archivo en modo binario para lectura.\n",
        "with open('example.bin', 'rb') as f:\n",
        "    # Lee y muestra el contenido del archivo.\n",
        "    print(f.read())"
      ],
      "metadata": {
        "colab": {
          "base_uri": "https://localhost:8080/"
        },
        "id": "Yg5OPFRXVh3w",
        "outputId": "afa24c7f-07c6-4e0d-c17b-74795bfa6de6"
      },
      "execution_count": null,
      "outputs": [
        {
          "output_type": "stream",
          "name": "stdout",
          "text": [
            "b'This is binary data...'\n"
          ]
        }
      ]
    },
    {
      "cell_type": "code",
      "source": [
        "# files/write_not_exists.py\n",
        "\n",
        "# Intenta abrir un archivo para escritura con la bandera 'x', que fallará si el archivo ya existe.\n",
        "with open('write_x.txt', 'x') as fw:\n",
        "    fw.write('Writing line 1')\n",
        "\n",
        "# Intenta abrir el mismo archivo nuevamente con la bandera 'x'. Esto causará un error porque el archivo ya existe.\n",
        "with open('write_x.txt', 'x') as fw:\n",
        "    fw.write('Writing line 2')"
      ],
      "metadata": {
        "colab": {
          "base_uri": "https://localhost:8080/",
          "height": 227
        },
        "id": "y_8h1KpIVlz_",
        "outputId": "514644ce-40c7-4098-b55f-2992a575e479"
      },
      "execution_count": null,
      "outputs": [
        {
          "output_type": "error",
          "ename": "FileExistsError",
          "evalue": "ignored",
          "traceback": [
            "\u001b[0;31m---------------------------------------------------------------------------\u001b[0m",
            "\u001b[0;31mFileExistsError\u001b[0m                           Traceback (most recent call last)",
            "\u001b[0;32m<ipython-input-31-3e9cf573c1d3>\u001b[0m in \u001b[0;36m<cell line: 8>\u001b[0;34m()\u001b[0m\n\u001b[1;32m      6\u001b[0m \u001b[0;34m\u001b[0m\u001b[0m\n\u001b[1;32m      7\u001b[0m \u001b[0;31m# Intenta abrir el mismo archivo nuevamente con la bandera 'x'. Esto causará un error porque el archivo ya existe.\u001b[0m\u001b[0;34m\u001b[0m\u001b[0;34m\u001b[0m\u001b[0m\n\u001b[0;32m----> 8\u001b[0;31m \u001b[0;32mwith\u001b[0m \u001b[0mopen\u001b[0m\u001b[0;34m(\u001b[0m\u001b[0;34m'write_x.txt'\u001b[0m\u001b[0;34m,\u001b[0m \u001b[0;34m'x'\u001b[0m\u001b[0;34m)\u001b[0m \u001b[0;32mas\u001b[0m \u001b[0mfw\u001b[0m\u001b[0;34m:\u001b[0m\u001b[0;34m\u001b[0m\u001b[0;34m\u001b[0m\u001b[0m\n\u001b[0m\u001b[1;32m      9\u001b[0m     \u001b[0mfw\u001b[0m\u001b[0;34m.\u001b[0m\u001b[0mwrite\u001b[0m\u001b[0;34m(\u001b[0m\u001b[0;34m'Writing line 2'\u001b[0m\u001b[0;34m)\u001b[0m\u001b[0;34m\u001b[0m\u001b[0;34m\u001b[0m\u001b[0m\n",
            "\u001b[0;31mFileExistsError\u001b[0m: [Errno 17] File exists: 'write_x.txt'"
          ]
        }
      ]
    },
    {
      "cell_type": "markdown",
      "source": [
        "***03 .- Código Pag: 263 - 266***\n",
        "---"
      ],
      "metadata": {
        "id": "vu3GqpCGXkxC"
      }
    },
    {
      "cell_type": "code",
      "source": [
        "# Importando las librerías necesarias\n",
        "from pathlib import Path\n",
        "import shutil\n",
        "\n",
        "# Definimos la ruta base donde se realizarán las operaciones\n",
        "base_path = Path('ops_example')\n",
        "\n",
        "# Si el directorio ya existe, lo eliminamos para empezar con un directorio limpio\n",
        "if base_path.exists() and base_path.is_dir():\n",
        "    shutil.rmtree(base_path)\n",
        "\n",
        "# Creamos el directorio base llamado 'ops_example'\n",
        "base_path.mkdir()\n",
        "\n",
        "# Creamos subdirectorios en la ruta ops_example/A/B y ops_example/A/C\n",
        "path_b = base_path / 'A' / 'B'\n",
        "path_c = base_path / 'A' / 'C'\n",
        "\n",
        "# Creamos el directorio B y todos sus directorios padres si no existen\n",
        "path_b.mkdir(parents=True)\n",
        "# Creamos el directorio C (no es necesario usar parents=True ya que A ya existe)\n",
        "path_c.mkdir()\n",
        "\n",
        "# Crear y escribir en tres archivos dentro del directorio B\n",
        "for filename in ('ex1.txt', 'ex2.txt', 'ex3.txt'):\n",
        "    with open(path_b / filename, 'w') as stream:\n",
        "        stream.write(f'Some content here in {filename}\\n')\n",
        "\n",
        "# Movemos (renombramos) el directorio B a D\n",
        "shutil.move(str(path_b), str(path_b.parent / 'D'))\n",
        "path_d = path_b.parent / 'D'  # Actualizamos la referencia a D\n",
        "\n",
        "# Renombramos el archivo ex1.txt a ex1.renamed.txt dentro del directorio D\n",
        "ex1 = path_d / 'ex1.txt'\n",
        "ex1.rename(ex1.parent / 'ex1.renamed.txt')\n"
      ],
      "metadata": {
        "id": "QzWHnpAr5IFa",
        "colab": {
          "base_uri": "https://localhost:8080/"
        },
        "outputId": "6236045a-86c3-49d0-caa4-6ade83e2740b"
      },
      "execution_count": null,
      "outputs": [
        {
          "output_type": "execute_result",
          "data": {
            "text/plain": [
              "PosixPath('ops_example/A/D/ex1.renamed.txt')"
            ]
          },
          "metadata": {},
          "execution_count": 32
        }
      ]
    },
    {
      "cell_type": "markdown",
      "source": [
        "***04 .- Código Pag: 269***\n",
        "---"
      ],
      "metadata": {
        "id": "iYCspsSKXnb_"
      }
    },
    {
      "cell_type": "code",
      "source": [
        "# Importamos ZipFile desde el módulo zipfile. Este módulo nos permite trabajar con archivos ZIP.\n",
        "from zipfile import ZipFile\n",
        "\n",
        "# Creamos un archivo ZIP llamado 'example.zip' en modo de escritura ('w').\n",
        "with ZipFile('example.zip', 'w') as zp:\n",
        "    # Agregamos varios archivos al archivo ZIP. Si estos archivos tienen rutas (como subfolder/content3.txt),\n",
        "    # ZIP conservará toda la ruta, recreando subdirectorios según sea necesario.\n",
        "    zp.write('/content/sample_data/README.md')\n",
        "    zp.write('/content/sample_data/anscombe.json')\n",
        "    zp.write('/content/sample_data/california_housing_test.csv')\n",
        "    zp.write('/content/sample_data/mnist_test.csv')\n",
        "\n",
        "# Abre el archivo ZIP existente en modo de lectura (el modo predeterminado).\n",
        "with ZipFile('example.zip') as zp:\n",
        "    # Extraemos algunos archivos del ZIP.\n",
        "    # Por ejemplo, 'content1.txt' se extraerá en un directorio llamado 'extract_zip'.\n",
        "    # Si no existe, se creará automáticamente.\n",
        "    zp.extract('content1.txt', 'extract_zip')\n",
        "    zp.extract('subfolder/content3.txt', 'extract_zip')"
      ],
      "metadata": {
        "id": "oiEZggD25Jh2",
        "colab": {
          "base_uri": "https://localhost:8080/",
          "height": 373
        },
        "outputId": "167a5092-75ea-4d0d-f6c9-7322429a1e42"
      },
      "execution_count": null,
      "outputs": [
        {
          "output_type": "error",
          "ename": "KeyError",
          "evalue": "ignored",
          "traceback": [
            "\u001b[0;31m---------------------------------------------------------------------------\u001b[0m",
            "\u001b[0;31mKeyError\u001b[0m                                  Traceback (most recent call last)",
            "\u001b[0;32m<ipython-input-2-682dcc0fce1c>\u001b[0m in \u001b[0;36m<cell line: 14>\u001b[0;34m()\u001b[0m\n\u001b[1;32m     16\u001b[0m     \u001b[0;31m# Por ejemplo, 'content1.txt' se extraerá en un directorio llamado 'extract_zip'.\u001b[0m\u001b[0;34m\u001b[0m\u001b[0;34m\u001b[0m\u001b[0m\n\u001b[1;32m     17\u001b[0m     \u001b[0;31m# Si no existe, se creará automáticamente.\u001b[0m\u001b[0;34m\u001b[0m\u001b[0;34m\u001b[0m\u001b[0m\n\u001b[0;32m---> 18\u001b[0;31m     \u001b[0mzp\u001b[0m\u001b[0;34m.\u001b[0m\u001b[0mextract\u001b[0m\u001b[0;34m(\u001b[0m\u001b[0;34m'/content/sample_data/README.md'\u001b[0m\u001b[0;34m,\u001b[0m \u001b[0;34m'extract_zip'\u001b[0m\u001b[0;34m)\u001b[0m\u001b[0;34m\u001b[0m\u001b[0;34m\u001b[0m\u001b[0m\n\u001b[0m\u001b[1;32m     19\u001b[0m     \u001b[0mzp\u001b[0m\u001b[0;34m.\u001b[0m\u001b[0mextract\u001b[0m\u001b[0;34m(\u001b[0m\u001b[0;34m'subfolder/content3.txt'\u001b[0m\u001b[0;34m,\u001b[0m \u001b[0;34m'extract_zip'\u001b[0m\u001b[0;34m)\u001b[0m\u001b[0;34m\u001b[0m\u001b[0;34m\u001b[0m\u001b[0m\n",
            "\u001b[0;32m/usr/lib/python3.10/zipfile.py\u001b[0m in \u001b[0;36mextract\u001b[0;34m(self, member, path, pwd)\u001b[0m\n\u001b[1;32m   1628\u001b[0m             \u001b[0mpath\u001b[0m \u001b[0;34m=\u001b[0m \u001b[0mos\u001b[0m\u001b[0;34m.\u001b[0m\u001b[0mfspath\u001b[0m\u001b[0;34m(\u001b[0m\u001b[0mpath\u001b[0m\u001b[0;34m)\u001b[0m\u001b[0;34m\u001b[0m\u001b[0;34m\u001b[0m\u001b[0m\n\u001b[1;32m   1629\u001b[0m \u001b[0;34m\u001b[0m\u001b[0m\n\u001b[0;32m-> 1630\u001b[0;31m         \u001b[0;32mreturn\u001b[0m \u001b[0mself\u001b[0m\u001b[0;34m.\u001b[0m\u001b[0m_extract_member\u001b[0m\u001b[0;34m(\u001b[0m\u001b[0mmember\u001b[0m\u001b[0;34m,\u001b[0m \u001b[0mpath\u001b[0m\u001b[0;34m,\u001b[0m \u001b[0mpwd\u001b[0m\u001b[0;34m)\u001b[0m\u001b[0;34m\u001b[0m\u001b[0;34m\u001b[0m\u001b[0m\n\u001b[0m\u001b[1;32m   1631\u001b[0m \u001b[0;34m\u001b[0m\u001b[0m\n\u001b[1;32m   1632\u001b[0m     \u001b[0;32mdef\u001b[0m \u001b[0mextractall\u001b[0m\u001b[0;34m(\u001b[0m\u001b[0mself\u001b[0m\u001b[0;34m,\u001b[0m \u001b[0mpath\u001b[0m\u001b[0;34m=\u001b[0m\u001b[0;32mNone\u001b[0m\u001b[0;34m,\u001b[0m \u001b[0mmembers\u001b[0m\u001b[0;34m=\u001b[0m\u001b[0;32mNone\u001b[0m\u001b[0;34m,\u001b[0m \u001b[0mpwd\u001b[0m\u001b[0;34m=\u001b[0m\u001b[0;32mNone\u001b[0m\u001b[0;34m)\u001b[0m\u001b[0;34m:\u001b[0m\u001b[0;34m\u001b[0m\u001b[0;34m\u001b[0m\u001b[0m\n",
            "\u001b[0;32m/usr/lib/python3.10/zipfile.py\u001b[0m in \u001b[0;36m_extract_member\u001b[0;34m(self, member, targetpath, pwd)\u001b[0m\n\u001b[1;32m   1667\u001b[0m         \"\"\"\n\u001b[1;32m   1668\u001b[0m         \u001b[0;32mif\u001b[0m \u001b[0;32mnot\u001b[0m \u001b[0misinstance\u001b[0m\u001b[0;34m(\u001b[0m\u001b[0mmember\u001b[0m\u001b[0;34m,\u001b[0m \u001b[0mZipInfo\u001b[0m\u001b[0;34m)\u001b[0m\u001b[0;34m:\u001b[0m\u001b[0;34m\u001b[0m\u001b[0;34m\u001b[0m\u001b[0m\n\u001b[0;32m-> 1669\u001b[0;31m             \u001b[0mmember\u001b[0m \u001b[0;34m=\u001b[0m \u001b[0mself\u001b[0m\u001b[0;34m.\u001b[0m\u001b[0mgetinfo\u001b[0m\u001b[0;34m(\u001b[0m\u001b[0mmember\u001b[0m\u001b[0;34m)\u001b[0m\u001b[0;34m\u001b[0m\u001b[0;34m\u001b[0m\u001b[0m\n\u001b[0m\u001b[1;32m   1670\u001b[0m \u001b[0;34m\u001b[0m\u001b[0m\n\u001b[1;32m   1671\u001b[0m         \u001b[0;31m# build the destination pathname, replacing\u001b[0m\u001b[0;34m\u001b[0m\u001b[0;34m\u001b[0m\u001b[0m\n",
            "\u001b[0;32m/usr/lib/python3.10/zipfile.py\u001b[0m in \u001b[0;36mgetinfo\u001b[0;34m(self, name)\u001b[0m\n\u001b[1;32m   1441\u001b[0m         \u001b[0minfo\u001b[0m \u001b[0;34m=\u001b[0m \u001b[0mself\u001b[0m\u001b[0;34m.\u001b[0m\u001b[0mNameToInfo\u001b[0m\u001b[0;34m.\u001b[0m\u001b[0mget\u001b[0m\u001b[0;34m(\u001b[0m\u001b[0mname\u001b[0m\u001b[0;34m)\u001b[0m\u001b[0;34m\u001b[0m\u001b[0;34m\u001b[0m\u001b[0m\n\u001b[1;32m   1442\u001b[0m         \u001b[0;32mif\u001b[0m \u001b[0minfo\u001b[0m \u001b[0;32mis\u001b[0m \u001b[0;32mNone\u001b[0m\u001b[0;34m:\u001b[0m\u001b[0;34m\u001b[0m\u001b[0;34m\u001b[0m\u001b[0m\n\u001b[0;32m-> 1443\u001b[0;31m             raise KeyError(\n\u001b[0m\u001b[1;32m   1444\u001b[0m                 'There is no item named %r in the archive' % name)\n\u001b[1;32m   1445\u001b[0m \u001b[0;34m\u001b[0m\u001b[0m\n",
            "\u001b[0;31mKeyError\u001b[0m: \"There is no item named '/content/sample_data/README.md' in the archive\""
          ]
        }
      ]
    },
    {
      "cell_type": "markdown",
      "source": [
        "***05 .- Código Pag: 271 - 273***\n",
        "---"
      ],
      "metadata": {
        "id": "ZlacfBmkXp45"
      }
    },
    {
      "cell_type": "code",
      "source": [
        "# 1. Serialización y deserialización básica:\n",
        "import sys\n",
        "import json\n",
        "\n",
        "# Creamos un diccionario con algunos datos numéricos\n",
        "data = {\n",
        " 'big_number': 2 ** 3141,\n",
        " 'max_float': sys.float_info.max,\n",
        " 'a_list': [2, 3, 5, 7],\n",
        "}\n",
        "\n",
        "# Serializamos el diccionario a formato JSON\n",
        "json_data = json.dumps(data)\n",
        "\n",
        "# Deserializamos el formato JSON de nuevo a un diccionario de Python\n",
        "data_out = json.loads(json_data)\n",
        "\n",
        "# Verificamos que la data original y la deserializada son idénticas\n",
        "assert data == data_out"
      ],
      "metadata": {
        "id": "5jzuuJI45LPc"
      },
      "execution_count": null,
      "outputs": []
    },
    {
      "cell_type": "code",
      "source": [
        "# 2. Formato amigable del JSON:\n",
        "import json\n",
        "\n",
        "# Creamos un diccionario con información\n",
        "info = {\n",
        " 'full_name': 'Sherlock Holmes',\n",
        " 'address': {\n",
        " 'street': '221B Baker St',\n",
        " 'zip': 'NW1 6XE',\n",
        " 'city': 'London',\n",
        " 'country': 'UK',\n",
        " }\n",
        "}\n",
        "\n",
        "# Imprimimos el diccionario en un formato JSON amigable\n",
        "print(json.dumps(info, indent=2, sort_keys=True))\n"
      ],
      "metadata": {
        "colab": {
          "base_uri": "https://localhost:8080/"
        },
        "id": "4HGeEphpdLWh",
        "outputId": "e0ece20c-5553-459d-af04-1b535189b6b5"
      },
      "execution_count": null,
      "outputs": [
        {
          "output_type": "stream",
          "name": "stdout",
          "text": [
            "{\n",
            "  \"address\": {\n",
            "    \"city\": \"London\",\n",
            "    \"country\": \"UK\",\n",
            "    \"street\": \"221B Baker St\",\n",
            "    \"zip\": \"NW1 6XE\"\n",
            "  },\n",
            "  \"full_name\": \"Sherlock Holmes\"\n",
            "}\n"
          ]
        }
      ]
    },
    {
      "cell_type": "code",
      "source": [
        "# 3. Trabajando con tuplas en JSON:\n",
        "import json\n",
        "\n",
        "# Creamos un diccionario que contiene una tupla\n",
        "data_in = {\n",
        " 'a_tuple': (1, 2, 3, 4, 5),\n",
        "}\n",
        "\n",
        "# Serializamos el diccionario a formato JSON\n",
        "json_data = json.dumps(data_in)\n",
        "print(json_data)  # {\"a_tuple\": [1, 2, 3, 4, 5]}\n",
        "\n",
        "# Deserializamos el formato JSON de nuevo a un diccionario de Python\n",
        "data_out = json.loads(json_data)\n",
        "print(data_out)  # {'a_tuple': [1, 2, 3, 4, 5]}\n"
      ],
      "metadata": {
        "colab": {
          "base_uri": "https://localhost:8080/"
        },
        "id": "gVjzuzdTdLcj",
        "outputId": "ee27d7a9-c1d1-4765-a046-7d7834b193a1"
      },
      "execution_count": null,
      "outputs": [
        {
          "output_type": "stream",
          "name": "stdout",
          "text": [
            "{\"a_tuple\": [1, 2, 3, 4, 5]}\n",
            "{'a_tuple': [1, 2, 3, 4, 5]}\n"
          ]
        }
      ]
    },
    {
      "cell_type": "markdown",
      "source": [
        "***06 .- Código Pag: 273 - 278***\n",
        "---"
      ],
      "metadata": {
        "id": "eeesXZ3IXrLb"
      }
    },
    {
      "cell_type": "code",
      "source": [
        "# 1. Serialización de Números Complejos:\n",
        "import json\n",
        "\n",
        "# Definimos un codificador personalizado para números complejos.\n",
        "class ComplexEncoder(json.JSONEncoder):\n",
        "    def default(self, obj):\n",
        "        # Si el objeto es un número complejo, lo serializamos de una manera personalizada.\n",
        "        if isinstance(obj, complex):\n",
        "            return {\n",
        "                '_meta': '_complex',  # Usamos metadatos para identificarlo más tarde.\n",
        "                'num': [obj.real, obj.imag],  # Almacenamos las partes reales e imaginarias.\n",
        "            }\n",
        "        # Si no podemos manejar el objeto, llamamos al método predeterminado de la superclase.\n",
        "        return super().default(obj)\n",
        "\n",
        "data = {\n",
        "    'an_int': 42,\n",
        "    'a_float': 3.14159265,\n",
        "    'a_complex': 3 + 4j,  # Número complejo.\n",
        "}\n",
        "\n",
        "# Serializamos el diccionario utilizando nuestro codificador personalizado.\n",
        "json_data = json.dumps(data, cls=ComplexEncoder)\n",
        "print(json_data)  # La parte compleja estará en formato personalizado.\n",
        "\n",
        "# Función personalizada para deserializar el número complejo.\n",
        "def object_hook(obj):\n",
        "    if obj.get('_meta') == '_complex':\n",
        "        return complex(*obj['num'])  # Convertimos las partes reales e imaginarias de nuevo en un número complejo.\n",
        "    return obj\n",
        "\n",
        "data_out = json.loads(json_data, object_hook=object_hook)\n",
        "print(data_out)  # El número complejo se habrá reconstruido correctamente.\n"
      ],
      "metadata": {
        "id": "SiHWRRhN5M1C",
        "colab": {
          "base_uri": "https://localhost:8080/"
        },
        "outputId": "4d84b019-4df5-47e0-924e-427b6e67af22"
      },
      "execution_count": null,
      "outputs": [
        {
          "output_type": "stream",
          "name": "stdout",
          "text": [
            "{\"an_int\": 42, \"a_float\": 3.14159265, \"a_complex\": {\"_meta\": \"_complex\", \"num\": [3.0, 4.0]}}\n",
            "{'an_int': 42, 'a_float': 3.14159265, 'a_complex': (3+4j)}\n"
          ]
        }
      ]
    },
    {
      "cell_type": "code",
      "source": [
        "# 2. Serialización de objetos Datetime:\n",
        "from datetime import datetime, timedelta, timezone\n",
        "\n",
        "# Codificador personalizado para objetos datetime.\n",
        "class DatetimeEncoder(json.JSONEncoder):\n",
        "    def default(self, obj):\n",
        "        if isinstance(obj, datetime):\n",
        "            try:\n",
        "                off = obj.utcoffset().seconds\n",
        "            except AttributeError:\n",
        "                off = None\n",
        "            return {\n",
        "                '_meta': '_datetime',  # Metadatos.\n",
        "                'data': obj.timetuple()[:6] + (obj.microsecond, ),  # Datos de fecha y hora.\n",
        "                'utcoffset': off,  # Offset de zona horaria.\n",
        "            }\n",
        "        return super().default(obj)\n",
        "\n",
        "data = {\n",
        "    'an_int': 42,\n",
        "    'a_float': 3.14159265,\n",
        "    'a_datetime': datetime.now(),  # Fecha y hora actuales.\n",
        "    'a_datetime_tz': datetime.now(tz=timezone(timedelta(hours=1))),  # Fecha y hora actuales con zona horaria.\n",
        "}\n",
        "\n",
        "json_data = json.dumps(data, cls=DatetimeEncoder)\n",
        "print(json_data)  # Los objetos datetime estarán en formato personalizado.\n",
        "\n",
        "# Función personalizada para deserializar objetos datetime.\n",
        "def object_hook(obj):\n",
        "    if obj.get('_meta') == '_datetime':\n",
        "        if obj['utcoffset'] is None:\n",
        "            tz = None\n",
        "        else:\n",
        "            tz = timezone(timedelta(seconds=obj['utcoffset']))\n",
        "        return datetime(*obj['data'], tzinfo=tz)  # Convertimos los datos de nuevo en un objeto datetime.\n",
        "    return obj\n",
        "\n",
        "data_out = json.loads(json_data, object_hook=object_hook)\n",
        "print(data_out)  # Los objetos datetime se habrán reconstruido correctamente.\n"
      ],
      "metadata": {
        "colab": {
          "base_uri": "https://localhost:8080/"
        },
        "id": "9n0VRUy-esUM",
        "outputId": "ae720d5e-b533-42de-c768-62b86398912c"
      },
      "execution_count": null,
      "outputs": [
        {
          "output_type": "stream",
          "name": "stdout",
          "text": [
            "{\"an_int\": 42, \"a_float\": 3.14159265, \"a_datetime\": {\"_meta\": \"_datetime\", \"data\": [2023, 9, 13, 16, 58, 48, 492845], \"utcoffset\": null}, \"a_datetime_tz\": {\"_meta\": \"_datetime\", \"data\": [2023, 9, 13, 17, 58, 48, 492861], \"utcoffset\": 3600}}\n",
            "{'an_int': 42, 'a_float': 3.14159265, 'a_datetime': datetime.datetime(2023, 9, 13, 16, 58, 48, 492845), 'a_datetime_tz': datetime.datetime(2023, 9, 13, 17, 58, 48, 492861, tzinfo=datetime.timezone(datetime.timedelta(seconds=3600)))}\n"
          ]
        }
      ]
    },
    {
      "cell_type": "markdown",
      "source": [
        "***07 .- Código Pag: 279 - 282***\n",
        "---"
      ],
      "metadata": {
        "id": "yTRS_F4_Xsbz"
      }
    },
    {
      "cell_type": "code",
      "source": [
        "# 1. Realizar solicitudes HTTP con requests a httpbin.org\n",
        "import requests\n",
        "\n",
        "# Diccionario de URLs a las que se realizarán las solicitudes\n",
        "urls = {\n",
        "    \"get\": \"https://httpbin.org/get?t=learn+python+programming\",\n",
        "    \"headers\": \"https://httpbin.org/headers\",\n",
        "    \"ip\": \"https://httpbin.org/ip\",\n",
        "    \"user-agent\": \"https://httpbin.org/user-agent\",\n",
        "    \"UUID\": \"https://httpbin.org/uuid\",\n",
        "    \"JSON\": \"https://httpbin.org/json\",\n",
        "}\n",
        "\n",
        "# Función que realiza una solicitud GET a una URL y muestra la respuesta\n",
        "def get_content(title, url):\n",
        "    resp = requests.get(url)  # Realiza la solicitud GET\n",
        "    print(f\"Response for {title}\")\n",
        "    print(resp.json())  # Imprime la respuesta en formato JSON\n",
        "\n",
        "# Itera sobre las URLs y realiza las solicitudes\n",
        "for title, url in urls.items():\n",
        "    get_content(title, url)\n",
        "    print(\"-\" * 40)  # Línea divisoria\n"
      ],
      "metadata": {
        "id": "1VdrkSxB5Opj",
        "colab": {
          "base_uri": "https://localhost:8080/"
        },
        "outputId": "d61e3b93-655f-422d-b936-9da30ac42b58"
      },
      "execution_count": null,
      "outputs": [
        {
          "output_type": "stream",
          "name": "stdout",
          "text": [
            "Response for get\n",
            "{'args': {'t': 'learn python programming'}, 'headers': {'Accept': '*/*', 'Accept-Encoding': 'gzip, deflate', 'Host': 'httpbin.org', 'User-Agent': 'python-requests/2.31.0', 'X-Amzn-Trace-Id': 'Root=1-6501eb20-3124009a73b1d93419262c63'}, 'origin': '34.86.69.87', 'url': 'https://httpbin.org/get?t=learn+python+programming'}\n",
            "----------------------------------------\n",
            "Response for headers\n",
            "{'headers': {'Accept': '*/*', 'Accept-Encoding': 'gzip, deflate', 'Host': 'httpbin.org', 'User-Agent': 'python-requests/2.31.0', 'X-Amzn-Trace-Id': 'Root=1-6501eb21-64f2f17866203d2126db0c3a'}}\n",
            "----------------------------------------\n",
            "Response for ip\n",
            "{'origin': '34.86.69.87'}\n",
            "----------------------------------------\n",
            "Response for user-agent\n",
            "{'user-agent': 'python-requests/2.31.0'}\n",
            "----------------------------------------\n",
            "Response for UUID\n",
            "{'uuid': 'a27bb257-6afd-471e-a040-c224ce5f86f8'}\n",
            "----------------------------------------\n",
            "Response for JSON\n",
            "{'slideshow': {'author': 'Yours Truly', 'date': 'date of publication', 'slides': [{'title': 'Wake up to WonderWidgets!', 'type': 'all'}, {'items': ['Why <em>WonderWidgets</em> are great', 'Who <em>buys</em> WonderWidgets'], 'title': 'Overview', 'type': 'all'}], 'title': 'Sample Slide Show'}}\n",
            "----------------------------------------\n"
          ]
        }
      ]
    },
    {
      "cell_type": "code",
      "source": [
        "# 2. Realizar una solicitud POST con requests a httpbin.org\n",
        "import requests\n",
        "\n",
        "# URL donde se realizará la solicitud POST\n",
        "url = 'https://httpbin.org/post'\n",
        "# Datos que se enviarán en la solicitud POST\n",
        "data = dict(title='Learn Python Programming')\n",
        "\n",
        "# Realiza la solicitud POST\n",
        "resp = requests.post(url, data=data)\n",
        "\n",
        "print('Response for POST')\n",
        "print(resp.json())  # Imprime la respuesta en formato JSON\n"
      ],
      "metadata": {
        "colab": {
          "base_uri": "https://localhost:8080/"
        },
        "id": "yT8K-wW0fnUq",
        "outputId": "cba98eb1-4c46-4014-f6d5-cb5bedb43452"
      },
      "execution_count": null,
      "outputs": [
        {
          "output_type": "stream",
          "name": "stdout",
          "text": [
            "Response for POST\n",
            "{'args': {}, 'data': '', 'files': {}, 'form': {'title': 'Learn Python Programming'}, 'headers': {'Accept': '*/*', 'Accept-Encoding': 'gzip, deflate', 'Content-Length': '30', 'Content-Type': 'application/x-www-form-urlencoded', 'Host': 'httpbin.org', 'User-Agent': 'python-requests/2.31.0', 'X-Amzn-Trace-Id': 'Root=1-6501eb43-0f8d087653d8631978aef077'}, 'json': None, 'origin': '34.86.69.87', 'url': 'https://httpbin.org/post'}\n"
          ]
        }
      ]
    },
    {
      "cell_type": "markdown",
      "source": [
        "***08 .- Código Pag: 285 - 286***\n",
        "---"
      ],
      "metadata": {
        "id": "uTeaYfXeXt58"
      }
    },
    {
      "cell_type": "code",
      "source": [
        "# 1. Uso básico de shelve\n",
        "import shelve\n",
        "\n",
        "class Person:\n",
        "    def __init__(self, name, id):\n",
        "        self.name = name\n",
        "        self.id = id\n",
        "\n",
        "with shelve.open('shelf1.shelve') as db:\n",
        "    # Almacenando objetos en el shelve\n",
        "    db['obi1'] = Person('Obi-Wan', 123)\n",
        "    db['ani'] = Person('Anakin', 456)\n",
        "    db['a_list'] = [2, 3, 5]\n",
        "    db['delete_me'] = 'we will have to delete this one...'\n",
        "\n",
        "    # Mostrando las claves en el shelve\n",
        "    print(list(db.keys()))  # ['obi1', 'ani', 'a_list', 'delete_me']\n",
        "\n",
        "    # Eliminando un objeto del shelve\n",
        "    del db['delete_me']\n",
        "\n",
        "    # Verificando la eliminación\n",
        "    print(list(db.keys()))  # ['obi1', 'ani', 'a_list']\n",
        "    print('delete_me' in db)  # False\n",
        "\n",
        "    # Modificando un objeto almacenado\n",
        "    a_list = db['a_list']\n",
        "    a_list.append(7)\n",
        "    db['a_list'] = a_list\n",
        "    print(db['a_list'])  # [2, 3, 5, 7]\n"
      ],
      "metadata": {
        "id": "rGfHj1Xp5P07",
        "colab": {
          "base_uri": "https://localhost:8080/"
        },
        "outputId": "24341b83-8dfe-4d9d-9879-5a241bbb1ce2"
      },
      "execution_count": null,
      "outputs": [
        {
          "output_type": "stream",
          "name": "stdout",
          "text": [
            "['a_list', 'ani', 'delete_me', 'obi1']\n",
            "['a_list', 'ani', 'obi1']\n",
            "False\n",
            "[2, 3, 5, 7]\n"
          ]
        }
      ]
    },
    {
      "cell_type": "code",
      "source": [
        "# 2. Usando la característica writeback de shelve\n",
        "with shelve.open('shelf2.shelve', writeback=True) as db:\n",
        "    db['a_list'] = [11, 13, 17]\n",
        "\n",
        "    # Modificando el objeto en el shelve directamente\n",
        "    db['a_list'].append(19)\n",
        "    print(db['a_list'])  # [11, 13, 17, 19]\n"
      ],
      "metadata": {
        "colab": {
          "base_uri": "https://localhost:8080/"
        },
        "id": "so17eTtxhFJT",
        "outputId": "e3d36881-2061-4099-d050-b70615ff7df0"
      },
      "execution_count": null,
      "outputs": [
        {
          "output_type": "stream",
          "name": "stdout",
          "text": [
            "[11, 13, 17, 19]\n"
          ]
        }
      ]
    },
    {
      "cell_type": "markdown",
      "source": [
        "***09 .- Código Pag: 283 - 284***\n",
        "---"
      ],
      "metadata": {
        "id": "s6tsVbE8XvCT"
      }
    },
    {
      "cell_type": "code",
      "source": [
        "import pickle\n",
        "from dataclasses import dataclass\n",
        "\n",
        "# Se define una clase `Person` usando el decorador `dataclass`\n",
        "@dataclass\n",
        "class Person:\n",
        "    first_name: str\n",
        "    last_name: str\n",
        "    id: int\n",
        "\n",
        "    def greet(self):\n",
        "        print(f'Hi, I am {self.first_name} {self.last_name}' f' and my ID is {self.id}')\n",
        "\n",
        "# Se crea una lista de instancias de `Person`\n",
        "people = [\n",
        "    Person('Obi-Wan', 'Kenobi', 123),\n",
        "    Person('Anakin', 'Skywalker', 456),\n",
        "]\n",
        "\n",
        "# Se guarda la lista en formato binario en un archivo usando `pickle.dump()`\n",
        "with open('data.pickle', 'wb') as stream:\n",
        "    pickle.dump(people, stream)\n",
        "\n",
        "# Se carga la lista desde el archivo usando `pickle.load()`\n",
        "with open('data.pickle', 'rb') as stream:\n",
        "    peeps = pickle.load(stream)\n",
        "\n",
        "# Se comprueba que los objetos han sido deserializados correctamente\n",
        "for person in peeps:\n",
        "    person.greet()\n"
      ],
      "metadata": {
        "id": "2jTJQzRZ5QxJ",
        "colab": {
          "base_uri": "https://localhost:8080/"
        },
        "outputId": "4340a137-7233-473b-8615-4bbeca655a4e"
      },
      "execution_count": null,
      "outputs": [
        {
          "output_type": "stream",
          "name": "stdout",
          "text": [
            "Hi, I am Obi-Wan Kenobi and my ID is 123\n",
            "Hi, I am Anakin Skywalker and my ID is 456\n"
          ]
        }
      ]
    },
    {
      "cell_type": "markdown",
      "source": [
        "***10 .- Código Pag: 278 - 279***\n",
        "---"
      ],
      "metadata": {
        "id": "qz0NjrigXwCe"
      }
    },
    {
      "cell_type": "code",
      "source": [
        "pip install requests"
      ],
      "metadata": {
        "colab": {
          "base_uri": "https://localhost:8080/"
        },
        "id": "pAseV1VFjv2o",
        "outputId": "023f0931-e834-4aa4-f121-d62ba21daf86"
      },
      "execution_count": null,
      "outputs": [
        {
          "output_type": "stream",
          "name": "stdout",
          "text": [
            "Requirement already satisfied: requests in /usr/local/lib/python3.10/dist-packages (2.31.0)\n",
            "Requirement already satisfied: charset-normalizer<4,>=2 in /usr/local/lib/python3.10/dist-packages (from requests) (3.2.0)\n",
            "Requirement already satisfied: idna<4,>=2.5 in /usr/local/lib/python3.10/dist-packages (from requests) (3.4)\n",
            "Requirement already satisfied: urllib3<3,>=1.21.1 in /usr/local/lib/python3.10/dist-packages (from requests) (2.0.4)\n",
            "Requirement already satisfied: certifi>=2017.4.17 in /usr/local/lib/python3.10/dist-packages (from requests) (2023.7.22)\n"
          ]
        }
      ]
    },
    {
      "cell_type": "code",
      "source": [
        "# io_examples/reqs.py\n",
        "import requests\n",
        "\n",
        "# Definimos un diccionario de URLs a las que queremos hacer solicitudes HTTP\n",
        "urls = {\n",
        "    \"get\": \"https://httpbin.org/get?t=aprender+programacion+python\",\n",
        "    \"headers\": \"https://httpbin.org/headers\",\n",
        "    \"ip\": \"https://httpbin.org/ip\",\n",
        "    \"user-agent\": \"https://httpbin.org/user-agent\",\n",
        "    \"UUID\": \"https://httpbin.org/uuid\",\n",
        "    \"JSON\": \"https://httpbin.org/json\",\n",
        "}\n",
        "\n",
        "# Función para realizar solicitudes HTTP e imprimir la respuesta\n",
        "def obtener_contenido(titulo, url):\n",
        "    respuesta = requests.get(url)\n",
        "    print(f\"Respuesta para {titulo}\")\n",
        "    print(respuesta.json())\n",
        "\n",
        "# Iteramos a través de las URLs y hacemos solicitudes HTTP\n",
        "for titulo, url in urls.items():\n",
        "    obtener_contenido(titulo, url)\n",
        "    print(\"-\" * 40)\n"
      ],
      "metadata": {
        "colab": {
          "base_uri": "https://localhost:8080/"
        },
        "id": "k5Ua14vzj0qr",
        "outputId": "af77e9b6-3b15-4566-c73b-c6d2dccc479e"
      },
      "execution_count": null,
      "outputs": [
        {
          "output_type": "stream",
          "name": "stdout",
          "text": [
            "Respuesta para get\n",
            "{'args': {'t': 'aprender programacion python'}, 'headers': {'Accept': '*/*', 'Accept-Encoding': 'gzip, deflate', 'Host': 'httpbin.org', 'User-Agent': 'python-requests/2.31.0', 'X-Amzn-Trace-Id': 'Root=1-6501f536-6356c3732a434d5a23a2fc07'}, 'origin': '34.86.69.87', 'url': 'https://httpbin.org/get?t=aprender+programacion+python'}\n",
            "----------------------------------------\n",
            "Respuesta para headers\n",
            "{'headers': {'Accept': '*/*', 'Accept-Encoding': 'gzip, deflate', 'Host': 'httpbin.org', 'User-Agent': 'python-requests/2.31.0', 'X-Amzn-Trace-Id': 'Root=1-6501f536-33c2b151422a740565b9b19c'}}\n",
            "----------------------------------------\n",
            "Respuesta para ip\n",
            "{'origin': '34.86.69.87'}\n",
            "----------------------------------------\n",
            "Respuesta para user-agent\n",
            "{'user-agent': 'python-requests/2.31.0'}\n",
            "----------------------------------------\n",
            "Respuesta para UUID\n",
            "{'uuid': '75156faf-22a5-4ef5-954e-9328de021d67'}\n",
            "----------------------------------------\n",
            "Respuesta para JSON\n",
            "{'slideshow': {'author': 'Yours Truly', 'date': 'date of publication', 'slides': [{'title': 'Wake up to WonderWidgets!', 'type': 'all'}, {'items': ['Why <em>WonderWidgets</em> are great', 'Who <em>buys</em> WonderWidgets'], 'title': 'Overview', 'type': 'all'}], 'title': 'Sample Slide Show'}}\n",
            "----------------------------------------\n"
          ]
        }
      ]
    }
  ]
}