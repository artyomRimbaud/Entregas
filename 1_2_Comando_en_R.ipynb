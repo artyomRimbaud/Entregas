{
  "nbformat": 4,
  "nbformat_minor": 0,
  "metadata": {
    "colab": {
      "provenance": [],
      "authorship_tag": "ABX9TyMYfkQk6wYhL76KhIo28jwY",
      "include_colab_link": true
    },
    "kernelspec": {
      "name": "ir",
      "display_name": "R"
    },
    "language_info": {
      "name": "R"
    }
  },
  "cells": [
    {
      "cell_type": "markdown",
      "metadata": {
        "id": "view-in-github",
        "colab_type": "text"
      },
      "source": [
        "<a href=\"https://colab.research.google.com/github/artyomRimbaud/Entregas/blob/main/1_2_Comando_en_R.ipynb\" target=\"_parent\"><img src=\"https://colab.research.google.com/assets/colab-badge.svg\" alt=\"Open In Colab\"/></a>"
      ]
    },
    {
      "cell_type": "markdown",
      "source": [
        "# **Instituto Politécnico Nacional**\n",
        "## **Unidad Profesional Interdisciplinaria de Ingeniería Campus Coahuila**\n",
        "---\n",
        "**Nombre:** Juan Carlos Hernandez Rodriguez  \n",
        "**Carrera:** Licenciatura en Ciencia de Datos  \n",
        "**Séptimo Semestre**\n",
        "---\n",
        "**Materia:** Protección de Datos  \n",
        "**Docente:** Jessica Sarahí Méndez Rincón  \n",
        "San Buenaventura, Coahuila a **12 de Octubre del 2023**"
      ],
      "metadata": {
        "id": "_joydU8BYun-"
      }
    },
    {
      "cell_type": "markdown",
      "source": [
        "# **Documento \"1.2 Comando en R book**.[`PDF`](https://drive.google.com/file/d/1O_BOyhJk_2CJLfI3ImnSzgzNPdEk57Vk/view)\"\n"
      ],
      "metadata": {
        "id": "ZIMeDfEJZKc_"
      }
    },
    {
      "cell_type": "markdown",
      "source": [
        "### **1.4 Búsqueda de información adicional**"
      ],
      "metadata": {
        "id": "ri2UU-nWZztv"
      }
    },
    {
      "cell_type": "code",
      "execution_count": null,
      "metadata": {
        "id": "cADT19ohReHJ"
      },
      "outputs": [],
      "source": [
        "# Acceso a la ayuda de R\n",
        "# Puedes usar la función help() o el signo de interrogación (?) para acceder a la ayuda integrada de R.\n",
        "\n",
        "# Ejemplos de acceso a la ayuda:\n",
        "help(\"sum\")  # Muestra la página de ayuda para la función 'sum'.\n",
        "?sum         # Lo mismo que el anterior, usando el signo de interrogación."
      ]
    },
    {
      "cell_type": "code",
      "source": [
        "# Prueba de acceso a la ayuda para otras funciones:\n",
        "help(\"mean\")    # Muestra la ayuda para la función 'mean'.\n",
        "help(\"var\")     # Muestra la ayuda para la función 'var'.\n",
        "help(\"plot\")    # Muestra la ayuda para la función 'plot'.\n",
        "help(\"help\")    # Muestra la ayuda para la función 'help' en sí misma."
      ],
      "metadata": {
        "id": "AW5YW99dWaIW"
      },
      "execution_count": null,
      "outputs": []
    },
    {
      "cell_type": "code",
      "source": [
        "# Citando R y paquetes\n",
        "# Es importante citar tanto el lenguaje R como los paquetes que utilizas en tu trabajo. Puedes usar la función citation().\n",
        "\n",
        "# Citando R:\n",
        "citation()  # Proporciona la cita adecuada para la versión de R que estás utilizando.\n",
        "\n",
        "# Citando un paquete específico (reemplaza 'nombre_del_paquete' por el nombre real del paquete):\n",
        "citation(\"nombre_del_paquete\")  # Proporciona la cita adecuada para un paquete específico.\n",
        "\n",
        "# La cita adecuada es importante al utilizar R y paquetes en tus publicaciones y proyectos."
      ],
      "metadata": {
        "id": "1lgBr6L4aHTP"
      },
      "execution_count": null,
      "outputs": []
    },
    {
      "cell_type": "markdown",
      "source": [
        "### **2.3 Valores numéricos y aritmética**"
      ],
      "metadata": {
        "id": "eLZqHZGak69H"
      }
    },
    {
      "cell_type": "code",
      "source": [
        "# Esta es una suma simple.\n",
        "1 + 1\n",
        "# Resultado esperado: 2\n",
        "\n",
        "# Una multiplicación simple.\n",
        "2 * 2\n",
        "# Resultado esperado: 4\n",
        "\n",
        "# Aquí, la división tiene prioridad sobre la suma.\n",
        "2 + 10 / 5\n",
        "# Resultado esperado: 4 (porque 10/5 es 2, luego sumamos 2)\n",
        "\n",
        "# Usando paréntesis, cambiamos el orden de las operaciones.\n",
        "(2 + 10) / 5\n",
        "# Resultado esperado: 2.4 (primero sumamos para obtener 12, luego lo dividimos por 5)\n",
        "\n",
        "# Potenciación: 10 al cuadrado más 1.\n",
        "10^2 + 1\n",
        "# Resultado esperado: 101\n",
        "\n",
        "# Función raíz cuadrada.\n",
        "sqrt(9)\n",
        "# Resultado esperado: 3 (porque la raíz cuadrada de 9 es 3)\n",
        "\n",
        "# Mostrar el valor de pi.\n",
        "# Sin embargo, cuando simplemente escribes \"pi\", R no muestra toda la precisión de pi.\n",
        "pi\n",
        "# Resultado esperado: 3.1415927 (podría variar un poco según la configuración)\n",
        "\n",
        "# Para ver pi con mayor precisión, podemos usar la función print.\n",
        "print(pi, digits = 22)\n",
        "\n",
        "# Aquí hay una peculiaridad: el seno de pi debería ser 0 en matemáticas,\n",
        "# pero debido a la precisión finita en la computación, puede no ser exactamente 0.\n",
        "sin(pi)\n",
        "\n",
        "# Logaritmo natural de 100.\n",
        "log(100)\n",
        "# Resultado esperado: 4.6051702 (podría variar un poco)\n",
        "\n",
        "# Logaritmo base 10 de 100.\n",
        "log10(100)\n",
        "# Resultado esperado: 2\n",
        "\n",
        "# Logaritmo base 2 de 8.\n",
        "log2(8)\n",
        "# Resultado esperado: 3\n",
        "\n",
        "# La función exponencial e^1 (e elevado a la potencia de 1).\n",
        "exp(1)\n",
        "# Resultado esperado: 2.7182818 (podría variar un poco)\n"
      ],
      "metadata": {
        "colab": {
          "base_uri": "https://localhost:8080/",
          "height": 243
        },
        "id": "jG8bJaUiaHV6",
        "outputId": "0fb77a5c-de05-410c-9e27-947418de7560"
      },
      "execution_count": null,
      "outputs": [
        {
          "output_type": "display_data",
          "data": {
            "text/html": [
              "2"
            ],
            "text/markdown": "2",
            "text/latex": "2",
            "text/plain": [
              "[1] 2"
            ]
          },
          "metadata": {}
        },
        {
          "output_type": "display_data",
          "data": {
            "text/html": [
              "4"
            ],
            "text/markdown": "4",
            "text/latex": "4",
            "text/plain": [
              "[1] 4"
            ]
          },
          "metadata": {}
        },
        {
          "output_type": "display_data",
          "data": {
            "text/html": [
              "4"
            ],
            "text/markdown": "4",
            "text/latex": "4",
            "text/plain": [
              "[1] 4"
            ]
          },
          "metadata": {}
        },
        {
          "output_type": "display_data",
          "data": {
            "text/html": [
              "2.4"
            ],
            "text/markdown": "2.4",
            "text/latex": "2.4",
            "text/plain": [
              "[1] 2.4"
            ]
          },
          "metadata": {}
        },
        {
          "output_type": "display_data",
          "data": {
            "text/html": [
              "101"
            ],
            "text/markdown": "101",
            "text/latex": "101",
            "text/plain": [
              "[1] 101"
            ]
          },
          "metadata": {}
        },
        {
          "output_type": "display_data",
          "data": {
            "text/html": [
              "3"
            ],
            "text/markdown": "3",
            "text/latex": "3",
            "text/plain": [
              "[1] 3"
            ]
          },
          "metadata": {}
        },
        {
          "output_type": "display_data",
          "data": {
            "text/html": [
              "3.14159265358979"
            ],
            "text/markdown": "3.14159265358979",
            "text/latex": "3.14159265358979",
            "text/plain": [
              "[1] 3.141593"
            ]
          },
          "metadata": {}
        },
        {
          "output_type": "stream",
          "name": "stdout",
          "text": [
            "[1] 3.141592653589793115998\n"
          ]
        },
        {
          "output_type": "display_data",
          "data": {
            "text/html": [
              "1.22464679914735e-16"
            ],
            "text/markdown": "1.22464679914735e-16",
            "text/latex": "1.22464679914735e-16",
            "text/plain": [
              "[1] 1.224647e-16"
            ]
          },
          "metadata": {}
        },
        {
          "output_type": "display_data",
          "data": {
            "text/html": [
              "4.60517018598809"
            ],
            "text/markdown": "4.60517018598809",
            "text/latex": "4.60517018598809",
            "text/plain": [
              "[1] 4.60517"
            ]
          },
          "metadata": {}
        },
        {
          "output_type": "display_data",
          "data": {
            "text/html": [
              "2"
            ],
            "text/markdown": "2",
            "text/latex": "2",
            "text/plain": [
              "[1] 2"
            ]
          },
          "metadata": {}
        },
        {
          "output_type": "display_data",
          "data": {
            "text/html": [
              "3"
            ],
            "text/markdown": "3",
            "text/latex": "3",
            "text/plain": [
              "[1] 3"
            ]
          },
          "metadata": {}
        },
        {
          "output_type": "display_data",
          "data": {
            "text/html": [
              "2.71828182845905"
            ],
            "text/markdown": "2.71828182845905",
            "text/latex": "2.71828182845905",
            "text/plain": [
              "[1] 2.718282"
            ]
          },
          "metadata": {}
        }
      ]
    },
    {
      "cell_type": "code",
      "source": [
        "# Encadenamiento de asignaciones: todas las variables (a, b, c) reciben el valor 0.0\n",
        "a <- b <- c <- 0.0\n",
        "a  # Se espera que devuelva 0.0\n",
        "b  # Se espera que devuelva 0.0\n",
        "c  # Se espera que devuelva 0.0\n",
        "\n",
        "# Usando el operador de asignación \"hacia atrás\"\n",
        "1 -> a\n",
        "a  # Se espera que devuelva 1\n",
        "\n",
        "# Usando el signo igual para la asignación\n",
        "a = 3\n",
        "a  # Se espera que devuelva 3\n"
      ],
      "metadata": {
        "colab": {
          "base_uri": "https://localhost:8080/",
          "height": 104
        },
        "id": "3o0XLVjkaHZ6",
        "outputId": "888047ee-e407-4e53-fd6e-5625bc554217"
      },
      "execution_count": null,
      "outputs": [
        {
          "output_type": "display_data",
          "data": {
            "text/html": [
              "0"
            ],
            "text/markdown": "0",
            "text/latex": "0",
            "text/plain": [
              "[1] 0"
            ]
          },
          "metadata": {}
        },
        {
          "output_type": "display_data",
          "data": {
            "text/html": [
              "0"
            ],
            "text/markdown": "0",
            "text/latex": "0",
            "text/plain": [
              "[1] 0"
            ]
          },
          "metadata": {}
        },
        {
          "output_type": "display_data",
          "data": {
            "text/html": [
              "0"
            ],
            "text/markdown": "0",
            "text/latex": "0",
            "text/plain": [
              "[1] 0"
            ]
          },
          "metadata": {}
        },
        {
          "output_type": "display_data",
          "data": {
            "text/html": [
              "1"
            ],
            "text/markdown": "1",
            "text/latex": "1",
            "text/plain": [
              "[1] 1"
            ]
          },
          "metadata": {}
        },
        {
          "output_type": "display_data",
          "data": {
            "text/html": [
              "3"
            ],
            "text/markdown": "3",
            "text/latex": "3",
            "text/plain": [
              "[1] 3"
            ]
          },
          "metadata": {}
        }
      ]
    },
    {
      "cell_type": "code",
      "source": [
        "# Operador \":\": Este operador se utiliza para crear secuencias simples de números. Genera una secuencia de números desde el primer número hasta el segundo.\n",
        "\n",
        "a <- -1:5  # Crea una secuencia desde -1 hasta 5.\n",
        "# Resultado esperado: a = (-1, 0, 1, 2, 3, 4, 5)\n",
        "\n",
        "b <- 5:-1  # Crea una secuencia desde 5 hasta -1.\n",
        "# Resultado esperado: b = (5, 4, 3, 2, 1, 0, -1)\n",
        "\n",
        "a\n",
        "b\n",
        "\n",
        "# Función \"seq()\": Esta función es una forma más versátil de generar secuencias de números. Tiene varios argumentos que puedes usar para especificar cómo se debe generar la secuencia.\n",
        "\n",
        "c <- seq(from = -1, to = 1, by = 0.1)\n",
        "# Crea una secuencia que comienza en -1, termina en 1 e incrementa en 0.1.\n",
        "# Resultado esperado: c = (-1, -0.9, -0.8, ..., 0.8, 0.9, 1)\n",
        "\n",
        "c\n",
        "\n",
        "# Función \"rep()\": Se utiliza para repetir valores. El primer argumento es el valor que deseas repetir, y el segundo argumento es el número de veces que deseas repetirlo.\n",
        "\n",
        "d <- rep(-5, 4)\n",
        "# Repite el valor -5, 4 veces.\n",
        "# Resultado esperado: d = (-5, -5, -5, -5)\n",
        "\n",
        "d"
      ],
      "metadata": {
        "colab": {
          "base_uri": "https://localhost:8080/",
          "height": 86
        },
        "id": "vs87Q6zYaHcj",
        "outputId": "35c43469-6e90-46c4-d849-52ed1de92ac8"
      },
      "execution_count": null,
      "outputs": [
        {
          "output_type": "display_data",
          "data": {
            "text/html": [
              "<style>\n",
              ".list-inline {list-style: none; margin:0; padding: 0}\n",
              ".list-inline>li {display: inline-block}\n",
              ".list-inline>li:not(:last-child)::after {content: \"\\00b7\"; padding: 0 .5ex}\n",
              "</style>\n",
              "<ol class=list-inline><li>-1</li><li>0</li><li>1</li><li>2</li><li>3</li><li>4</li><li>5</li></ol>\n"
            ],
            "text/markdown": "1. -1\n2. 0\n3. 1\n4. 2\n5. 3\n6. 4\n7. 5\n\n\n",
            "text/latex": "\\begin{enumerate*}\n\\item -1\n\\item 0\n\\item 1\n\\item 2\n\\item 3\n\\item 4\n\\item 5\n\\end{enumerate*}\n",
            "text/plain": [
              "[1] -1  0  1  2  3  4  5"
            ]
          },
          "metadata": {}
        },
        {
          "output_type": "display_data",
          "data": {
            "text/html": [
              "<style>\n",
              ".list-inline {list-style: none; margin:0; padding: 0}\n",
              ".list-inline>li {display: inline-block}\n",
              ".list-inline>li:not(:last-child)::after {content: \"\\00b7\"; padding: 0 .5ex}\n",
              "</style>\n",
              "<ol class=list-inline><li>5</li><li>4</li><li>3</li><li>2</li><li>1</li><li>0</li><li>-1</li></ol>\n"
            ],
            "text/markdown": "1. 5\n2. 4\n3. 3\n4. 2\n5. 1\n6. 0\n7. -1\n\n\n",
            "text/latex": "\\begin{enumerate*}\n\\item 5\n\\item 4\n\\item 3\n\\item 2\n\\item 1\n\\item 0\n\\item -1\n\\end{enumerate*}\n",
            "text/plain": [
              "[1]  5  4  3  2  1  0 -1"
            ]
          },
          "metadata": {}
        },
        {
          "output_type": "display_data",
          "data": {
            "text/html": [
              "<style>\n",
              ".list-inline {list-style: none; margin:0; padding: 0}\n",
              ".list-inline>li {display: inline-block}\n",
              ".list-inline>li:not(:last-child)::after {content: \"\\00b7\"; padding: 0 .5ex}\n",
              "</style>\n",
              "<ol class=list-inline><li>-1</li><li>-0.9</li><li>-0.8</li><li>-0.7</li><li>-0.6</li><li>-0.5</li><li>-0.4</li><li>-0.3</li><li>-0.2</li><li>-0.1</li><li>0</li><li>0.1</li><li>0.2</li><li>0.3</li><li>0.4</li><li>0.5</li><li>0.6</li><li>0.7</li><li>0.8</li><li>0.9</li><li>1</li></ol>\n"
            ],
            "text/markdown": "1. -1\n2. -0.9\n3. -0.8\n4. -0.7\n5. -0.6\n6. -0.5\n7. -0.4\n8. -0.3\n9. -0.2\n10. -0.1\n11. 0\n12. 0.1\n13. 0.2\n14. 0.3\n15. 0.4\n16. 0.5\n17. 0.6\n18. 0.7\n19. 0.8\n20. 0.9\n21. 1\n\n\n",
            "text/latex": "\\begin{enumerate*}\n\\item -1\n\\item -0.9\n\\item -0.8\n\\item -0.7\n\\item -0.6\n\\item -0.5\n\\item -0.4\n\\item -0.3\n\\item -0.2\n\\item -0.1\n\\item 0\n\\item 0.1\n\\item 0.2\n\\item 0.3\n\\item 0.4\n\\item 0.5\n\\item 0.6\n\\item 0.7\n\\item 0.8\n\\item 0.9\n\\item 1\n\\end{enumerate*}\n",
            "text/plain": [
              " [1] -1.0 -0.9 -0.8 -0.7 -0.6 -0.5 -0.4 -0.3 -0.2 -0.1  0.0  0.1  0.2  0.3  0.4\n",
              "[16]  0.5  0.6  0.7  0.8  0.9  1.0"
            ]
          },
          "metadata": {}
        },
        {
          "output_type": "display_data",
          "data": {
            "text/html": [
              "<style>\n",
              ".list-inline {list-style: none; margin:0; padding: 0}\n",
              ".list-inline>li {display: inline-block}\n",
              ".list-inline>li:not(:last-child)::after {content: \"\\00b7\"; padding: 0 .5ex}\n",
              "</style>\n",
              "<ol class=list-inline><li>-5</li><li>-5</li><li>-5</li><li>-5</li></ol>\n"
            ],
            "text/markdown": "1. -5\n2. -5\n3. -5\n4. -5\n\n\n",
            "text/latex": "\\begin{enumerate*}\n\\item -5\n\\item -5\n\\item -5\n\\item -5\n\\end{enumerate*}\n",
            "text/plain": [
              "[1] -5 -5 -5 -5"
            ]
          },
          "metadata": {}
        }
      ]
    },
    {
      "cell_type": "code",
      "source": [
        "123 + numeric()  # suma 123 a un vector vacío\n",
        "123 + NA         # suma 123 a un valor no disponible"
      ],
      "metadata": {
        "colab": {
          "base_uri": "https://localhost:8080/",
          "height": 34
        },
        "id": "m8axN2nzl0LP",
        "outputId": "bee5c4d9-1561-4714-9ac9-eadaba1437e6"
      },
      "execution_count": null,
      "outputs": [
        {
          "output_type": "display_data",
          "data": {
            "text/html": [],
            "text/markdown": "",
            "text/latex": "",
            "text/plain": [
              "numeric(0)"
            ]
          },
          "metadata": {}
        },
        {
          "output_type": "display_data",
          "data": {
            "text/html": [
              "&lt;NA&gt;"
            ],
            "text/markdown": "&lt;NA&gt;",
            "text/latex": "<NA>",
            "text/plain": [
              "[1] NA"
            ]
          },
          "metadata": {}
        }
      ]
    },
    {
      "cell_type": "code",
      "source": [
        "# Explorando el primer caso\n",
        "result1 <- 1 * 1000000L\n",
        "print(is.integer(result1))\n",
        "print(is.double(result1))\n",
        "\n",
        "result2 <- result1 * 1000000L\n",
        "print(is.integer(result2))\n",
        "print(is.double(result2))\n",
        "\n",
        "# Explorando el segundo caso\n",
        "result3 <- 1000000L * 1000000L\n",
        "print(is.integer(result3))  # Esto probablemente devolverá FALSE debido a overflow\n",
        "print(is.double(result3))\n",
        "print(is.na(result3))       # Esto probablemente devolverá TRUE debido a overflow\n",
        "\n",
        "result4 <- result3 * 1\n",
        "print(is.integer(result4))\n",
        "print(is.double(result4))\n"
      ],
      "metadata": {
        "id": "xKC3eZRWl0Nv",
        "colab": {
          "base_uri": "https://localhost:8080/"
        },
        "outputId": "9e4f6cb8-1ae2-4e36-c3b0-7e74e78a60a0"
      },
      "execution_count": null,
      "outputs": [
        {
          "output_type": "stream",
          "name": "stdout",
          "text": [
            "[1] FALSE\n",
            "[1] TRUE\n",
            "[1] FALSE\n",
            "[1] TRUE\n"
          ]
        },
        {
          "output_type": "stream",
          "name": "stderr",
          "text": [
            "Warning message in 1000000L * 1000000L:\n",
            "“NAs produced by integer overflow”\n"
          ]
        },
        {
          "output_type": "stream",
          "name": "stdout",
          "text": [
            "[1] TRUE\n",
            "[1] FALSE\n",
            "[1] TRUE\n",
            "[1] FALSE\n",
            "[1] TRUE\n"
          ]
        }
      ]
    },
    {
      "cell_type": "code",
      "source": [
        "# Explorando el primer caso\n",
        "result1 <- 1 * 1000000L\n",
        "print(is.integer(result1))  # FALSE, resultado es double\n",
        "print(is.double(result1))   # TRUE\n",
        "\n",
        "result2 <- result1 * 1000000L\n",
        "print(is.integer(result2))  # FALSE, resultado es double\n",
        "print(is.double(result2))   # TRUE\n",
        "\n",
        "# Explorando el segundo caso\n",
        "result3 <- 1000000L * 1000000L\n",
        "print(is.integer(result3))  # FALSE, debido a desbordamiento, resultado es NA\n",
        "print(is.double(result3))   # FALSE\n",
        "print(is.na(result3))       # TRUE, resultado es NA\n",
        "\n",
        "result4 <- result3 * 1\n",
        "print(is.integer(result4))  # FALSE, resultado es NA\n",
        "print(is.double(result4))   # FALSE\n",
        "print(is.na(result4))       # TRUE, resultado es NA\n"
      ],
      "metadata": {
        "id": "crq3K3-Gl0Pv",
        "colab": {
          "base_uri": "https://localhost:8080/"
        },
        "outputId": "98e944e3-7418-4e4e-fdda-16138948b947"
      },
      "execution_count": null,
      "outputs": [
        {
          "output_type": "stream",
          "name": "stdout",
          "text": [
            "[1] FALSE\n",
            "[1] TRUE\n",
            "[1] FALSE\n",
            "[1] TRUE\n"
          ]
        },
        {
          "output_type": "stream",
          "name": "stderr",
          "text": [
            "Warning message in 1000000L * 1000000L:\n",
            "“NAs produced by integer overflow”\n"
          ]
        },
        {
          "output_type": "stream",
          "name": "stdout",
          "text": [
            "[1] TRUE\n",
            "[1] FALSE\n",
            "[1] TRUE\n",
            "[1] FALSE\n",
            "[1] TRUE\n",
            "[1] TRUE\n"
          ]
        }
      ]
    },
    {
      "cell_type": "markdown",
      "source": [
        "### **2.4 Logical values and Boolean algebra**"
      ],
      "metadata": {
        "id": "zwZx415xtZK4"
      }
    },
    {
      "cell_type": "code",
      "source": [
        "# Vector original\n",
        "x <- c(TRUE, FALSE, TRUE, NA)\n",
        "\n",
        "# Operación lógica con un valor escalar (reciclaje)\n",
        "x & FALSE\n",
        "# [1] FALSE FALSE FALSE FALSE\n",
        "\n",
        "x | TRUE\n",
        "# [1] TRUE TRUE TRUE TRUE\n",
        "\n",
        "# Operación lógica con un vector de diferente longitud (reciclaje)\n",
        "x & c(TRUE, FALSE)\n",
        "# [1]  TRUE FALSE  TRUE  NA\n",
        "\n",
        "x | c(TRUE, FALSE, TRUE)\n",
        "# [1] TRUE TRUE TRUE TRUE\n",
        "\n",
        "# Combinación de vectores de diferentes longitudes\n",
        "y <- c(TRUE, FALSE)\n",
        "\n",
        "x & y\n",
        "# [1]  TRUE FALSE FALSE   NA\n",
        "\n",
        "x | y\n",
        "# [1] TRUE FALSE TRUE  TRUE"
      ],
      "metadata": {
        "id": "RgEcDwRil0RX",
        "colab": {
          "base_uri": "https://localhost:8080/",
          "height": 156
        },
        "outputId": "d2b60aef-25e6-475d-a11a-19bf65e92a13"
      },
      "execution_count": null,
      "outputs": [
        {
          "output_type": "display_data",
          "data": {
            "text/html": [
              "<style>\n",
              ".list-inline {list-style: none; margin:0; padding: 0}\n",
              ".list-inline>li {display: inline-block}\n",
              ".list-inline>li:not(:last-child)::after {content: \"\\00b7\"; padding: 0 .5ex}\n",
              "</style>\n",
              "<ol class=list-inline><li>FALSE</li><li>FALSE</li><li>FALSE</li><li>FALSE</li></ol>\n"
            ],
            "text/markdown": "1. FALSE\n2. FALSE\n3. FALSE\n4. FALSE\n\n\n",
            "text/latex": "\\begin{enumerate*}\n\\item FALSE\n\\item FALSE\n\\item FALSE\n\\item FALSE\n\\end{enumerate*}\n",
            "text/plain": [
              "[1] FALSE FALSE FALSE FALSE"
            ]
          },
          "metadata": {}
        },
        {
          "output_type": "display_data",
          "data": {
            "text/html": [
              "<style>\n",
              ".list-inline {list-style: none; margin:0; padding: 0}\n",
              ".list-inline>li {display: inline-block}\n",
              ".list-inline>li:not(:last-child)::after {content: \"\\00b7\"; padding: 0 .5ex}\n",
              "</style>\n",
              "<ol class=list-inline><li>TRUE</li><li>TRUE</li><li>TRUE</li><li>TRUE</li></ol>\n"
            ],
            "text/markdown": "1. TRUE\n2. TRUE\n3. TRUE\n4. TRUE\n\n\n",
            "text/latex": "\\begin{enumerate*}\n\\item TRUE\n\\item TRUE\n\\item TRUE\n\\item TRUE\n\\end{enumerate*}\n",
            "text/plain": [
              "[1] TRUE TRUE TRUE TRUE"
            ]
          },
          "metadata": {}
        },
        {
          "output_type": "display_data",
          "data": {
            "text/html": [
              "<style>\n",
              ".list-inline {list-style: none; margin:0; padding: 0}\n",
              ".list-inline>li {display: inline-block}\n",
              ".list-inline>li:not(:last-child)::after {content: \"\\00b7\"; padding: 0 .5ex}\n",
              "</style>\n",
              "<ol class=list-inline><li>TRUE</li><li>FALSE</li><li>TRUE</li><li>FALSE</li></ol>\n"
            ],
            "text/markdown": "1. TRUE\n2. FALSE\n3. TRUE\n4. FALSE\n\n\n",
            "text/latex": "\\begin{enumerate*}\n\\item TRUE\n\\item FALSE\n\\item TRUE\n\\item FALSE\n\\end{enumerate*}\n",
            "text/plain": [
              "[1]  TRUE FALSE  TRUE FALSE"
            ]
          },
          "metadata": {}
        },
        {
          "output_type": "stream",
          "name": "stderr",
          "text": [
            "Warning message in x | c(TRUE, FALSE, TRUE):\n",
            "“longer object length is not a multiple of shorter object length”\n"
          ]
        },
        {
          "output_type": "display_data",
          "data": {
            "text/html": [
              "<style>\n",
              ".list-inline {list-style: none; margin:0; padding: 0}\n",
              ".list-inline>li {display: inline-block}\n",
              ".list-inline>li:not(:last-child)::after {content: \"\\00b7\"; padding: 0 .5ex}\n",
              "</style>\n",
              "<ol class=list-inline><li>TRUE</li><li>FALSE</li><li>TRUE</li><li>TRUE</li></ol>\n"
            ],
            "text/markdown": "1. TRUE\n2. FALSE\n3. TRUE\n4. TRUE\n\n\n",
            "text/latex": "\\begin{enumerate*}\n\\item TRUE\n\\item FALSE\n\\item TRUE\n\\item TRUE\n\\end{enumerate*}\n",
            "text/plain": [
              "[1]  TRUE FALSE  TRUE  TRUE"
            ]
          },
          "metadata": {}
        },
        {
          "output_type": "display_data",
          "data": {
            "text/html": [
              "<style>\n",
              ".list-inline {list-style: none; margin:0; padding: 0}\n",
              ".list-inline>li {display: inline-block}\n",
              ".list-inline>li:not(:last-child)::after {content: \"\\00b7\"; padding: 0 .5ex}\n",
              "</style>\n",
              "<ol class=list-inline><li>TRUE</li><li>FALSE</li><li>TRUE</li><li>FALSE</li></ol>\n"
            ],
            "text/markdown": "1. TRUE\n2. FALSE\n3. TRUE\n4. FALSE\n\n\n",
            "text/latex": "\\begin{enumerate*}\n\\item TRUE\n\\item FALSE\n\\item TRUE\n\\item FALSE\n\\end{enumerate*}\n",
            "text/plain": [
              "[1]  TRUE FALSE  TRUE FALSE"
            ]
          },
          "metadata": {}
        },
        {
          "output_type": "display_data",
          "data": {
            "text/html": [
              "<style>\n",
              ".list-inline {list-style: none; margin:0; padding: 0}\n",
              ".list-inline>li {display: inline-block}\n",
              ".list-inline>li:not(:last-child)::after {content: \"\\00b7\"; padding: 0 .5ex}\n",
              "</style>\n",
              "<ol class=list-inline><li>TRUE</li><li>FALSE</li><li>TRUE</li><li>&lt;NA&gt;</li></ol>\n"
            ],
            "text/markdown": "1. TRUE\n2. FALSE\n3. TRUE\n4. &lt;NA&gt;\n\n\n",
            "text/latex": "\\begin{enumerate*}\n\\item TRUE\n\\item FALSE\n\\item TRUE\n\\item <NA>\n\\end{enumerate*}\n",
            "text/plain": [
              "[1]  TRUE FALSE  TRUE    NA"
            ]
          },
          "metadata": {}
        }
      ]
    },
    {
      "cell_type": "markdown",
      "source": [
        "### **2.5 Operadores y operaciones de comparación**"
      ],
      "metadata": {
        "id": "nID8FXVy21YQ"
      }
    },
    {
      "cell_type": "code",
      "source": [
        "a <- 1:10\n",
        "resultado <- a > 3 | a + 2 < 3\n",
        "resultado\n",
        "\n",
        "# Agregamos paréntesis para cambiar la precedencia\n",
        "resultado_con_parentesis <- (a > 3) | (a + 2 < 3)\n",
        "resultado_con_parentesis"
      ],
      "metadata": {
        "colab": {
          "base_uri": "https://localhost:8080/",
          "height": 52
        },
        "id": "0Bj0SepH23BV",
        "outputId": "6f118712-1f6a-4605-bf39-72f01e1f615f"
      },
      "execution_count": null,
      "outputs": [
        {
          "output_type": "display_data",
          "data": {
            "text/html": [
              "<style>\n",
              ".list-inline {list-style: none; margin:0; padding: 0}\n",
              ".list-inline>li {display: inline-block}\n",
              ".list-inline>li:not(:last-child)::after {content: \"\\00b7\"; padding: 0 .5ex}\n",
              "</style>\n",
              "<ol class=list-inline><li>FALSE</li><li>FALSE</li><li>FALSE</li><li>TRUE</li><li>TRUE</li><li>TRUE</li><li>TRUE</li><li>TRUE</li><li>TRUE</li><li>TRUE</li></ol>\n"
            ],
            "text/markdown": "1. FALSE\n2. FALSE\n3. FALSE\n4. TRUE\n5. TRUE\n6. TRUE\n7. TRUE\n8. TRUE\n9. TRUE\n10. TRUE\n\n\n",
            "text/latex": "\\begin{enumerate*}\n\\item FALSE\n\\item FALSE\n\\item FALSE\n\\item TRUE\n\\item TRUE\n\\item TRUE\n\\item TRUE\n\\item TRUE\n\\item TRUE\n\\item TRUE\n\\end{enumerate*}\n",
            "text/plain": [
              " [1] FALSE FALSE FALSE  TRUE  TRUE  TRUE  TRUE  TRUE  TRUE  TRUE"
            ]
          },
          "metadata": {}
        },
        {
          "output_type": "display_data",
          "data": {
            "text/html": [
              "<style>\n",
              ".list-inline {list-style: none; margin:0; padding: 0}\n",
              ".list-inline>li {display: inline-block}\n",
              ".list-inline>li:not(:last-child)::after {content: \"\\00b7\"; padding: 0 .5ex}\n",
              "</style>\n",
              "<ol class=list-inline><li>FALSE</li><li>FALSE</li><li>FALSE</li><li>TRUE</li><li>TRUE</li><li>TRUE</li><li>TRUE</li><li>TRUE</li><li>TRUE</li><li>TRUE</li></ol>\n"
            ],
            "text/markdown": "1. FALSE\n2. FALSE\n3. FALSE\n4. TRUE\n5. TRUE\n6. TRUE\n7. TRUE\n8. TRUE\n9. TRUE\n10. TRUE\n\n\n",
            "text/latex": "\\begin{enumerate*}\n\\item FALSE\n\\item FALSE\n\\item FALSE\n\\item TRUE\n\\item TRUE\n\\item TRUE\n\\item TRUE\n\\item TRUE\n\\item TRUE\n\\item TRUE\n\\end{enumerate*}\n",
            "text/plain": [
              " [1] FALSE FALSE FALSE  TRUE  TRUE  TRUE  TRUE  TRUE  TRUE  TRUE"
            ]
          },
          "metadata": {}
        }
      ]
    },
    {
      "cell_type": "markdown",
      "source": [
        "### **2.6** Conjuntos y operaciones con conjuntos"
      ],
      "metadata": {
        "id": "YgoXIggtjwMw"
      }
    },
    {
      "cell_type": "code",
      "source": [
        "x <- c(\"a\", \"a\", \"z\")\n",
        "\n",
        "# La siguiente expresión verifica si cada elemento en 'x' es \"a\" o \"b\" o \"c\" o \"d\"\n",
        "resultado <- x %in% c(\"a\", \"b\", \"c\", \"d\")\n",
        "resultado\n",
        "\n",
        "# La función anterior es equivalente a la comparación original\n",
        "# x == \"a\" | x == \"b\" | x == \"c\" | x == \"d\""
      ],
      "metadata": {
        "colab": {
          "base_uri": "https://localhost:8080/",
          "height": 34
        },
        "id": "dXe0vQFCjKOO",
        "outputId": "06a18f23-0a50-40dd-d0c6-31080942a793"
      },
      "execution_count": null,
      "outputs": [
        {
          "output_type": "display_data",
          "data": {
            "text/html": [
              "<style>\n",
              ".list-inline {list-style: none; margin:0; padding: 0}\n",
              ".list-inline>li {display: inline-block}\n",
              ".list-inline>li:not(:last-child)::after {content: \"\\00b7\"; padding: 0 .5ex}\n",
              "</style>\n",
              "<ol class=list-inline><li>TRUE</li><li>TRUE</li><li>FALSE</li></ol>\n"
            ],
            "text/markdown": "1. TRUE\n2. TRUE\n3. FALSE\n\n\n",
            "text/latex": "\\begin{enumerate*}\n\\item TRUE\n\\item TRUE\n\\item FALSE\n\\end{enumerate*}\n",
            "text/plain": [
              "[1]  TRUE  TRUE FALSE"
            ]
          },
          "metadata": {}
        }
      ]
    },
    {
      "cell_type": "code",
      "source": [
        "# Implementación de operadores de subconjunto:\n",
        "\n",
        "# Ejemplo de conjuntos\n",
        "A <- c(\"a\", \"b\", \"c\")\n",
        "B <- c(\"a\", \"b\", \"c\", \"d\", \"e\")\n",
        "\n",
        "# A ⊆ B (A es un subconjunto o igual a B)\n",
        "is_A_subset_or_equal_B <- all(A %in% B)\n",
        "is_A_subset_or_equal_B\n",
        "\n",
        "# A ⊂ B (A es un verdadero subconjunto de B)\n",
        "is_A_true_subset_B <- all(A %in% B) & !all(B %in% A)\n",
        "is_A_true_subset_B\n",
        "\n",
        "# A ⊇ B (B es un subconjunto o igual a A)\n",
        "is_B_subset_or_equal_A <- all(B %in% A)\n",
        "is_B_subset_or_equal_A\n",
        "\n",
        "# A ⊃ B (B es un verdadero subconjunto de A)\n",
        "is_B_true_subset_A <- all(B %in% A) & !all(A %in% B)\n",
        "is_B_true_subset_A\n"
      ],
      "metadata": {
        "colab": {
          "base_uri": "https://localhost:8080/",
          "height": 86
        },
        "id": "3gWT21-YkOGh",
        "outputId": "e7838699-987e-4101-989e-c8ffa3a3cd1d"
      },
      "execution_count": null,
      "outputs": [
        {
          "output_type": "display_data",
          "data": {
            "text/html": [
              "TRUE"
            ],
            "text/markdown": "TRUE",
            "text/latex": "TRUE",
            "text/plain": [
              "[1] TRUE"
            ]
          },
          "metadata": {}
        },
        {
          "output_type": "display_data",
          "data": {
            "text/html": [
              "TRUE"
            ],
            "text/markdown": "TRUE",
            "text/latex": "TRUE",
            "text/plain": [
              "[1] TRUE"
            ]
          },
          "metadata": {}
        },
        {
          "output_type": "display_data",
          "data": {
            "text/html": [
              "FALSE"
            ],
            "text/markdown": "FALSE",
            "text/latex": "FALSE",
            "text/plain": [
              "[1] FALSE"
            ]
          },
          "metadata": {}
        },
        {
          "output_type": "display_data",
          "data": {
            "text/html": [
              "FALSE"
            ],
            "text/markdown": "FALSE",
            "text/latex": "FALSE",
            "text/plain": [
              "[1] FALSE"
            ]
          },
          "metadata": {}
        }
      ]
    },
    {
      "cell_type": "markdown",
      "source": [
        "### **2.9 Conversiones de tipo**"
      ],
      "metadata": {
        "id": "AFkTLkaPk3K3"
      }
    },
    {
      "cell_type": "code",
      "source": [
        "# Convertir un número en una cadena\n",
        "as.character(3.0e10) # Debería devolver \"30000000000\"\n",
        "\n",
        "# Convertir cadenas en números\n",
        "as.numeric(\"5E+5\")  # Debería devolver 500000\n",
        "as.numeric(\"A\")     # Debería devolver NA con una advertencia\n",
        "\n",
        "# Convertir valores lógicos en números\n",
        "as.numeric(TRUE)    # Debería devolver 1\n",
        "as.numeric(FALSE)   # Debería devolver 0\n",
        "\n",
        "# Convertir cadenas en valores lógicos\n",
        "as.logical(\"T\")     # Debería devolver TRUE\n",
        "as.logical(\"t\")     # Debería devolver TRUE\n",
        "as.logical(\"true\")  # Debería devolver TRUE\n",
        "\n",
        "# Convertir números en valores lógicos\n",
        "as.logical(100)     # Debería devolver TRUE\n",
        "as.logical(0)       # Debería devolver FALSE\n",
        "as.logical(-1)      # Debería devolver TRUE\n"
      ],
      "metadata": {
        "colab": {
          "base_uri": "https://localhost:8080/",
          "height": 243
        },
        "id": "YNpHr3h5k4rO",
        "outputId": "769caa27-ad8a-4477-fd5d-690534853f58"
      },
      "execution_count": null,
      "outputs": [
        {
          "output_type": "display_data",
          "data": {
            "text/html": [
              "'3e+10'"
            ],
            "text/markdown": "'3e+10'",
            "text/latex": "'3e+10'",
            "text/plain": [
              "[1] \"3e+10\""
            ]
          },
          "metadata": {}
        },
        {
          "output_type": "display_data",
          "data": {
            "text/html": [
              "5e+05"
            ],
            "text/markdown": "5e+05",
            "text/latex": "5e+05",
            "text/plain": [
              "[1] 5e+05"
            ]
          },
          "metadata": {}
        },
        {
          "output_type": "stream",
          "name": "stderr",
          "text": [
            "Warning message in eval(expr, envir, enclos):\n",
            "“NAs introduced by coercion”\n"
          ]
        },
        {
          "output_type": "display_data",
          "data": {
            "text/html": [
              "&lt;NA&gt;"
            ],
            "text/markdown": "&lt;NA&gt;",
            "text/latex": "<NA>",
            "text/plain": [
              "[1] NA"
            ]
          },
          "metadata": {}
        },
        {
          "output_type": "display_data",
          "data": {
            "text/html": [
              "1"
            ],
            "text/markdown": "1",
            "text/latex": "1",
            "text/plain": [
              "[1] 1"
            ]
          },
          "metadata": {}
        },
        {
          "output_type": "display_data",
          "data": {
            "text/html": [
              "0"
            ],
            "text/markdown": "0",
            "text/latex": "0",
            "text/plain": [
              "[1] 0"
            ]
          },
          "metadata": {}
        },
        {
          "output_type": "display_data",
          "data": {
            "text/html": [
              "TRUE"
            ],
            "text/markdown": "TRUE",
            "text/latex": "TRUE",
            "text/plain": [
              "[1] TRUE"
            ]
          },
          "metadata": {}
        },
        {
          "output_type": "display_data",
          "data": {
            "text/html": [
              "&lt;NA&gt;"
            ],
            "text/markdown": "&lt;NA&gt;",
            "text/latex": "<NA>",
            "text/plain": [
              "[1] NA"
            ]
          },
          "metadata": {}
        },
        {
          "output_type": "display_data",
          "data": {
            "text/html": [
              "TRUE"
            ],
            "text/markdown": "TRUE",
            "text/latex": "TRUE",
            "text/plain": [
              "[1] TRUE"
            ]
          },
          "metadata": {}
        },
        {
          "output_type": "display_data",
          "data": {
            "text/html": [
              "TRUE"
            ],
            "text/markdown": "TRUE",
            "text/latex": "TRUE",
            "text/plain": [
              "[1] TRUE"
            ]
          },
          "metadata": {}
        },
        {
          "output_type": "display_data",
          "data": {
            "text/html": [
              "FALSE"
            ],
            "text/markdown": "FALSE",
            "text/latex": "FALSE",
            "text/plain": [
              "[1] FALSE"
            ]
          },
          "metadata": {}
        },
        {
          "output_type": "display_data",
          "data": {
            "text/html": [
              "TRUE"
            ],
            "text/markdown": "TRUE",
            "text/latex": "TRUE",
            "text/plain": [
              "[1] TRUE"
            ]
          },
          "metadata": {}
        }
      ]
    },
    {
      "cell_type": "code",
      "source": [
        "# Definir un número flotante\n",
        "num <- 12.34\n",
        "\n",
        "# Usar trunc()\n",
        "truncated_num <- trunc(num)\n",
        "print(paste(\"Valor de trunc():\", truncated_num))\n",
        "print(paste(\"Clase de trunc():\", class(truncated_num)))\n",
        "\n",
        "# Usar as.integer()\n",
        "integer_num <- as.integer(num)\n",
        "print(paste(\"Valor de as.integer():\", integer_num))\n",
        "print(paste(\"Clase de as.integer():\", class(integer_num)))\n",
        "\n",
        "# Comprobar igualdad de valores\n",
        "print(paste(\"Los valores son iguales:\", truncated_num == integer_num))\n",
        "\n",
        "# Comprobar igualdad de clases\n",
        "print(paste(\"Las clases son iguales:\", class(truncated_num) == class(integer_num)))\n"
      ],
      "metadata": {
        "colab": {
          "base_uri": "https://localhost:8080/"
        },
        "id": "Tdf0tUr3lgCy",
        "outputId": "bb9dd8ad-677c-4312-b217-a58260b3eccf"
      },
      "execution_count": null,
      "outputs": [
        {
          "output_type": "stream",
          "name": "stdout",
          "text": [
            "[1] \"Valor de trunc(): 12\"\n",
            "[1] \"Clase de trunc(): numeric\"\n",
            "[1] \"Valor de as.integer(): 12\"\n",
            "[1] \"Clase de as.integer(): integer\"\n",
            "[1] \"Los valores son iguales: TRUE\"\n",
            "[1] \"Las clases son iguales: FALSE\"\n"
          ]
        }
      ]
    },
    {
      "cell_type": "code",
      "source": [
        "# Usando \"sprintf()\":\n",
        "\n",
        "# Formatear un número como una cadena con dos decimales\n",
        "formatted_num <- sprintf(\"%.2f\", 12.345)\n",
        "print(formatted_num)\n",
        "\n",
        "# Formatear un número entero\n",
        "formatted_int <- sprintf(\"%04d\", 42)\n",
        "print(formatted_int)\n",
        "\n",
        "# Formatear una cadena\n",
        "formatted_str <- sprintf(\"Nombre: %s\", \"Juan\")\n",
        "print(formatted_str)\n"
      ],
      "metadata": {
        "colab": {
          "base_uri": "https://localhost:8080/"
        },
        "id": "Qy-y2hw3fY8W",
        "outputId": "5fd3723a-1fc8-4319-b2c1-8118cb06d685"
      },
      "execution_count": null,
      "outputs": [
        {
          "output_type": "stream",
          "name": "stdout",
          "text": [
            "[1] \"12.35\"\n",
            "[1] \"0042\"\n",
            "[1] \"Nombre: Juan\"\n"
          ]
        }
      ]
    },
    {
      "cell_type": "code",
      "source": [
        "# Usando \"format()\":\n",
        "\n",
        "# Formatear un número como una cadena con dos decimales\n",
        "formatted_num <- format(12.345, nsmall = 2)\n",
        "print(formatted_num)\n",
        "\n",
        "# Formatear un número entero\n",
        "formatted_int <- formatC(42, width = 4, format = \"d\", flag = \"0\")\n",
        "print(formatted_int)\n",
        "\n",
        "# Formatear una cadena\n",
        "formatted_str <- format(\"Juan\", width = 15, justify = \"left\")\n",
        "print(formatted_str)\n"
      ],
      "metadata": {
        "colab": {
          "base_uri": "https://localhost:8080/"
        },
        "id": "XhXpR4x0fY_h",
        "outputId": "d5e4589b-cdf0-46fa-fefe-13fd33d72e45"
      },
      "execution_count": null,
      "outputs": [
        {
          "output_type": "stream",
          "name": "stdout",
          "text": [
            "[1] \"12.345\"\n",
            "[1] \"0042\"\n",
            "[1] \"Juan           \"\n"
          ]
        }
      ]
    },
    {
      "cell_type": "markdown",
      "source": [
        "### **2.10 Manipulación de vectores**"
      ],
      "metadata": {
        "id": "rqIKLYipf847"
      }
    },
    {
      "cell_type": "code",
      "source": [
        "# Crear un vector 'a' del 1 al 10\n",
        "a <- 1:10\n",
        "\n",
        "# Longitud del vector 'a'\n",
        "length(a)  # Devuelve 10\n",
        "\n",
        "# Indexar con un vector de índices\n",
        "# Los índices que no existen en 'a' generan NA\n",
        "a[c(3, 3, 3, 3)]  # Devuelve: 3 3 3 3\n",
        "\n",
        "# Usar secuencias en el vector de índices\n",
        "# Incluso en este caso, los índices fuera de rango generan NA\n",
        "a[c(10:1, 1:10)]  # Devuelve: 10  9  8  7  6  5  4  3  2  1  1  2  3  4  5  6  7  8  9 10\n",
        "\n",
        "# Indexar con valores que no existen en 'a'\n",
        "a[c(1, 11)]  # Devuelve: 1 NA\n"
      ],
      "metadata": {
        "colab": {
          "base_uri": "https://localhost:8080/",
          "height": 86
        },
        "id": "VYRBNBJSfZCM",
        "outputId": "413f2deb-5db5-409a-ec17-f4b1c117a01b"
      },
      "execution_count": null,
      "outputs": [
        {
          "output_type": "display_data",
          "data": {
            "text/html": [
              "10"
            ],
            "text/markdown": "10",
            "text/latex": "10",
            "text/plain": [
              "[1] 10"
            ]
          },
          "metadata": {}
        },
        {
          "output_type": "display_data",
          "data": {
            "text/html": [
              "<style>\n",
              ".list-inline {list-style: none; margin:0; padding: 0}\n",
              ".list-inline>li {display: inline-block}\n",
              ".list-inline>li:not(:last-child)::after {content: \"\\00b7\"; padding: 0 .5ex}\n",
              "</style>\n",
              "<ol class=list-inline><li>3</li><li>3</li><li>3</li><li>3</li></ol>\n"
            ],
            "text/markdown": "1. 3\n2. 3\n3. 3\n4. 3\n\n\n",
            "text/latex": "\\begin{enumerate*}\n\\item 3\n\\item 3\n\\item 3\n\\item 3\n\\end{enumerate*}\n",
            "text/plain": [
              "[1] 3 3 3 3"
            ]
          },
          "metadata": {}
        },
        {
          "output_type": "display_data",
          "data": {
            "text/html": [
              "<style>\n",
              ".list-inline {list-style: none; margin:0; padding: 0}\n",
              ".list-inline>li {display: inline-block}\n",
              ".list-inline>li:not(:last-child)::after {content: \"\\00b7\"; padding: 0 .5ex}\n",
              "</style>\n",
              "<ol class=list-inline><li>10</li><li>9</li><li>8</li><li>7</li><li>6</li><li>5</li><li>4</li><li>3</li><li>2</li><li>1</li><li>1</li><li>2</li><li>3</li><li>4</li><li>5</li><li>6</li><li>7</li><li>8</li><li>9</li><li>10</li></ol>\n"
            ],
            "text/markdown": "1. 10\n2. 9\n3. 8\n4. 7\n5. 6\n6. 5\n7. 4\n8. 3\n9. 2\n10. 1\n11. 1\n12. 2\n13. 3\n14. 4\n15. 5\n16. 6\n17. 7\n18. 8\n19. 9\n20. 10\n\n\n",
            "text/latex": "\\begin{enumerate*}\n\\item 10\n\\item 9\n\\item 8\n\\item 7\n\\item 6\n\\item 5\n\\item 4\n\\item 3\n\\item 2\n\\item 1\n\\item 1\n\\item 2\n\\item 3\n\\item 4\n\\item 5\n\\item 6\n\\item 7\n\\item 8\n\\item 9\n\\item 10\n\\end{enumerate*}\n",
            "text/plain": [
              " [1] 10  9  8  7  6  5  4  3  2  1  1  2  3  4  5  6  7  8  9 10"
            ]
          },
          "metadata": {}
        },
        {
          "output_type": "display_data",
          "data": {
            "text/html": [
              "<style>\n",
              ".list-inline {list-style: none; margin:0; padding: 0}\n",
              ".list-inline>li {display: inline-block}\n",
              ".list-inline>li:not(:last-child)::after {content: \"\\00b7\"; padding: 0 .5ex}\n",
              "</style>\n",
              "<ol class=list-inline><li>1</li><li>&lt;NA&gt;</li></ol>\n"
            ],
            "text/markdown": "1. 1\n2. &lt;NA&gt;\n\n\n",
            "text/latex": "\\begin{enumerate*}\n\\item 1\n\\item <NA>\n\\end{enumerate*}\n",
            "text/plain": [
              "[1]  1 NA"
            ]
          },
          "metadata": {}
        }
      ]
    },
    {
      "cell_type": "code",
      "source": [
        "# Crear un vector 'a' del 1 al 10\n",
        "a <- 1:10\n",
        "\n",
        "# Indexar sin ningún índice devuelve el vector original\n",
        "a[]  # Devuelve: 1 2 3 4 5 6 7 8 9 10\n",
        "\n",
        "# Indexar con 0 devuelve un vector vacío\n",
        "a[0]  # Devuelve: integer(0)\n",
        "\n",
        "# Indexar con numeric(0) devuelve un vector vacío\n",
        "a[numeric(0)]  # Devuelve: integer(0)\n",
        "\n",
        "# Indexar con NA devuelve NA\n",
        "a[NA]  # Devuelve: NA\n",
        "\n",
        "# Indexar con un vector que contiene 1 y NA\n",
        "a[c(1, NA)]  # Devuelve: 1 NA\n",
        "\n",
        "# Indexar con NULL devuelve un vector vacío\n",
        "a[NULL]  # Devuelve: integer(0)\n",
        "\n",
        "# Indexar con un vector que contiene 1 y NULL\n",
        "a[c(1, NULL)]  # Devuelve: 1\n"
      ],
      "metadata": {
        "colab": {
          "base_uri": "https://localhost:8080/",
          "height": 86
        },
        "id": "ruaSmZhHfZEg",
        "outputId": "af00915f-72d6-40f3-e99f-0c188e69f7e3"
      },
      "execution_count": null,
      "outputs": [
        {
          "output_type": "display_data",
          "data": {
            "text/html": [
              "<style>\n",
              ".list-inline {list-style: none; margin:0; padding: 0}\n",
              ".list-inline>li {display: inline-block}\n",
              ".list-inline>li:not(:last-child)::after {content: \"\\00b7\"; padding: 0 .5ex}\n",
              "</style>\n",
              "<ol class=list-inline><li>1</li><li>2</li><li>3</li><li>4</li><li>5</li><li>6</li><li>7</li><li>8</li><li>9</li><li>10</li></ol>\n"
            ],
            "text/markdown": "1. 1\n2. 2\n3. 3\n4. 4\n5. 5\n6. 6\n7. 7\n8. 8\n9. 9\n10. 10\n\n\n",
            "text/latex": "\\begin{enumerate*}\n\\item 1\n\\item 2\n\\item 3\n\\item 4\n\\item 5\n\\item 6\n\\item 7\n\\item 8\n\\item 9\n\\item 10\n\\end{enumerate*}\n",
            "text/plain": [
              " [1]  1  2  3  4  5  6  7  8  9 10"
            ]
          },
          "metadata": {}
        },
        {
          "output_type": "display_data",
          "data": {
            "text/html": [],
            "text/markdown": "",
            "text/latex": "",
            "text/plain": [
              "integer(0)"
            ]
          },
          "metadata": {}
        },
        {
          "output_type": "display_data",
          "data": {
            "text/html": [],
            "text/markdown": "",
            "text/latex": "",
            "text/plain": [
              "integer(0)"
            ]
          },
          "metadata": {}
        },
        {
          "output_type": "display_data",
          "data": {
            "text/html": [
              "<style>\n",
              ".list-inline {list-style: none; margin:0; padding: 0}\n",
              ".list-inline>li {display: inline-block}\n",
              ".list-inline>li:not(:last-child)::after {content: \"\\00b7\"; padding: 0 .5ex}\n",
              "</style>\n",
              "<ol class=list-inline><li>&lt;NA&gt;</li><li>&lt;NA&gt;</li><li>&lt;NA&gt;</li><li>&lt;NA&gt;</li><li>&lt;NA&gt;</li><li>&lt;NA&gt;</li><li>&lt;NA&gt;</li><li>&lt;NA&gt;</li><li>&lt;NA&gt;</li><li>&lt;NA&gt;</li></ol>\n"
            ],
            "text/markdown": "1. &lt;NA&gt;\n2. &lt;NA&gt;\n3. &lt;NA&gt;\n4. &lt;NA&gt;\n5. &lt;NA&gt;\n6. &lt;NA&gt;\n7. &lt;NA&gt;\n8. &lt;NA&gt;\n9. &lt;NA&gt;\n10. &lt;NA&gt;\n\n\n",
            "text/latex": "\\begin{enumerate*}\n\\item <NA>\n\\item <NA>\n\\item <NA>\n\\item <NA>\n\\item <NA>\n\\item <NA>\n\\item <NA>\n\\item <NA>\n\\item <NA>\n\\item <NA>\n\\end{enumerate*}\n",
            "text/plain": [
              " [1] NA NA NA NA NA NA NA NA NA NA"
            ]
          },
          "metadata": {}
        },
        {
          "output_type": "display_data",
          "data": {
            "text/html": [
              "<style>\n",
              ".list-inline {list-style: none; margin:0; padding: 0}\n",
              ".list-inline>li {display: inline-block}\n",
              ".list-inline>li:not(:last-child)::after {content: \"\\00b7\"; padding: 0 .5ex}\n",
              "</style>\n",
              "<ol class=list-inline><li>1</li><li>&lt;NA&gt;</li></ol>\n"
            ],
            "text/markdown": "1. 1\n2. &lt;NA&gt;\n\n\n",
            "text/latex": "\\begin{enumerate*}\n\\item 1\n\\item <NA>\n\\end{enumerate*}\n",
            "text/plain": [
              "[1]  1 NA"
            ]
          },
          "metadata": {}
        },
        {
          "output_type": "display_data",
          "data": {
            "text/html": [],
            "text/markdown": "",
            "text/latex": "",
            "text/plain": [
              "integer(0)"
            ]
          },
          "metadata": {}
        },
        {
          "output_type": "display_data",
          "data": {
            "text/html": [
              "1"
            ],
            "text/markdown": "1",
            "text/latex": "1",
            "text/plain": [
              "[1] 1"
            ]
          },
          "metadata": {}
        }
      ]
    },
    {
      "cell_type": "code",
      "source": [
        "# Crear un vector de letras y un vector numérico del 1 al 10\n",
        "a <- letters[1:10]\n",
        "b <- 1:10\n",
        "\n",
        "# Crear un vector lógico 'selector' que almacena TRUE si el elemento en 'a' es mayor que \"c\"\n",
        "selector <- a > \"c\"\n",
        "selector\n",
        "# Resultado: [1] FALSE FALSE FALSE  TRUE  TRUE  TRUE  TRUE  TRUE  TRUE  TRUE\n",
        "\n",
        "# Usar el vector lógico 'selector' para seleccionar elementos de 'a' que cumplan con la condición\n",
        "a[selector]\n",
        "# Resultado: [1] \"d\" \"e\" \"f\" \"g\" \"h\" \"i\" \"j\"\n",
        "\n",
        "# Usar el vector lógico 'selector' para seleccionar elementos correspondientes en 'b'\n",
        "b[selector]\n",
        "# Resultado: [1] 4 5 6 7 8 9 10\n",
        "\n",
        "# Obtener índices numéricos donde se cumple la condición\n",
        "indexes <- which(a > \"c\")\n",
        "indexes\n",
        "# Resultado: [1]  4  5  6  7  8  9 10\n",
        "\n",
        "# Usar los índices numéricos para seleccionar elementos correspondientes en 'a' y 'b'\n",
        "a[indexes]\n",
        "# Resultado: [1] \"d\" \"e\" \"f\" \"g\" \"h\" \"i\" \"j\"\n",
        "b[indexes]\n",
        "# Resultado: [1] 4 5 6 7 8 9 10\n"
      ],
      "metadata": {
        "id": "92HeX1F6fZGk",
        "colab": {
          "base_uri": "https://localhost:8080/",
          "height": 121
        },
        "outputId": "f9758511-4d4b-4695-dd40-dd7865ecefc1"
      },
      "execution_count": null,
      "outputs": [
        {
          "output_type": "display_data",
          "data": {
            "text/html": [
              "<style>\n",
              ".list-inline {list-style: none; margin:0; padding: 0}\n",
              ".list-inline>li {display: inline-block}\n",
              ".list-inline>li:not(:last-child)::after {content: \"\\00b7\"; padding: 0 .5ex}\n",
              "</style>\n",
              "<ol class=list-inline><li>FALSE</li><li>FALSE</li><li>FALSE</li><li>TRUE</li><li>TRUE</li><li>TRUE</li><li>TRUE</li><li>TRUE</li><li>TRUE</li><li>TRUE</li></ol>\n"
            ],
            "text/markdown": "1. FALSE\n2. FALSE\n3. FALSE\n4. TRUE\n5. TRUE\n6. TRUE\n7. TRUE\n8. TRUE\n9. TRUE\n10. TRUE\n\n\n",
            "text/latex": "\\begin{enumerate*}\n\\item FALSE\n\\item FALSE\n\\item FALSE\n\\item TRUE\n\\item TRUE\n\\item TRUE\n\\item TRUE\n\\item TRUE\n\\item TRUE\n\\item TRUE\n\\end{enumerate*}\n",
            "text/plain": [
              " [1] FALSE FALSE FALSE  TRUE  TRUE  TRUE  TRUE  TRUE  TRUE  TRUE"
            ]
          },
          "metadata": {}
        },
        {
          "output_type": "display_data",
          "data": {
            "text/html": [
              "<style>\n",
              ".list-inline {list-style: none; margin:0; padding: 0}\n",
              ".list-inline>li {display: inline-block}\n",
              ".list-inline>li:not(:last-child)::after {content: \"\\00b7\"; padding: 0 .5ex}\n",
              "</style>\n",
              "<ol class=list-inline><li>'d'</li><li>'e'</li><li>'f'</li><li>'g'</li><li>'h'</li><li>'i'</li><li>'j'</li></ol>\n"
            ],
            "text/markdown": "1. 'd'\n2. 'e'\n3. 'f'\n4. 'g'\n5. 'h'\n6. 'i'\n7. 'j'\n\n\n",
            "text/latex": "\\begin{enumerate*}\n\\item 'd'\n\\item 'e'\n\\item 'f'\n\\item 'g'\n\\item 'h'\n\\item 'i'\n\\item 'j'\n\\end{enumerate*}\n",
            "text/plain": [
              "[1] \"d\" \"e\" \"f\" \"g\" \"h\" \"i\" \"j\""
            ]
          },
          "metadata": {}
        },
        {
          "output_type": "display_data",
          "data": {
            "text/html": [
              "<style>\n",
              ".list-inline {list-style: none; margin:0; padding: 0}\n",
              ".list-inline>li {display: inline-block}\n",
              ".list-inline>li:not(:last-child)::after {content: \"\\00b7\"; padding: 0 .5ex}\n",
              "</style>\n",
              "<ol class=list-inline><li>4</li><li>5</li><li>6</li><li>7</li><li>8</li><li>9</li><li>10</li></ol>\n"
            ],
            "text/markdown": "1. 4\n2. 5\n3. 6\n4. 7\n5. 8\n6. 9\n7. 10\n\n\n",
            "text/latex": "\\begin{enumerate*}\n\\item 4\n\\item 5\n\\item 6\n\\item 7\n\\item 8\n\\item 9\n\\item 10\n\\end{enumerate*}\n",
            "text/plain": [
              "[1]  4  5  6  7  8  9 10"
            ]
          },
          "metadata": {}
        },
        {
          "output_type": "display_data",
          "data": {
            "text/html": [
              "<style>\n",
              ".list-inline {list-style: none; margin:0; padding: 0}\n",
              ".list-inline>li {display: inline-block}\n",
              ".list-inline>li:not(:last-child)::after {content: \"\\00b7\"; padding: 0 .5ex}\n",
              "</style>\n",
              "<ol class=list-inline><li>4</li><li>5</li><li>6</li><li>7</li><li>8</li><li>9</li><li>10</li></ol>\n"
            ],
            "text/markdown": "1. 4\n2. 5\n3. 6\n4. 7\n5. 8\n6. 9\n7. 10\n\n\n",
            "text/latex": "\\begin{enumerate*}\n\\item 4\n\\item 5\n\\item 6\n\\item 7\n\\item 8\n\\item 9\n\\item 10\n\\end{enumerate*}\n",
            "text/plain": [
              "[1]  4  5  6  7  8  9 10"
            ]
          },
          "metadata": {}
        },
        {
          "output_type": "display_data",
          "data": {
            "text/html": [
              "<style>\n",
              ".list-inline {list-style: none; margin:0; padding: 0}\n",
              ".list-inline>li {display: inline-block}\n",
              ".list-inline>li:not(:last-child)::after {content: \"\\00b7\"; padding: 0 .5ex}\n",
              "</style>\n",
              "<ol class=list-inline><li>'d'</li><li>'e'</li><li>'f'</li><li>'g'</li><li>'h'</li><li>'i'</li><li>'j'</li></ol>\n"
            ],
            "text/markdown": "1. 'd'\n2. 'e'\n3. 'f'\n4. 'g'\n5. 'h'\n6. 'i'\n7. 'j'\n\n\n",
            "text/latex": "\\begin{enumerate*}\n\\item 'd'\n\\item 'e'\n\\item 'f'\n\\item 'g'\n\\item 'h'\n\\item 'i'\n\\item 'j'\n\\end{enumerate*}\n",
            "text/plain": [
              "[1] \"d\" \"e\" \"f\" \"g\" \"h\" \"i\" \"j\""
            ]
          },
          "metadata": {}
        },
        {
          "output_type": "display_data",
          "data": {
            "text/html": [
              "<style>\n",
              ".list-inline {list-style: none; margin:0; padding: 0}\n",
              ".list-inline>li {display: inline-block}\n",
              ".list-inline>li:not(:last-child)::after {content: \"\\00b7\"; padding: 0 .5ex}\n",
              "</style>\n",
              "<ol class=list-inline><li>4</li><li>5</li><li>6</li><li>7</li><li>8</li><li>9</li><li>10</li></ol>\n"
            ],
            "text/markdown": "1. 4\n2. 5\n3. 6\n4. 7\n5. 8\n6. 9\n7. 10\n\n\n",
            "text/latex": "\\begin{enumerate*}\n\\item 4\n\\item 5\n\\item 6\n\\item 7\n\\item 8\n\\item 9\n\\item 10\n\\end{enumerate*}\n",
            "text/plain": [
              "[1]  4  5  6  7  8  9 10"
            ]
          },
          "metadata": {}
        }
      ]
    },
    {
      "cell_type": "code",
      "source": [
        "# Crear un vector de letras del alfabeto del 1 al 10\n",
        "a <- letters[1:10]\n",
        "\n",
        "# El segundo enunciado modifica 'a' utilizando subíndices\n",
        "# Reemplaza los elementos del 5 al 1 en 'a' por los elementos que cumplan con la condición en el vector lógico c(TRUE, FALSE)\n",
        "a[5:1] <- a[c(TRUE, FALSE)]\n",
        "\n",
        "a # Resultado es: \"i\" \"g\" \"e\" \"c\" \"a\" \"f\" \"g\" \"h\" \"i\" \"j\"\n"
      ],
      "metadata": {
        "colab": {
          "base_uri": "https://localhost:8080/",
          "height": 34
        },
        "id": "0Kr1mVonY7-K",
        "outputId": "717f14dc-85f8-417c-b3ab-0e80fe557cdf"
      },
      "execution_count": null,
      "outputs": [
        {
          "output_type": "display_data",
          "data": {
            "text/html": [
              "<style>\n",
              ".list-inline {list-style: none; margin:0; padding: 0}\n",
              ".list-inline>li {display: inline-block}\n",
              ".list-inline>li:not(:last-child)::after {content: \"\\00b7\"; padding: 0 .5ex}\n",
              "</style>\n",
              "<ol class=list-inline><li>'i'</li><li>'g'</li><li>'e'</li><li>'c'</li><li>'a'</li><li>'f'</li><li>'g'</li><li>'h'</li><li>'i'</li><li>'j'</li></ol>\n"
            ],
            "text/markdown": "1. 'i'\n2. 'g'\n3. 'e'\n4. 'c'\n5. 'a'\n6. 'f'\n7. 'g'\n8. 'h'\n9. 'i'\n10. 'j'\n\n\n",
            "text/latex": "\\begin{enumerate*}\n\\item 'i'\n\\item 'g'\n\\item 'e'\n\\item 'c'\n\\item 'a'\n\\item 'f'\n\\item 'g'\n\\item 'h'\n\\item 'i'\n\\item 'j'\n\\end{enumerate*}\n",
            "text/plain": [
              " [1] \"i\" \"g\" \"e\" \"c\" \"a\" \"f\" \"g\" \"h\" \"i\" \"j\""
            ]
          },
          "metadata": {}
        }
      ]
    },
    {
      "cell_type": "markdown",
      "source": [
        "### **2.11** Matrices y matrices multidimensionales"
      ],
      "metadata": {
        "id": "Ml7UaEQmZYqJ"
      }
    },
    {
      "cell_type": "code",
      "source": [
        "# Creación de matriz sin especificar ncol o nrow\n",
        "m1 <- matrix(1:15)\n",
        "print(m1)\n",
        "# La matriz resultante es de 15x1\n",
        "\n",
        "# Creación de matriz especificando ncol=2\n",
        "m2 <- matrix(1:15, ncol = 2)\n",
        "print(m2)\n",
        "# R nos dará una advertencia ya que no puede distribuir los 15 elementos uniformemente en 2 columnas\n"
      ],
      "metadata": {
        "colab": {
          "base_uri": "https://localhost:8080/"
        },
        "id": "zlsvaFHwY8Ed",
        "outputId": "d8a4fafb-137a-4172-c331-24f6d5a144e4"
      },
      "execution_count": null,
      "outputs": [
        {
          "output_type": "stream",
          "name": "stdout",
          "text": [
            "      [,1]\n",
            " [1,]    1\n",
            " [2,]    2\n",
            " [3,]    3\n",
            " [4,]    4\n",
            " [5,]    5\n",
            " [6,]    6\n",
            " [7,]    7\n",
            " [8,]    8\n",
            " [9,]    9\n",
            "[10,]   10\n",
            "[11,]   11\n",
            "[12,]   12\n",
            "[13,]   13\n",
            "[14,]   14\n",
            "[15,]   15\n"
          ]
        },
        {
          "output_type": "stream",
          "name": "stderr",
          "text": [
            "Warning message in matrix(1:15, ncol = 2):\n",
            "“data length [15] is not a sub-multiple or multiple of the number of rows [8]”\n"
          ]
        },
        {
          "output_type": "stream",
          "name": "stdout",
          "text": [
            "     [,1] [,2]\n",
            "[1,]    1    9\n",
            "[2,]    2   10\n",
            "[3,]    3   11\n",
            "[4,]    4   12\n",
            "[5,]    5   13\n",
            "[6,]    6   14\n",
            "[7,]    7   15\n",
            "[8,]    8    1\n"
          ]
        }
      ]
    },
    {
      "cell_type": "code",
      "source": [
        "# 1. Extracción del segundo elemento del vector original en matrices y arrays:\n",
        "\n",
        "v <- 1:10\n",
        "\n",
        "m2c <- matrix(v, ncol = 2)\n",
        "m2cr <- matrix(v, ncol = 2, byrow = TRUE)\n",
        "m2r <- matrix(v, nrow = 2)\n",
        "m2rc <- matrix(v, nrow = 2, byrow = TRUE)\n",
        "\n",
        "# Extracción del segundo elemento:\n",
        "print(m2c[2]) # 6, ya que la matriz se llena por columnas\n",
        "print(m2cr[2]) # 2, ya que se llena por filas\n",
        "print(m2r[2]) # 3, ya que se llena por columnas\n",
        "print(m2rc[2]) # 2, ya que se llena por filas\n",
        "\n",
        "a2c <- array(v, dim = c(5, 2))\n",
        "a2c_named <- array(v, dim = c(5, 2), dimnames = list(NULL, c(\"c1\", \"c2\")))\n",
        "a2r <- array(v, dim = c(2, 5))\n",
        "\n",
        "# Extracción del segundo elemento:\n",
        "print(a2c[2]) # 6, similar a matrix con ncol=2\n",
        "print(a2c_named[2]) # 6, la nomenclatura no afecta el ordenamiento interno\n",
        "print(a2r[2]) # 3, similar a matrix con nrow=2\n"
      ],
      "metadata": {
        "colab": {
          "base_uri": "https://localhost:8080/"
        },
        "id": "POBWyZYrY8Gk",
        "outputId": "a44b522c-035b-4b1c-bd8b-5c67a24d0f3e"
      },
      "execution_count": null,
      "outputs": [
        {
          "output_type": "stream",
          "name": "stdout",
          "text": [
            "[1] 2\n",
            "[1] 3\n",
            "[1] 2\n",
            "[1] 6\n",
            "[1] 2\n",
            "[1] 2\n",
            "[1] 2\n"
          ]
        }
      ]
    },
    {
      "cell_type": "code",
      "source": [
        "# 2. Comparando vectores, matrices unidimensionales y arrays unidimensionales:\n",
        "\n",
        "vector <- 1:10\n",
        "one_dim_matrix <- matrix(1:10, ncol=1)\n",
        "one_dim_array <- array(1:10, dim=10)\n",
        "\n",
        "# Verificación de clases\n",
        "print(class(vector))\n",
        "print(class(one_dim_matrix))\n",
        "print(class(one_dim_array))\n"
      ],
      "metadata": {
        "colab": {
          "base_uri": "https://localhost:8080/"
        },
        "id": "9mM-gB4aY8Il",
        "outputId": "43f0dba2-d2c7-4c2d-cd20-bf67c5f2829f"
      },
      "execution_count": null,
      "outputs": [
        {
          "output_type": "stream",
          "name": "stdout",
          "text": [
            "[1] \"integer\"\n",
            "[1] \"matrix\" \"array\" \n",
            "[1] \"array\"\n"
          ]
        }
      ]
    },
    {
      "cell_type": "code",
      "source": [
        "# 3. Convertir matrices en vectores y comparar:\n",
        "\n",
        "converted_with_unlist <- unlist(m2c)\n",
        "converted_with_as_vector <- as.vector(m2c)\n",
        "\n",
        "# Comparar\n",
        "print(identical(converted_with_unlist, converted_with_as_vector))\n"
      ],
      "metadata": {
        "colab": {
          "base_uri": "https://localhost:8080/"
        },
        "id": "Qa-LhbFDiHvg",
        "outputId": "aeb5139d-c97e-4ade-a4f5-5c480c5285a8"
      },
      "execution_count": null,
      "outputs": [
        {
          "output_type": "stream",
          "name": "stdout",
          "text": [
            "[1] FALSE\n"
          ]
        }
      ]
    },
    {
      "cell_type": "markdown",
      "source": [
        "### **2.12** Factores"
      ],
      "metadata": {
        "id": "7lx0SSKAidzt"
      }
    },
    {
      "cell_type": "code",
      "source": [
        "# Crear dos factores con niveles etiquetados con palabras.\n",
        "# El primer factor tiene niveles ordenados \"Low\", \"Medium\", \"High\"\n",
        "# El segundo factor tiene niveles ordenados \"High\", \"Medium\", \"Low\"\n",
        "\n",
        "factor1 <- factor(c(\"Medium\", \"High\", \"Low\", \"Medium\", \"Low\"), levels = c(\"Low\", \"Medium\", \"High\"))\n",
        "factor2 <- factor(c(\"Medium\", \"High\", \"Low\", \"Medium\", \"Low\"), levels = c(\"High\", \"Medium\", \"Low\"))\n",
        "\n",
        "# Convertir ambos factores a vectores numéricos\n",
        "numeric_vector1 <- as.numeric(factor1)\n",
        "numeric_vector2 <- as.numeric(factor2)\n",
        "\n",
        "# Imprimir los resultados\n",
        "print(numeric_vector1) # Se espera que retorne c(2, 3, 1, 2, 1) debido al orden de niveles en factor1\n",
        "print(numeric_vector2) # Se espera que retorne c(2, 1, 3, 2, 3) debido al orden de niveles en factor2\n"
      ],
      "metadata": {
        "colab": {
          "base_uri": "https://localhost:8080/"
        },
        "id": "XR9k-jc5iH0E",
        "outputId": "edabc96e-ef7c-4d10-82b5-b6e04e68b8af"
      },
      "execution_count": null,
      "outputs": [
        {
          "output_type": "stream",
          "name": "stdout",
          "text": [
            "[1] 2 3 1 2 1\n",
            "[1] 2 1 3 2 3\n"
          ]
        }
      ]
    },
    {
      "cell_type": "code",
      "source": [
        "# Creación de un factor usando `gl()`. `gl()` mantiene el orden de los niveles tal como se especifican.\n",
        "my.factor4 <- gl(4, 3, labels = c(\"A\", \"F\", \"B\", \"Z\"))\n",
        "print(my.factor4) # Deberíamos ver una repetición de \"A\", \"F\", \"B\", \"Z\", cada uno 3 veces.\n",
        "print(as.integer(my.factor4)) # Nos muestra el índice del nivel para cada elemento.\n",
        "\n",
        "# Creación de un factor usando `factor()`. `factor()` ordena los niveles alfabéticamente por defecto.\n",
        "my.factor5 <- factor(rep(c(\"A\", \"F\", \"B\", \"Z\"), rep(3,4)))\n",
        "print(my.factor5) # Veremos una repetición de \"A\", \"F\", \"B\", \"Z\", pero los niveles se organizarán alfabéticamente.\n",
        "print(as.integer(my.factor5)) # Nos muestra el índice del nivel para cada elemento.\n",
        "print(levels(my.factor5)[as.integer(my.factor5)]) # Convierte los índices de nuevo en etiquetas.\n",
        "\n",
        "# Uso de sort() y order() en `my.factor4`\n",
        "# `sort()` organizará basado en el orden de los niveles\n",
        "print(sort(my.factor4))\n",
        "\n",
        "# `order(my.factor4)` organizará basado en las etiquetas, por lo que obtendrás un orden alfabético.\n",
        "print(my.factor4[order(my.factor4)])\n",
        "\n",
        "# `order(as.integer(my.factor4))` organizará basado en los índices de los niveles\n",
        "print(my.factor4[order(as.integer(my.factor4))])"
      ],
      "metadata": {
        "colab": {
          "base_uri": "https://localhost:8080/"
        },
        "id": "RxMTRHp9iHx7",
        "outputId": "0fd3bab7-abd1-4f0f-bc37-4d92e0798003"
      },
      "execution_count": null,
      "outputs": [
        {
          "output_type": "stream",
          "name": "stdout",
          "text": [
            " [1] A A A F F F B B B Z Z Z\n",
            "Levels: A F B Z\n",
            " [1] 1 1 1 2 2 2 3 3 3 4 4 4\n",
            " [1] A A A F F F B B B Z Z Z\n",
            "Levels: A B F Z\n",
            " [1] 1 1 1 3 3 3 2 2 2 4 4 4\n",
            " [1] \"A\" \"A\" \"A\" \"F\" \"F\" \"F\" \"B\" \"B\" \"B\" \"Z\" \"Z\" \"Z\"\n",
            " [1] A A A F F F B B B Z Z Z\n",
            "Levels: A F B Z\n",
            " [1] A A A F F F B B B Z Z Z\n",
            "Levels: A F B Z\n",
            " [1] A A A F F F B B B Z Z Z\n",
            "Levels: A F B Z\n"
          ]
        }
      ]
    },
    {
      "cell_type": "code",
      "source": [
        "# Creación de la lista anidada\n",
        "nested.list <- list(A = list(\"a\", \"aa\", \"aaa\"), B = list(\"b\", \"bb\"))\n",
        "\n",
        "# Mostrando la estructura de la lista anidada\n",
        "str(nested.list) # Esto nos muestra la estructura de la lista\n",
        "\n",
        "# Invirtiendo el orden de los elementos de la lista\n",
        "nested.list[2:1] # Selecciona los elementos de la lista principal en orden inverso\n",
        "\n",
        "# Accediendo al primer elemento de la lista principal\n",
        "nested.list[1] # Devuelve una sublista con el primer elemento, que es la lista 'A'\n",
        "\n",
        "# Accediendo al segundo elemento de la lista 'A'\n",
        "nested.list[[1]][2] # Accede al segundo elemento de la primera lista\n",
        "\n",
        "# Accediendo directamente al segundo elemento de la lista 'A'\n",
        "nested.list[[1]][[2]] # Accede y desempaqueta el segundo elemento de la primera lista\n",
        "\n",
        "# Accediendo al segundo elemento de la lista principal\n",
        "nested.list[2] # Devuelve una sublista con el segundo elemento, que es la lista 'B'\n",
        "\n",
        "# Accediendo directamente al primer elemento de la lista 'B'\n",
        "nested.list[2][[1]] # Accede y desempaqueta el primer elemento de la segunda lista\n"
      ],
      "metadata": {
        "colab": {
          "base_uri": "https://localhost:8080/",
          "height": 622
        },
        "id": "Z1mmeUTQi21O",
        "outputId": "bf1adb5a-05f7-4c36-99d6-2a7d4790b57b"
      },
      "execution_count": null,
      "outputs": [
        {
          "output_type": "stream",
          "name": "stdout",
          "text": [
            "List of 2\n",
            " $ A:List of 3\n",
            "  ..$ : chr \"a\"\n",
            "  ..$ : chr \"aa\"\n",
            "  ..$ : chr \"aaa\"\n",
            " $ B:List of 2\n",
            "  ..$ : chr \"b\"\n",
            "  ..$ : chr \"bb\"\n"
          ]
        },
        {
          "output_type": "display_data",
          "data": {
            "text/html": [
              "<dl>\n",
              "\t<dt>$B</dt>\n",
              "\t\t<dd><ol>\n",
              "\t<li>'b'</li>\n",
              "\t<li>'bb'</li>\n",
              "</ol>\n",
              "</dd>\n",
              "\t<dt>$A</dt>\n",
              "\t\t<dd><ol>\n",
              "\t<li>'a'</li>\n",
              "\t<li>'aa'</li>\n",
              "\t<li>'aaa'</li>\n",
              "</ol>\n",
              "</dd>\n",
              "</dl>\n"
            ],
            "text/markdown": "$B\n:   1. 'b'\n2. 'bb'\n\n\n\n$A\n:   1. 'a'\n2. 'aa'\n3. 'aaa'\n\n\n\n\n\n",
            "text/latex": "\\begin{description}\n\\item[\\$B] \\begin{enumerate}\n\\item 'b'\n\\item 'bb'\n\\end{enumerate}\n\n\\item[\\$A] \\begin{enumerate}\n\\item 'a'\n\\item 'aa'\n\\item 'aaa'\n\\end{enumerate}\n\n\\end{description}\n",
            "text/plain": [
              "$B\n",
              "$B[[1]]\n",
              "[1] \"b\"\n",
              "\n",
              "$B[[2]]\n",
              "[1] \"bb\"\n",
              "\n",
              "\n",
              "$A\n",
              "$A[[1]]\n",
              "[1] \"a\"\n",
              "\n",
              "$A[[2]]\n",
              "[1] \"aa\"\n",
              "\n",
              "$A[[3]]\n",
              "[1] \"aaa\"\n",
              "\n"
            ]
          },
          "metadata": {}
        },
        {
          "output_type": "display_data",
          "data": {
            "text/html": [
              "<strong>$A</strong> = <ol>\n",
              "\t<li>'a'</li>\n",
              "\t<li>'aa'</li>\n",
              "\t<li>'aaa'</li>\n",
              "</ol>\n"
            ],
            "text/markdown": "**$A** = 1. 'a'\n2. 'aa'\n3. 'aaa'\n\n\n",
            "text/latex": "\\textbf{\\$A} = \\begin{enumerate}\n\\item 'a'\n\\item 'aa'\n\\item 'aaa'\n\\end{enumerate}\n",
            "text/plain": [
              "$A\n",
              "$A[[1]]\n",
              "[1] \"a\"\n",
              "\n",
              "$A[[2]]\n",
              "[1] \"aa\"\n",
              "\n",
              "$A[[3]]\n",
              "[1] \"aaa\"\n",
              "\n"
            ]
          },
          "metadata": {}
        },
        {
          "output_type": "display_data",
          "data": {
            "text/html": [
              "<ol>\n",
              "\t<li>'aa'</li>\n",
              "</ol>\n"
            ],
            "text/markdown": "1. 'aa'\n\n\n",
            "text/latex": "\\begin{enumerate}\n\\item 'aa'\n\\end{enumerate}\n",
            "text/plain": [
              "[[1]]\n",
              "[1] \"aa\"\n"
            ]
          },
          "metadata": {}
        },
        {
          "output_type": "display_data",
          "data": {
            "text/html": [
              "'aa'"
            ],
            "text/markdown": "'aa'",
            "text/latex": "'aa'",
            "text/plain": [
              "[1] \"aa\""
            ]
          },
          "metadata": {}
        },
        {
          "output_type": "display_data",
          "data": {
            "text/html": [
              "<strong>$B</strong> = <ol>\n",
              "\t<li>'b'</li>\n",
              "\t<li>'bb'</li>\n",
              "</ol>\n"
            ],
            "text/markdown": "**$B** = 1. 'b'\n2. 'bb'\n\n\n",
            "text/latex": "\\textbf{\\$B} = \\begin{enumerate}\n\\item 'b'\n\\item 'bb'\n\\end{enumerate}\n",
            "text/plain": [
              "$B\n",
              "$B[[1]]\n",
              "[1] \"b\"\n",
              "\n",
              "$B[[2]]\n",
              "[1] \"bb\"\n",
              "\n"
            ]
          },
          "metadata": {}
        },
        {
          "output_type": "display_data",
          "data": {
            "text/html": [
              "<ol>\n",
              "\t<li>'b'</li>\n",
              "\t<li>'bb'</li>\n",
              "</ol>\n"
            ],
            "text/markdown": "1. 'b'\n2. 'bb'\n\n\n",
            "text/latex": "\\begin{enumerate}\n\\item 'b'\n\\item 'bb'\n\\end{enumerate}\n",
            "text/plain": [
              "[[1]]\n",
              "[1] \"b\"\n",
              "\n",
              "[[2]]\n",
              "[1] \"bb\"\n"
            ]
          },
          "metadata": {}
        }
      ]
    },
    {
      "cell_type": "code",
      "source": [
        "# Crear una lista de ejemplo\n",
        "c.list <- list(A = c(1,2,3), B = c(4,5), C = list(D = c(6,7), E = c(8,9,10)))\n",
        "\n",
        "# Uso predeterminado de unlist() para combinar todos los elementos de c.list en un único vector\n",
        "c.vec <- unlist(c.list)\n",
        "print(c.vec)  # Esperamos un vector con todos los elementos y con nombres.\n",
        "\n",
        "# Modificar el argumento 'recursive'\n",
        "# Cuando recursive es FALSE, unlist() no desempaquetará completamente las sublistas.\n",
        "c.vec_recursive <- unlist(c.list, recursive = FALSE)\n",
        "print(c.vec_recursive)  # Esperamos que cualquier sublista dentro de c.list no se desempaque completamente.\n",
        "\n",
        "# Modificar el argumento 'use.names'\n",
        "# Cuando use.names es FALSE, los nombres de los elementos de la lista original no se conservarán en el vector resultante.\n",
        "c.vec_use_names <- unlist(c.list, use.names = FALSE)\n",
        "print(c.vec_use_names)  # Esperamos un vector sin nombres para sus elementos.\n",
        "\n",
        "# En resumen:\n",
        "# - La función unlist() tiene la capacidad de desempaquetar listas y convertirlas en vectores.\n",
        "# - El argumento 'recursive' controla si las sublistas se desempaquetan completamente.\n",
        "# - El argumento 'use.names' controla si los nombres de los elementos se conservan en el vector resultante.\n"
      ],
      "metadata": {
        "colab": {
          "base_uri": "https://localhost:8080/"
        },
        "id": "ivun32Tii23V",
        "outputId": "b1ae5ebf-b9a9-488a-f8cd-88df16a0140f"
      },
      "execution_count": null,
      "outputs": [
        {
          "output_type": "stream",
          "name": "stdout",
          "text": [
            "  A1   A2   A3   B1   B2 C.D1 C.D2 C.E1 C.E2 C.E3 \n",
            "   1    2    3    4    5    6    7    8    9   10 \n",
            "$A1\n",
            "[1] 1\n",
            "\n",
            "$A2\n",
            "[1] 2\n",
            "\n",
            "$A3\n",
            "[1] 3\n",
            "\n",
            "$B1\n",
            "[1] 4\n",
            "\n",
            "$B2\n",
            "[1] 5\n",
            "\n",
            "$C.D\n",
            "[1] 6 7\n",
            "\n",
            "$C.E\n",
            "[1]  8  9 10\n",
            "\n",
            " [1]  1  2  3  4  5  6  7  8  9 10\n"
          ]
        }
      ]
    },
    {
      "cell_type": "markdown",
      "source": [
        "### **2.14.1 Funcionamiento en marcos de datos**"
      ],
      "metadata": {
        "id": "DVqVu_TinaF5"
      }
    },
    {
      "cell_type": "code",
      "source": [
        "# Crear un dataframe de ejemplo\n",
        "df <- data.frame(\n",
        "  x = 1:5,\n",
        "  y = c(\"a\", \"b\", \"c\", \"d\", \"e\")\n",
        ")\n",
        "\n",
        "# Crear un vector de condiciones que incluye TRUE, FALSE y NA\n",
        "condition <- c(TRUE, FALSE, NA, TRUE, FALSE)\n",
        "\n",
        "# Utilizar subset() en el dataframe usando el vector de condiciones\n",
        "result <- subset(df, subset = (x %in% condition))\n",
        "\n",
        "print(result)\n",
        "# Esperamos ver las filas donde la condición es TRUE. Las filas donde la condición es NA probablemente serán excluidas.\n",
        "\n",
        "# En resumen:\n",
        "# - La función subset() filtra un dataframe basado en una condición.\n",
        "# - Si el resultado de la condición para una fila es TRUE, la fila es incluida.\n",
        "# - Si el resultado de la condición para una fila es FALSE o NA, la fila es excluida.\n"
      ],
      "metadata": {
        "colab": {
          "base_uri": "https://localhost:8080/"
        },
        "id": "FsA70O5di25R",
        "outputId": "192b4039-46bb-4177-d684-c6aae8f65e10"
      },
      "execution_count": null,
      "outputs": [
        {
          "output_type": "stream",
          "name": "stdout",
          "text": [
            "  x y\n",
            "1 1 a\n"
          ]
        }
      ]
    },
    {
      "cell_type": "code",
      "source": [
        "# Creando un dataframe de ejemplo a.df para poder visualizar el cambio\n",
        "a.df <- data.frame(\n",
        "  x1 = 1:6,\n",
        "  x2 = letters[1:6],\n",
        "  x3 = 11:16\n",
        ")\n",
        "print(\"Antes de aplicar el truco:\")\n",
        "print(a.df)\n",
        "\n",
        "# a.df[1:6, c(1,3)] <- a.df[6:1, c(3,1)]\n",
        "# Lo que esto hace es:\n",
        "# 1. Selecciona las primeras 6 filas y las columnas 1 y 3 de a.df.\n",
        "# 2. Les asigna los valores de las filas 6 a 1 (en orden inverso) y las columnas 3 y 1 de a.df.\n",
        "\n",
        "# Esencialmente, está intercambiando los valores entre las columnas 1 y 3, pero en orden inverso.\n",
        "a.df[1:6, c(1,3)] <- a.df[6:1, c(3,1)]\n",
        "\n",
        "print(\"Después de aplicar el truco:\")\n",
        "print(a.df)\n"
      ],
      "metadata": {
        "colab": {
          "base_uri": "https://localhost:8080/"
        },
        "id": "NhPDw54oiH1f",
        "outputId": "2bbbcb8a-0d52-421d-ce1b-344561f51ea4"
      },
      "execution_count": null,
      "outputs": [
        {
          "output_type": "stream",
          "name": "stdout",
          "text": [
            "[1] \"Antes de aplicar el truco:\"\n",
            "  x1 x2 x3\n",
            "1  1  a 11\n",
            "2  2  b 12\n",
            "3  3  c 13\n",
            "4  4  d 14\n",
            "5  5  e 15\n",
            "6  6  f 16\n",
            "[1] \"Después de aplicar el truco:\"\n",
            "  x1 x2 x3\n",
            "1 16  a  6\n",
            "2 15  b  5\n",
            "3 14  c  4\n",
            "4 13  d  3\n",
            "5 12  e  2\n",
            "6 11  f  1\n"
          ]
        }
      ]
    },
    {
      "cell_type": "code",
      "source": [
        "# Paso 1: Crear el dataframe\n",
        "set.seed(123)  # Para que el ejemplo sea reproducible\n",
        "a.df <- data.frame(\n",
        "  A = sample(1:100, 10), # 10 valores aleatorios entre 1 y 100\n",
        "  B = sample(1:100, 10),\n",
        "  C = sample(1:100, 10)\n",
        ")\n",
        "print(\"Dataframe original:\")\n",
        "print(a.df)\n",
        "\n",
        "# Paso 2: Ordenar por la columna A en orden descendente\n",
        "a.df <- a.df[order(-a.df$A), ]\n",
        "print(\"Ordenado por columna A en orden descendente:\")\n",
        "print(a.df)\n",
        "\n",
        "# Paso 3: Ordenar según la suma de A y B en orden ascendente sin agregar una nueva columna\n",
        "a.df <- a.df[order(a.df$A + a.df$B), ]\n",
        "print(\"Ordenado por la suma de A y B en orden ascendente:\")\n",
        "print(a.df)\n"
      ],
      "metadata": {
        "colab": {
          "base_uri": "https://localhost:8080/"
        },
        "id": "q3lXzXMuoAx3",
        "outputId": "4346bec4-e401-40af-c7b6-b3cb3e9e73da"
      },
      "execution_count": null,
      "outputs": [
        {
          "output_type": "stream",
          "name": "stdout",
          "text": [
            "[1] \"Dataframe original:\"\n",
            "    A  B  C\n",
            "1  31 90  7\n",
            "2  79 91 42\n",
            "3  51 69  9\n",
            "4  14 99 83\n",
            "5  67 57 36\n",
            "6  42 92 78\n",
            "7  50  9 81\n",
            "8  43 93 43\n",
            "9  97 72 76\n",
            "10 25 26 15\n",
            "[1] \"Ordenado por columna A en orden descendente:\"\n",
            "    A  B  C\n",
            "9  97 72 76\n",
            "2  79 91 42\n",
            "5  67 57 36\n",
            "3  51 69  9\n",
            "7  50  9 81\n",
            "8  43 93 43\n",
            "6  42 92 78\n",
            "1  31 90  7\n",
            "10 25 26 15\n",
            "4  14 99 83\n",
            "[1] \"Ordenado por la suma de A y B en orden ascendente:\"\n",
            "    A  B  C\n",
            "10 25 26 15\n",
            "7  50  9 81\n",
            "4  14 99 83\n",
            "3  51 69  9\n",
            "1  31 90  7\n",
            "5  67 57 36\n",
            "6  42 92 78\n",
            "8  43 93 43\n",
            "9  97 72 76\n",
            "2  79 91 42\n"
          ]
        }
      ]
    },
    {
      "cell_type": "code",
      "source": [
        "# Paso 1: Crear el dataframe con factores\n",
        "set.seed(123)  # Para que el ejemplo sea reproducible\n",
        "a.df <- data.frame(\n",
        "  A = factor(sample(letters[1:10], 10, replace=TRUE)),\n",
        "  B = factor(sample(letters[11:20], 10, replace=TRUE)),\n",
        "  C = factor(sample(letters[21:26], 10, replace=TRUE))\n",
        ")\n",
        "print(\"Dataframe original:\")\n",
        "print(a.df)\n",
        "\n",
        "# Paso 2: Ordenar por la columna A según los niveles del factor\n",
        "a.df <- a.df[order(a.df$A), ]\n",
        "print(\"Ordenado por columna A según niveles:\")\n",
        "print(a.df)\n",
        "\n",
        "# Paso 3: Ordenar según la combinación de niveles de A y B\n",
        "# Usamos interaction() para combinar los niveles de A y B y luego ordenamos según esa combinación\n",
        "a.df <- a.df[order(interaction(a.df$A, a.df$B)), ]\n",
        "print(\"Ordenado por la combinación de niveles de A y B:\")\n",
        "print(a.df)"
      ],
      "metadata": {
        "colab": {
          "base_uri": "https://localhost:8080/"
        },
        "id": "N7MWOdWzoAzj",
        "outputId": "37f09520-6104-453c-b1de-668adf4f37c6"
      },
      "execution_count": null,
      "outputs": [
        {
          "output_type": "stream",
          "name": "stdout",
          "text": [
            "[1] \"Dataframe original:\"\n",
            "   A B C\n",
            "1  c o u\n",
            "2  c m z\n",
            "3  j s w\n",
            "4  b s x\n",
            "5  f s z\n",
            "6  e m u\n",
            "7  d r w\n",
            "8  f t y\n",
            "9  i q x\n",
            "10 j t v\n",
            "[1] \"Ordenado por columna A según niveles:\"\n",
            "   A B C\n",
            "4  b s x\n",
            "1  c o u\n",
            "2  c m z\n",
            "7  d r w\n",
            "6  e m u\n",
            "5  f s z\n",
            "8  f t y\n",
            "9  i q x\n",
            "3  j s w\n",
            "10 j t v\n",
            "[1] \"Ordenado por la combinación de niveles de A y B:\"\n",
            "   A B C\n",
            "2  c m z\n",
            "6  e m u\n",
            "1  c o u\n",
            "9  i q x\n",
            "7  d r w\n",
            "4  b s x\n",
            "5  f s z\n",
            "3  j s w\n",
            "8  f t y\n",
            "10 j t v\n"
          ]
        }
      ]
    },
    {
      "cell_type": "markdown",
      "source": [
        "### **2.16 Guardar y cargar datos**\n",
        "### **2.16.1 Conjuntos de datos en R y paquetes**"
      ],
      "metadata": {
        "id": "eJK01YSKobn7"
      }
    },
    {
      "cell_type": "code",
      "source": [
        "# Crear objetos de muestra\n",
        "df1 <- data.frame(a = 1:5, b = letters[1:5])\n",
        "df2 <- data.frame(x = rnorm(5), y = runif(5))\n",
        "vector1 <- c(10, 20, 30)\n",
        "vector2 <- c(\"apple\", \"banana\", \"cherry\")\n",
        "\n",
        "# Guardar múltiples objetos en un archivo .RData\n",
        "save(df1, df2, vector1, vector2, file = \"my_data.RData\")\n",
        "\n",
        "# Limpieza del espacio de trabajo\n",
        "rm(list = ls())\n",
        "\n",
        "# Verificar que los objetos han sido eliminados\n",
        "print(ls())  # Debería no mostrar nada o solo algunos objetos no relacionados\n",
        "\n",
        "# Cargar objetos desde el archivo .RData\n",
        "load(\"my_data.RData\")\n",
        "\n",
        "# Verificar que los objetos han sido restaurados\n",
        "print(ls())  # Debería mostrar df1, df2, vector1 y vector2\n"
      ],
      "metadata": {
        "colab": {
          "base_uri": "https://localhost:8080/"
        },
        "id": "gAYVnB-loA1q",
        "outputId": "3e887d8b-7988-4e72-a912-a27ee3afe348"
      },
      "execution_count": null,
      "outputs": [
        {
          "output_type": "stream",
          "name": "stdout",
          "text": [
            "character(0)\n",
            "[1] \"df1\"     \"df2\"     \"vector1\" \"vector2\"\n"
          ]
        }
      ]
    },
    {
      "cell_type": "code",
      "source": [
        "# Crear algunos objetos de muestra\n",
        "var1 <- 1:5\n",
        "var2 <- c(\"manzana\", \"plátano\", \"cereza\")\n",
        "data_frame1 <- data.frame(a = 1:5, b = letters[1:5])\n",
        "data_frame2 <- data.frame(x = rnorm(5), y = runif(5))\n",
        "\n",
        "# Listar todos los objetos del espacio de trabajo\n",
        "all_objects <- ls()\n",
        "\n",
        "# Listar objetos que comienzan con \"var\"\n",
        "var_objects <- ls(pattern = \"^var\")\n",
        "\n",
        "# Listar objetos que terminan con \"1\"\n",
        "ends_with_1_objects <- ls(pattern = \"1$\")\n",
        "\n",
        "# Listar objetos que contienen \"frame\"\n",
        "frame_objects <- ls(pattern = \"frame\")\n",
        "\n",
        "# Ver qué objetos se han capturado con cada patrón\n",
        "print(\"Todos los objetos en el espacio de trabajo:\")\n",
        "print(all_objects)\n",
        "\n",
        "print(\"Objetos que comienzan con 'var':\")\n",
        "print(var_objects)\n",
        "\n",
        "print(\"Objetos que terminan con '1':\")\n",
        "print(ends_with_1_objects)\n",
        "\n",
        "print(\"Objetos que contienen 'frame':\")\n",
        "print(frame_objects)"
      ],
      "metadata": {
        "colab": {
          "base_uri": "https://localhost:8080/"
        },
        "id": "AJdCnbTsoA33",
        "outputId": "9679c5f5-f036-4433-bf9c-a77f0702961d"
      },
      "execution_count": null,
      "outputs": [
        {
          "output_type": "stream",
          "name": "stdout",
          "text": [
            "[1] \"Todos los objetos en el espacio de trabajo:\"\n",
            " [1] \"a_vector\"    \"abc_value\"   \"b_vector\"    \"data_frame1\" \"data_frame2\"\n",
            " [6] \"data1\"       \"data2\"       \"df1\"         \"df2\"         \"temp_var\"   \n",
            "[11] \"var1\"        \"var2\"        \"vector1\"     \"vector2\"    \n",
            "[1] \"Objetos que comienzan con 'var':\"\n",
            "[1] \"var1\" \"var2\"\n",
            "[1] \"Objetos que terminan con '1':\"\n",
            "[1] \"data_frame1\" \"data1\"       \"df1\"         \"var1\"        \"vector1\"    \n",
            "[1] \"Objetos que contienen 'frame':\"\n",
            "[1] \"data_frame1\" \"data_frame2\"\n"
          ]
        }
      ]
    },
    {
      "cell_type": "markdown",
      "source": [
        "### **2.17 Observar los datos**"
      ],
      "metadata": {
        "id": "EEvtvb1ypSAA"
      }
    },
    {
      "cell_type": "code",
      "source": [
        "# Acceder al conjunto de datos 'cars'\n",
        "data(cars)\n",
        "\n",
        "# Usar head() para obtener las primeras dos líneas de 'cars'\n",
        "first_two_rows <- head(cars, 2)\n",
        "print(\"Primeras dos líneas de 'cars':\")\n",
        "print(first_two_rows)\n",
        "\n",
        "# Usar tail() para obtener las últimas tres líneas de 'cars'\n",
        "last_three_rows <- tail(cars, 3)\n",
        "print(\"Últimas tres líneas de 'cars':\")\n",
        "print(last_three_rows)"
      ],
      "metadata": {
        "colab": {
          "base_uri": "https://localhost:8080/"
        },
        "id": "66i2q_QVoA53",
        "outputId": "5cad4b03-71b7-445d-8e55-96e46832df27"
      },
      "execution_count": null,
      "outputs": [
        {
          "output_type": "stream",
          "name": "stdout",
          "text": [
            "[1] \"Primeras dos líneas de 'cars':\"\n",
            "  speed dist\n",
            "1     4    2\n",
            "2     4   10\n",
            "[1] \"Últimas tres líneas de 'cars':\"\n",
            "   speed dist\n",
            "48    24   93\n",
            "49    24  120\n",
            "50    25   85\n"
          ]
        }
      ]
    },
    {
      "cell_type": "code",
      "source": [
        "# Cargar el conjunto de datos 'airquality'\n",
        "data(airquality)\n",
        "\n",
        "# Obtener una descripción general del conjunto de datos con str()\n",
        "print(\"Descripción del conjunto de datos 'airquality':\")\n",
        "str(airquality)\n",
        "\n",
        "# Mostrar las primeras filas del conjunto de datos para tener una vista preliminar\n",
        "print(\"Primeras filas de 'airquality':\")\n",
        "print(head(airquality))\n",
        "\n",
        "# Mostrar las últimas filas del conjunto de datos para tener una vista preliminar\n",
        "print(\"Últimas filas de 'airquality':\")\n",
        "print(tail(airquality))\n",
        "\n",
        "# Obtener la dimensión del conjunto de datos (número de filas y columnas)\n",
        "dimensions <- dim(airquality)\n",
        "print(paste(\"El conjunto de datos 'airquality' tiene\", dimensions[1], \"filas y\", dimensions[2], \"columnas.\"))"
      ],
      "metadata": {
        "colab": {
          "base_uri": "https://localhost:8080/"
        },
        "id": "E14AdPvOoA7v",
        "outputId": "ea5546c9-cdcd-464d-ba6a-1ac93f700b95"
      },
      "execution_count": null,
      "outputs": [
        {
          "output_type": "stream",
          "name": "stdout",
          "text": [
            "[1] \"Descripción del conjunto de datos 'airquality':\"\n",
            "'data.frame':\t153 obs. of  6 variables:\n",
            " $ Ozone  : int  41 36 12 18 NA 28 23 19 8 NA ...\n",
            " $ Solar.R: int  190 118 149 313 NA NA 299 99 19 194 ...\n",
            " $ Wind   : num  7.4 8 12.6 11.5 14.3 14.9 8.6 13.8 20.1 8.6 ...\n",
            " $ Temp   : int  67 72 74 62 56 66 65 59 61 69 ...\n",
            " $ Month  : int  5 5 5 5 5 5 5 5 5 5 ...\n",
            " $ Day    : int  1 2 3 4 5 6 7 8 9 10 ...\n",
            "[1] \"Primeras filas de 'airquality':\"\n",
            "  Ozone Solar.R Wind Temp Month Day\n",
            "1    41     190  7.4   67     5   1\n",
            "2    36     118  8.0   72     5   2\n",
            "3    12     149 12.6   74     5   3\n",
            "4    18     313 11.5   62     5   4\n",
            "5    NA      NA 14.3   56     5   5\n",
            "6    28      NA 14.9   66     5   6\n",
            "[1] \"Últimas filas de 'airquality':\"\n",
            "    Ozone Solar.R Wind Temp Month Day\n",
            "148    14      20 16.6   63     9  25\n",
            "149    30     193  6.9   70     9  26\n",
            "150    NA     145 13.2   77     9  27\n",
            "151    14     191 14.3   75     9  28\n",
            "152    18     131  8.0   76     9  29\n",
            "153    20     223 11.5   68     9  30\n",
            "[1] \"El conjunto de datos 'airquality' tiene 153 filas y 6 columnas.\"\n"
          ]
        }
      ]
    },
    {
      "cell_type": "code",
      "source": [
        "# Obtener el resumen de 'airquality'\n",
        "print(\"Resumen de 'airquality':\")\n",
        "print(summary(airquality))\n",
        "\n",
        "# Función para contar el número de valores no faltantes en cada columna\n",
        "count_non_missing <- function(column) {\n",
        "  sum(!is.na(column))\n",
        "}\n",
        "\n",
        "# Aplicar la función a cada columna de 'airquality' usando apply()\n",
        "non_missing_counts <- apply(airquality, 2, count_non_missing)\n",
        "\n",
        "# Mostrar los conteos de valores no faltantes\n",
        "print(\"Número de valores no faltantes en cada columna:\")\n",
        "print(non_missing_counts)"
      ],
      "metadata": {
        "colab": {
          "base_uri": "https://localhost:8080/"
        },
        "id": "QKyydLbGpeg6",
        "outputId": "2a3e5a9a-5b38-41c9-baef-9d6fbb94564b"
      },
      "execution_count": null,
      "outputs": [
        {
          "output_type": "stream",
          "name": "stdout",
          "text": [
            "[1] \"Resumen de 'airquality':\"\n",
            "     Ozone           Solar.R           Wind             Temp      \n",
            " Min.   :  1.00   Min.   :  7.0   Min.   : 1.700   Min.   :56.00  \n",
            " 1st Qu.: 18.00   1st Qu.:115.8   1st Qu.: 7.400   1st Qu.:72.00  \n",
            " Median : 31.50   Median :205.0   Median : 9.700   Median :79.00  \n",
            " Mean   : 42.13   Mean   :185.9   Mean   : 9.958   Mean   :77.88  \n",
            " 3rd Qu.: 63.25   3rd Qu.:258.8   3rd Qu.:11.500   3rd Qu.:85.00  \n",
            " Max.   :168.00   Max.   :334.0   Max.   :20.700   Max.   :97.00  \n",
            " NA's   :37       NA's   :7                                       \n",
            "     Month            Day      \n",
            " Min.   :5.000   Min.   : 1.0  \n",
            " 1st Qu.:6.000   1st Qu.: 8.0  \n",
            " Median :7.000   Median :16.0  \n",
            " Mean   :6.993   Mean   :15.8  \n",
            " 3rd Qu.:8.000   3rd Qu.:23.0  \n",
            " Max.   :9.000   Max.   :31.0  \n",
            "                               \n",
            "[1] \"Número de valores no faltantes en cada columna:\"\n",
            "  Ozone Solar.R    Wind    Temp   Month     Day \n",
            "    116     146     153     153     153     153 \n"
          ]
        }
      ]
    },
    {
      "cell_type": "markdown",
      "source": [
        "### **2.18 Trazado**"
      ],
      "metadata": {
        "id": "XgbsaKawqFH6"
      }
    },
    {
      "cell_type": "code",
      "source": [
        "# 1. Uso directo de las columnas del dataframe 'cars' para crear un scatter plot.\n",
        "plot(x = cars$speed, y = cars$dist)\n",
        "\n",
        "# 2. Uso de una fórmula para especificar las variables a graficar del dataframe 'cars'.\n",
        "plot(dist ~ speed, data = cars)\n",
        "\n",
        "# 3. Cuando se pasan una variable numérica y una factor a la función plot(), se produce un boxplot.\n",
        "# Usamos el dataframe 'chickwts' para este ejemplo.\n",
        "plot(weight ~ feed, data = chickwts)\n",
        "\n",
        "# 4. Crear y guardar un gráfico en un archivo PDF. El gráfico se guardará cuando se cierre el dispositivo con dev.off().\n",
        "pdf(file = \"/content/sample/my-file.pdf\", width = 6, height = 5, onefile = TRUE)\n",
        "plot(dist ~ speed, data = cars)\n",
        "plot(weight ~ feed, data = chickwts)\n",
        "dev.off()\n",
        "\n",
        "# 5. Crear y guardar un gráfico en un archivo PNG. De nuevo, el gráfico se guardará al cerrar el dispositivo.\n",
        "png(file = \"/content/sample/my-file2.pdf\", width = 600, height = 500)\n",
        "plot(weight ~ feed, data = chickwts)\n",
        "dev.off()\n",
        "\n",
        "# 6. Agregar texto adicional a un gráfico existente con la función text().\n",
        "png(file = \"/content/sample/my-file3.pdf\", width = 600, height = 500)\n",
        "plot(dist ~ speed, data = cars)\n",
        "text(x = 10, y = 110, labels = \"some texts to be added\")\n",
        "dev.off()"
      ],
      "metadata": {
        "colab": {
          "base_uri": "https://localhost:8080/",
          "height": 1000
        },
        "id": "w7TzI3WZpejR",
        "outputId": "92a988cc-a08b-46c9-a128-4d61dc9e0804"
      },
      "execution_count": null,
      "outputs": [
        {
          "output_type": "display_data",
          "data": {
            "text/plain": [
              "plot without title"
            ],
            "image/png": "[encoded data removed]"
          },
          "metadata": {
            "image/png": {
              "width": 420,
              "height": 420
            }
          }
        },
        {
          "output_type": "display_data",
          "data": {
            "text/plain": [
              "plot without title"
            ],
            "image/png": "[encoded data removed]"
          },
          "metadata": {
            "image/png": {
              "width": 420,
              "height": 420
            }
          }
        },
        {
          "output_type": "display_data",
          "data": {
            "text/html": [
              "<strong>png:</strong> 2"
            ],
            "text/markdown": "**png:** 2",
            "text/latex": "\\textbf{png:} 2",
            "text/plain": [
              "png \n",
              "  2 "
            ]
          },
          "metadata": {}
        },
        {
          "output_type": "display_data",
          "data": {
            "text/html": [
              "<strong>png:</strong> 2"
            ],
            "text/markdown": "**png:** 2",
            "text/latex": "\\textbf{png:} 2",
            "text/plain": [
              "png \n",
              "  2 "
            ]
          },
          "metadata": {}
        },
        {
          "output_type": "display_data",
          "data": {
            "text/html": [
              "<strong>png:</strong> 2"
            ],
            "text/markdown": "**png:** 2",
            "text/latex": "\\textbf{png:} 2",
            "text/plain": [
              "png \n",
              "  2 "
            ]
          },
          "metadata": {}
        },
        {
          "output_type": "display_data",
          "data": {
            "text/plain": [
              "plot without title"
            ],
            "image/png": "[encoded data removed]"
          },
          "metadata": {
            "image/png": {
              "width": 420,
              "height": 420
            }
          }
        }
      ]
    },
    {
      "cell_type": "markdown",
      "source": [
        "### **3.2 Escribir guiones**\n",
        "### **3.2.3 Cómo escribir un guión**"
      ],
      "metadata": {
        "id": "pao6ZKaUvTmc"
      }
    },
    {
      "cell_type": "code",
      "source": [
        "# my.second.script.r\n",
        "\n",
        "# Comentario: Este es mi segundo script en R.\n",
        "\n",
        "# Imprimir un mensaje de bienvenida\n",
        "print(\"¡Hola, mundo!\")\n",
        "\n",
        "# Crear un vector numérico y calcular su suma\n",
        "my_vector <- c(1, 2, 3, 4, 5)\n",
        "sum_of_vector <- sum(my_vector)\n",
        "print(paste(\"La suma del vector es:\", sum_of_vector))\n",
        "\n",
        "# Crear un simple gráfico de dispersión\n",
        "plot(my_vector, main=\"Mi Simple Gráfico\", xlab=\"Índice\", ylab=\"Valor\")\n"
      ],
      "metadata": {
        "colab": {
          "base_uri": "https://localhost:8080/",
          "height": 472
        },
        "id": "AJ7aPpWapelV",
        "outputId": "b82a16fc-4e58-4d98-e8e8-b9caa0b43109"
      },
      "execution_count": null,
      "outputs": [
        {
          "output_type": "stream",
          "name": "stdout",
          "text": [
            "[1] \"¡Hola, mundo!\"\n",
            "[1] \"La suma del vector es: 15\"\n"
          ]
        },
        {
          "output_type": "display_data",
          "data": {
            "text/plain": [
              "Plot with title “Mi Simple Gráfico”"
            ],
            "image/png": "[encoded data removed]"
          },
          "metadata": {
            "image/png": {
              "width": 420,
              "height": 420
            }
          }
        }
      ]
    },
    {
      "cell_type": "code",
      "source": [
        "# Definimos las variables con nombres más descriptivos\n",
        "height <- 2\n",
        "length <- 4\n",
        "\n",
        "# Calculamos el área y asignamos el resultado a la variable \"area\"\n",
        "area <- height * length\n",
        "\n",
        "# Imprimimos el resultado\n",
        "print(paste(\"Area:\", area))"
      ],
      "metadata": {
        "colab": {
          "base_uri": "https://localhost:8080/"
        },
        "id": "lbWbhbxypena",
        "outputId": "eef5d50b-5f01-44e3-b29b-b56ce8d373cf"
      },
      "execution_count": null,
      "outputs": [
        {
          "output_type": "stream",
          "name": "stdout",
          "text": [
            "[1] \"Area: 8\"\n"
          ]
        }
      ]
    },
    {
      "cell_type": "markdown",
      "source": [
        "### **3.3 Control del flujo de ejecución**\n",
        "### **3.3.2 Ejecución condicional**\n",
        "### **3.3.2.1 If, else y switch no vectorizados**"
      ],
      "metadata": {
        "id": "Kxqytkbrwngv"
      }
    },
    {
      "cell_type": "code",
      "source": [
        "# Define y verifica el valor de flag cuando es FALSE\n",
        "flag <- FALSE\n",
        "if (flag) {\n",
        "  # Este bloque se ejecutará si 'flag' es TRUE\n",
        "  print(\"Flag is TRUE\")\n",
        "} else {\n",
        "  # Este bloque se ejecutará si 'flag' no es TRUE (es decir, es FALSE)\n",
        "  print(\"Flag is FALSE\")\n",
        "}\n",
        "\n",
        "# Define y verifica el valor de flag cuando es NA (Not Available, es decir, un valor faltante)\n",
        "flag <- NA\n",
        "if (is.na(flag)) {\n",
        "  # Este bloque se ejecutará si 'flag' es NA\n",
        "  print(\"Flag is NA\")\n",
        "} else {\n",
        "  # Este bloque se ejecutará si 'flag' no es NA\n",
        "  print(\"Flag is not NA\")\n",
        "}\n",
        "\n",
        "# Define y verifica el valor de flag cuando es un vector lógico vacío\n",
        "flag <- logical(0)\n",
        "if (length(flag) == 0) {\n",
        "  # Este bloque se ejecutará si 'flag' es un vector lógico vacío\n",
        "  print(\"Flag is an empty logical vector\")\n",
        "} else {\n",
        "  # Este bloque se ejecutará si 'flag' no es un vector lógico vacío\n",
        "  print(\"Flag is not empty\")\n",
        "}\n",
        "\n",
        "# Un bloque que siempre se ejecutará porque su condición es siempre verdadera\n",
        "if (TRUE) {\n",
        "  # Dado que la condición es TRUE, este bloque siempre se ejecutará\n",
        "  print(\"Hello!\")\n",
        "}"
      ],
      "metadata": {
        "colab": {
          "base_uri": "https://localhost:8080/"
        },
        "id": "FHo31t7Opepa",
        "outputId": "472f546d-2872-4000-b6c3-176d1b1726f9"
      },
      "execution_count": null,
      "outputs": [
        {
          "output_type": "stream",
          "name": "stdout",
          "text": [
            "[1] \"Flag is FALSE\"\n",
            "[1] \"Flag is NA\"\n",
            "[1] \"Flag is an empty logical vector\"\n",
            "[1] \"Hello!\"\n"
          ]
        }
      ]
    },
    {
      "cell_type": "code",
      "source": [
        "# Caso 1: Asignando un vector numérico con múltiples valores positivos a 'a'\n",
        "a <- c(1, 2, 3, 4, 5)\n",
        "\n",
        "# Comprobar si la suma de los valores en 'a' es positiva\n",
        "if (sum(a) > 0) {\n",
        "  print(\"Sum of a is positive\")  # Imprime si la suma es positiva\n",
        "} else {\n",
        "  print(\"Sum of a is non-positive\")  # Imprime si la suma no es positiva\n",
        "}\n",
        "\n",
        "# Caso 2: Asignando un vector numérico con valores que suman a cero a 'a'\n",
        "a <- c(1, -1, 2, -2, 3, -3)\n",
        "\n",
        "# Comprobar si la suma de los valores en 'a' es positiva\n",
        "if (sum(a) > 0) {\n",
        "  print(\"Sum of a is positive\")\n",
        "} else {\n",
        "  print(\"Sum of a is non-positive\")\n",
        "}\n",
        "\n",
        "# Caso 3: Asignando un vector numérico con todos los valores negativos a 'a'\n",
        "a <- c(-1, -2, -3, -4, -5)\n",
        "\n",
        "# Comprobar si la suma de los valores en 'a' es positiva\n",
        "if (sum(a) > 0) {\n",
        "  print(\"Sum of a is positive\")\n",
        "} else {\n",
        "  print(\"Sum of a is non-positive\")\n",
        "}\n",
        "\n",
        "# Caso 4: Asignando un vector numérico vacío a 'a'\n",
        "a <- numeric(0)\n",
        "\n",
        "# Comprobar si 'a' tiene algún valor\n",
        "if (length(a) > 0) {\n",
        "  # Si 'a' tiene valores, comprobar si la suma es positiva\n",
        "  if (sum(a) > 0) {\n",
        "    print(\"Sum of a is positive\")\n",
        "  } else {\n",
        "    print(\"Sum of a is non-positive\")\n",
        "  }\n",
        "} else {\n",
        "  # Si 'a' no tiene valores, imprimir que es un vector vacío\n",
        "  print(\"a is an empty numeric vector\")\n",
        "}\n"
      ],
      "metadata": {
        "colab": {
          "base_uri": "https://localhost:8080/"
        },
        "id": "nePy5hx_perJ",
        "outputId": "87d7d385-62bd-4255-93f6-7dcea5bf41b7"
      },
      "execution_count": null,
      "outputs": [
        {
          "output_type": "stream",
          "name": "stdout",
          "text": [
            "[1] \"Sum of a is positive\"\n",
            "[1] \"Sum of a is non-positive\"\n",
            "[1] \"Sum of a is non-positive\"\n",
            "[1] \"a is an empty numeric vector\"\n"
          ]
        }
      ]
    },
    {
      "cell_type": "code",
      "source": [
        "# 1. Ejemplo simple con if\n",
        "value <- 5\n",
        "if (value > 0) {\n",
        "  print(\"Positive number\")\n",
        "}\n",
        "# Si el valor es mayor que cero, imprime \"Positive number\"\n",
        "\n",
        "# 2. Ejemplo con if-else\n",
        "if (value > 0) {\n",
        "  print(\"Positive number\")\n",
        "} else {\n",
        "  print(\"Non-positive number\")\n",
        "}\n",
        "# Si el valor es mayor que cero, imprime \"Positive number\", de lo contrario, imprime \"Non-positive number\"\n",
        "\n",
        "# 3. Ejemplo con múltiples condiciones usando else if\n",
        "score <- 85\n",
        "if (score >= 90) {\n",
        "  print(\"Grade A\")\n",
        "} else if (score >= 80) {\n",
        "  print(\"Grade B\")\n",
        "} else if (score >= 70) {\n",
        "  print(\"Grade C\")\n",
        "} else {\n",
        "  print(\"Grade below C\")\n",
        "}\n",
        "# Dependiendo del valor de \"score\", imprime el grado correspondiente.\n",
        "# Si el score es 85, se imprime \"Grade B\" porque cae en el rango 80-89.\n",
        "\n",
        "# 4. Usar if-else en una función\n",
        "getGrade <- function(score) {\n",
        "  if (score >= 90) {\n",
        "    return(\"Grade A\")\n",
        "  } else if (score >= 80) {\n",
        "    return(\"Grade B\")\n",
        "  } else if (score >= 70) {\n",
        "    return(\"Grade C\")\n",
        "  } else {\n",
        "    return(\"Grade below C\")\n",
        "  }\n",
        "}\n",
        "\n",
        "result <- getGrade(78)\n",
        "print(paste(\"Your grade is:\", result))\n",
        "# Usa una función para determinar el grado basado en el score.\n",
        "# Para un score de 78, la función retornará \"Grade C\"."
      ],
      "metadata": {
        "colab": {
          "base_uri": "https://localhost:8080/"
        },
        "id": "rpPCffEFx0Su",
        "outputId": "2253c2e2-4bb5-4722-d86a-f0c24e1e3dd3"
      },
      "execution_count": null,
      "outputs": [
        {
          "output_type": "stream",
          "name": "stdout",
          "text": [
            "[1] \"Positive number\"\n",
            "[1] \"Positive number\"\n",
            "[1] \"Grade B\"\n",
            "[1] \"Your grade is: Grade C\"\n"
          ]
        }
      ]
    },
    {
      "cell_type": "code",
      "source": [
        "# Las reglas de conversión entre numéricos y lógicos se basan en los siguientes principios:\n",
        "# - 0 se considera FALSE.\n",
        "# - Cualquier número distinto de 0 se considera TRUE.\n",
        "# - NA se considera NA.\n",
        "\n",
        "if (0) print(\"hello\")\n",
        "# El valor 0 se considera FALSE, por lo que el código dentro del if no se ejecuta.\n",
        "\n",
        "if (-1) print(\"hello\")\n",
        "# Cualquier número distinto de 0 se considera TRUE, por lo que el código se ejecuta y se imprime \"hello\".\n",
        "\n",
        "if (0.01) print(\"hello\")\n",
        "# Cualquier número distinto de 0 se considera TRUE, por lo que el código se ejecuta y se imprime \"hello\".\n",
        "\n",
        "if (1e-300) print(\"hello\")\n",
        "# Cualquier número distinto de 0 se considera TRUE, por lo que el código se ejecuta y se imprime \"hello\".\n",
        "\n",
        "if (1e-323) print(\"hello\")\n",
        "# Cualquier número distinto de 0 se considera TRUE, por lo que el código se ejecuta y se imprime \"hello\".\n",
        "\n",
        "if (1e-324) print(\"hello\")\n",
        "# Los números muy pequeños se redondean a 0, por lo que este caso se considera FALSE y el código no se ejecuta.\n",
        "\n",
        "if (1e-500) print(\"hello\")\n",
        "# Los números muy pequeños se redondean a 0, por lo que este caso se considera FALSE y el código no se ejecuta.\n",
        "\n",
        "if (as.logical(\"true\")) print(\"hello\")\n",
        "# \"true\" se considera un valor lógico TRUE, por lo que el código se ejecuta y se imprime \"hello\".\n",
        "\n",
        "if (as.logical(as.numeric(\"1\"))) print(\"hello\")\n",
        "# \"1\" se convierte en 1 como numérico y luego se convierte en TRUE como lógico, por lo que el código se ejecuta y se imprime \"hello\".\n",
        "\n",
        "if (as.logical(\"1\")) print(\"hello\")\n",
        "# \"1\" se considera TRUE como un valor lógico, por lo que el código se ejecuta y se imprime \"hello\".\n"
      ],
      "metadata": {
        "colab": {
          "base_uri": "https://localhost:8080/",
          "height": 210
        },
        "id": "tnQrQ9wDx0Uq",
        "outputId": "61a4c8d3-517e-4e84-d002-a53c81f63861"
      },
      "execution_count": null,
      "outputs": [
        {
          "output_type": "stream",
          "name": "stdout",
          "text": [
            "[1] \"hello\"\n",
            "[1] \"hello\"\n",
            "[1] \"hello\"\n",
            "[1] \"hello\"\n",
            "[1] \"hello\"\n",
            "[1] \"hello\"\n"
          ]
        },
        {
          "output_type": "error",
          "ename": "ERROR",
          "evalue": "ignored",
          "traceback": [
            "Error in if (as.logical(\"1\")) print(\"hello\"): missing value where TRUE/FALSE needed\nTraceback:\n"
          ]
        }
      ]
    },
    {
      "cell_type": "code",
      "source": [
        "# 1. Uso de switch() con caracteres:\n",
        "\n",
        "# Definimos una función simple que utiliza switch para determinar el color de una fruta\n",
        "fruitColor <- function(fruit) {\n",
        "  switch(fruit,\n",
        "         apple = \"red\",\n",
        "         banana = \"yellow\",\n",
        "         grape = \"purple\",\n",
        "         \"unknown\")\n",
        "}\n",
        "\n",
        "# Probar la función:\n",
        "print(fruitColor(\"apple\"))  # Debería imprimir \"red\"\n",
        "print(fruitColor(\"banana\")) # Debería imprimir \"yellow\"\n",
        "print(fruitColor(\"kiwi\"))   # Debería imprimir \"unknown\" porque \"kiwi\" no se encuentra en nuestra lista"
      ],
      "metadata": {
        "colab": {
          "base_uri": "https://localhost:8080/"
        },
        "id": "Fw_wvMX6x0XR",
        "outputId": "a5fa60f3-9f5f-4c82-eda3-3f38190ce477"
      },
      "execution_count": null,
      "outputs": [
        {
          "output_type": "stream",
          "name": "stdout",
          "text": [
            "[1] \"red\"\n",
            "[1] \"yellow\"\n",
            "[1] \"unknown\"\n"
          ]
        }
      ]
    },
    {
      "cell_type": "code",
      "source": [
        "# 2. Uso de switch() con números:\n",
        "\n",
        "# Definimos una función simple que utiliza switch para obtener la posición de un número\n",
        "getPosition <- function(n) {\n",
        "  switch(n,\n",
        "         \"first\",\n",
        "         \"second\",\n",
        "         \"third\",\n",
        "         \"unknown\")\n",
        "}\n",
        "\n",
        "# Probar la función:\n",
        "print(getPosition(1))  # Debería imprimir \"first\"\n",
        "print(getPosition(2))  # Debería imprimir \"second\"\n",
        "print(getPosition(3))  # Debería imprimir \"third\"\n",
        "print(getPosition(4))  # Debería imprimir \"unknown\" porque el 4 no se encuentra en nuestra lista"
      ],
      "metadata": {
        "colab": {
          "base_uri": "https://localhost:8080/"
        },
        "id": "PE535ynPx0Ze",
        "outputId": "324c7f77-7a9f-4aca-f3c6-9096521aab37"
      },
      "execution_count": null,
      "outputs": [
        {
          "output_type": "stream",
          "name": "stdout",
          "text": [
            "[1] \"first\"\n",
            "[1] \"second\"\n",
            "[1] \"third\"\n",
            "[1] \"unknown\"\n"
          ]
        }
      ]
    },
    {
      "cell_type": "markdown",
      "source": [
        "### **3.3.2.2 Vectorizado ifelse()**"
      ],
      "metadata": {
        "id": "5RR7AE-ez7gb"
      }
    },
    {
      "cell_type": "code",
      "source": [
        "# Definir un vector numérico de 1 a 10\n",
        "a <- 1:10\n",
        "\n",
        "# Uso básico de ifelse:\n",
        "# Si un número en el vector 'a' es mayor que 5, se devuelve 1. De lo contrario, se devuelve -1.\n",
        "result1 <- ifelse(a > 5, 1, -1)\n",
        "print(result1) # Se espera: -1 -1 -1 -1 -1 1 1 1 1 1\n",
        "\n",
        "# Modificación basada en condición:\n",
        "# Si un número en 'a' es mayor que 5, se suma 1 al número. De lo contrario, se resta 1.\n",
        "result2 <- ifelse(a > 5, a + 1, a - 1)\n",
        "print(result2) # Se espera: 0 1 2 3 4 7 8 9 10 11\n",
        "\n",
        "# Uso de `any()` con ifelse:\n",
        "# Si algún número en 'a' es mayor que 5, se suma 1 a todos los números en 'a'.\n",
        "result3 <- ifelse(any(a > 5), a + 1, a - 1)\n",
        "print(result3) # Se espera: 2 3 4 5 6 7 8 9 10 11\n",
        "\n",
        "# Condición con vector lógico de longitud 0:\n",
        "# La condición es un vector vacío, por lo que el resultado es un vector numérico vacío.\n",
        "result4 <- ifelse(logical(0), a + 1, a - 1)\n",
        "print(result4) # Se espera un vector numérico vacío.\n",
        "\n",
        "# Condición con NA:\n",
        "# La condición es NA, por lo que el resultado es un vector lleno de NA.\n",
        "result5 <- ifelse(NA, a + 1, a - 1)\n",
        "print(result5) # Se espera: NA NA NA NA NA NA NA NA NA NA"
      ],
      "metadata": {
        "colab": {
          "base_uri": "https://localhost:8080/"
        },
        "id": "piAuxu2Xx0bx",
        "outputId": "7e9aaf1a-065e-411a-c669-c65c494faac8"
      },
      "execution_count": null,
      "outputs": [
        {
          "output_type": "stream",
          "name": "stdout",
          "text": [
            " [1] -1 -1 -1 -1 -1  1  1  1  1  1\n",
            " [1]  0  1  2  3  4  7  8  9 10 11\n",
            "[1] 2\n",
            "logical(0)\n",
            "[1] NA\n"
          ]
        }
      ]
    },
    {
      "cell_type": "code",
      "source": [
        "# Definir tres vectores de datos:\n",
        "a <- -10:-1\n",
        "b <- +1:10\n",
        "c <- c(rep(\"a\", 5), rep(\"b\", 5))\n",
        "\n",
        "# Usar ifelse() para construir el vector d basado en las condiciones en c.\n",
        "# Si c es \"a\", selecciona el valor de a. Si c es \"b\", selecciona el valor de b.\n",
        "d <- ifelse(c == \"a\", a, ifelse(c == \"b\", b, NA))\n",
        "\n",
        "# Imprimir el vector resultante d\n",
        "print(d)"
      ],
      "metadata": {
        "colab": {
          "base_uri": "https://localhost:8080/"
        },
        "id": "CPTEPPiPx0iy",
        "outputId": "4619b703-300c-4df7-8fc7-392f2537d218"
      },
      "execution_count": null,
      "outputs": [
        {
          "output_type": "stream",
          "name": "stdout",
          "text": [
            " [1] -10  -9  -8  -7  -6   6   7   8   9  10\n"
          ]
        }
      ]
    },
    {
      "cell_type": "markdown",
      "source": [
        "### **3.3.3.1 bucles for**"
      ],
      "metadata": {
        "id": "neywyWw01FaT"
      }
    },
    {
      "cell_type": "code",
      "source": [
        "# Ejemplo de un loop\n",
        "a <- c(2, 4, 6, 8, 10)\n",
        "\n",
        "# Bucle a través de los valores de \"a\"\n",
        "for (i in seq(along.with = a)) {\n",
        "    # Imprimir el índice actual \"i\"\n",
        "    print(paste(\"Índice actual:\", i))\n",
        "\n",
        "    # Imprimir el valor en \"a\" correspondiente al índice \"i\"\n",
        "    print(paste(\"Valor en 'a' en el índice\", i, \":\", a[i]))\n",
        "\n",
        "    # Supongamos que hay alguna operación matemática aquí. Por ejemplo, dividir por 2\n",
        "    result <- a[i] / 2\n",
        "\n",
        "    # Imprimir el resultado de la operación\n",
        "    print(paste(\"Resultado de dividir el valor por 2:\", result))\n",
        "}\n",
        "\n",
        "# El resultado de seq(along.with = a) es simplemente una secuencia de 1 al\n",
        "# número de elementos en \"a\". Esto se utiliza comúnmente para iterar sobre los\n",
        "# índices de un vector en un bucle for.\n",
        "print(paste(\"Resultado de seq(along.with = a):\", toString(seq(along.with = a))))"
      ],
      "metadata": {
        "colab": {
          "base_uri": "https://localhost:8080/"
        },
        "id": "9YxzCHYy0-Bl",
        "outputId": "af07ccc7-2186-4ace-c2f6-f24756551a4e"
      },
      "execution_count": null,
      "outputs": [
        {
          "output_type": "stream",
          "name": "stdout",
          "text": [
            "[1] \"Índice actual: 1\"\n",
            "[1] \"Valor en 'a' en el índice 1 : 2\"\n",
            "[1] \"Resultado de dividir el valor por 2: 1\"\n",
            "[1] \"Índice actual: 2\"\n",
            "[1] \"Valor en 'a' en el índice 2 : 4\"\n",
            "[1] \"Resultado de dividir el valor por 2: 2\"\n",
            "[1] \"Índice actual: 3\"\n",
            "[1] \"Valor en 'a' en el índice 3 : 6\"\n",
            "[1] \"Resultado de dividir el valor por 2: 3\"\n",
            "[1] \"Índice actual: 4\"\n",
            "[1] \"Valor en 'a' en el índice 4 : 8\"\n",
            "[1] \"Resultado de dividir el valor por 2: 4\"\n",
            "[1] \"Índice actual: 5\"\n",
            "[1] \"Valor en 'a' en el índice 5 : 10\"\n",
            "[1] \"Resultado de dividir el valor por 2: 5\"\n",
            "[1] \"Resultado de seq(along.with = a): 1, 2, 3, 4, 5\"\n"
          ]
        }
      ]
    },
    {
      "cell_type": "code",
      "source": [
        "# Crear un vector \"a\" con ciertos valores.\n",
        "# Puede cambiar esto para explorar diferentes longitudes, incluyendo cero.\n",
        "a <- 1:5  # Por ejemplo, un vector con números del 1 al 5.\n",
        "\n",
        "# Primer Enfoque: Usando seq(along.with = a)\n",
        "\n",
        "# Inicializar un vector \"b\" con la misma longitud que \"a\"\n",
        "b <- numeric(length(a))\n",
        "\n",
        "# Iterar a través de los índices de \"a\" usando seq(along.with = a)\n",
        "for(i in seq(along.with = a)) {\n",
        "    # Almacenar el cuadrado del valor en \"a\" en el vector \"b\"\n",
        "    b[i] <- a[i]^2\n",
        "}\n",
        "# Imprimir el resultado\n",
        "print(b)\n",
        "\n",
        "# Segundo Enfoque: Usando 1:length(a)\n",
        "\n",
        "# Inicializar un vector \"c\" con la misma longitud que \"a\"\n",
        "c <- numeric(length(a))\n",
        "\n",
        "# Iterar a través de los índices de \"a\" usando 1:length(a)\n",
        "for(i in 1:length(a)) {\n",
        "    # Almacenar el cuadrado del valor en \"a\" en el vector \"c\"\n",
        "    c[i] <- a[i]^2\n",
        "}\n",
        "# Imprimir el resultado\n",
        "print(c)\n",
        "\n",
        "# Cuando asignamos a <- numeric(0) (un vector de longitud cero),\n",
        "# el bucle for(i in 1:length(a)) generaría un bucle desde 1 hasta 0,\n",
        "# lo que no es deseado. Sin embargo, el bucle for(i in seq(along.with = a))\n",
        "# simplemente no se ejecutará, ya que seq(along.with = a) devolverá un vector vacío."
      ],
      "metadata": {
        "colab": {
          "base_uri": "https://localhost:8080/"
        },
        "id": "Z6QkFIlI0-EQ",
        "outputId": "c786d741-c8f8-4f62-f4fc-4391d7347132"
      },
      "execution_count": null,
      "outputs": [
        {
          "output_type": "stream",
          "name": "stdout",
          "text": [
            "[1]  1  4  9 16 25\n",
            "[1]  1  4  9 16 25\n"
          ]
        }
      ]
    },
    {
      "cell_type": "code",
      "source": [
        "# Inicializamos la variable 'a' con el valor 0.\n",
        "a <- 0\n",
        "\n",
        "# Mientras el valor de 'a' sea menor o igual a 50, ejecutamos el bloque de código dentro del bucle.\n",
        "while (a <= 50) {\n",
        "  # En cada iteración del bucle, sumamos 10 al valor actual de 'a'.\n",
        "  a <- a + 10\n",
        "  # Por lo tanto, 'a' aumentará en incrementos de 10 cada vez.\n",
        "}\n",
        "\n",
        "# Después de que 'a' alcanza el valor de 50 en una iteración, el bucle se ejecuta una vez más,\n",
        "# lo que lleva 'a' a 60. Solo después de esta última iteración, la condición a <= 50 ya no se cumple,\n",
        "# y el bucle se detiene.\n",
        "\n",
        "# Como resultado, al final del bucle, el valor de 'a' es 60, que es mayor que 50."
      ],
      "metadata": {
        "id": "jUjFd_O60-IR"
      },
      "execution_count": null,
      "outputs": []
    },
    {
      "cell_type": "code",
      "source": [
        "# Asignamos a 'a' un valor inicial de 2.\n",
        "a <- 2\n",
        "\n",
        "# Imprimimos el valor actual de 'a' antes de entrar en el bucle.\n",
        "# Esto nos permite ver el valor inicial de 'a' antes de cualquier transformación.\n",
        "print(a)\n",
        "\n",
        "# Comenzamos un bucle que se ejecutará mientras el valor de 'a' sea menor que 50.\n",
        "while (a < 50) {\n",
        "    # Dentro del bucle, elevamos 'a' al cuadrado y luego reasignamos este valor a 'a'.\n",
        "    # Además, imprimimos el valor de 'a' en cada iteración. La operación de\n",
        "    # asignación (a <- a^2) devuelve el valor que se ha asignado, por lo que\n",
        "    # se imprime ese valor.\n",
        "    print(a <- a^2)\n",
        "}\n",
        "\n",
        "# Explicación sobre la asignación encadenada:\n",
        "# En R, las asignaciones pueden encadenarse en una sola línea.\n",
        "# El valor de '1:5' se asigna a 'c', luego 'b' recibe el valor de 'c'\n",
        "# (que ahora es '1:5'), y finalmente 'a' recibe el valor de 'b' (que es '1:5').\n",
        "a <- b <- c <- 1:5\n",
        "\n",
        "# Al final, imprimimos 'a' para confirmar que tiene el valor '1:5'.\n",
        "a"
      ],
      "metadata": {
        "colab": {
          "base_uri": "https://localhost:8080/",
          "height": 104
        },
        "id": "hHVlm_0r0-Kf",
        "outputId": "8d53e86e-eb4a-4eb0-a006-948cab47eb7e"
      },
      "execution_count": null,
      "outputs": [
        {
          "output_type": "stream",
          "name": "stdout",
          "text": [
            "[1] 2\n",
            "[1] 4\n",
            "[1] 16\n",
            "[1] 256\n"
          ]
        },
        {
          "output_type": "display_data",
          "data": {
            "text/html": [
              "<style>\n",
              ".list-inline {list-style: none; margin:0; padding: 0}\n",
              ".list-inline>li {display: inline-block}\n",
              ".list-inline>li:not(:last-child)::after {content: \"\\00b7\"; padding: 0 .5ex}\n",
              "</style>\n",
              "<ol class=list-inline><li>1</li><li>2</li><li>3</li><li>4</li><li>5</li></ol>\n"
            ],
            "text/markdown": "1. 1\n2. 2\n3. 3\n4. 4\n5. 5\n\n\n",
            "text/latex": "\\begin{enumerate*}\n\\item 1\n\\item 2\n\\item 3\n\\item 4\n\\item 5\n\\end{enumerate*}\n",
            "text/plain": [
              "[1] 1 2 3 4 5"
            ]
          },
          "metadata": {}
        }
      ]
    },
    {
      "cell_type": "code",
      "source": [
        "# Asigna un valor inicial de 2 a 'a'.\n",
        "a <- 2\n",
        "\n",
        "# Imprime el valor actual de 'a' antes de entrar al bucle.\n",
        "# Esto nos permite ver el valor inicial de 'a' antes de cualquier transformación.\n",
        "print(paste(\"Valor inicial de a:\", a))\n",
        "\n",
        "# Comienza un bucle que se ejecutará mientras el valor de 'a' sea menor que 50.\n",
        "while (a < 50) {\n",
        "    # Imprime el valor actual de 'a' antes de elevarlo al cuadrado,\n",
        "    # para comprender cómo evoluciona 'a' en cada iteración.\n",
        "    print(paste(\"Valor de a antes de elevar al cuadrado:\", a))\n",
        "\n",
        "    # Eleva 'a' al cuadrado y reasigna este valor de nuevo a 'a'.\n",
        "    # También imprime el valor de 'a' en cada iteración.\n",
        "    a <- a^2\n",
        "\n",
        "    # Imprime el valor elevado al cuadrado de 'a' después de la operación.\n",
        "    print(paste(\"Valor de a después de elevar al cuadrado:\", a))\n",
        "}\n",
        "\n",
        "# Explicación sobre la asignación encadenada:\n",
        "# En R, las asignaciones pueden encadenarse en una sola línea.\n",
        "# El valor '1:5' se asigna a 'c', luego 'b' recibe el valor de 'c'\n",
        "# (que ahora es '1:5'), y finalmente 'a' recibe el valor de 'b' (que es '1:5').\n",
        "a <- b <- c <- 1:5\n",
        "\n",
        "# Al final, imprime 'a' para confirmar que contiene el valor '1:5'.\n",
        "print(paste(\"Valor final de a después de la asignación encadenada:\", a))"
      ],
      "metadata": {
        "colab": {
          "base_uri": "https://localhost:8080/"
        },
        "id": "9QS9kw1t0-Mj",
        "outputId": "96914f8c-ae16-4f24-e7c0-8d1974a5b390"
      },
      "execution_count": null,
      "outputs": [
        {
          "output_type": "stream",
          "name": "stdout",
          "text": [
            "[1] \"Valor inicial de a: 2\"\n",
            "[1] \"Valor de a antes de elevar al cuadrado: 2\"\n",
            "[1] \"Valor de a después de elevar al cuadrado: 4\"\n",
            "[1] \"Valor de a antes de elevar al cuadrado: 4\"\n",
            "[1] \"Valor de a después de elevar al cuadrado: 16\"\n",
            "[1] \"Valor de a antes de elevar al cuadrado: 16\"\n",
            "[1] \"Valor de a después de elevar al cuadrado: 256\"\n",
            "[1] \"Valor final de a después de la asignación encadenada: 1\"\n",
            "[2] \"Valor final de a después de la asignación encadenada: 2\"\n",
            "[3] \"Valor final de a después de la asignación encadenada: 3\"\n",
            "[4] \"Valor final de a después de la asignación encadenada: 4\"\n",
            "[5] \"Valor final de a después de la asignación encadenada: 5\"\n"
          ]
        }
      ]
    },
    {
      "cell_type": "markdown",
      "source": [
        "### **3.3.5 Anidamiento de bucles**"
      ],
      "metadata": {
        "id": "3O3U1_Y03WMX"
      }
    },
    {
      "cell_type": "code",
      "source": [
        "# Sumar los valores solo de las primeras tres columnas de A.\n",
        "\n",
        "# Creando una matriz de ejemplo\n",
        "A <- matrix(1:20, ncol = 4)\n",
        "\n",
        "# Sumar los valores de las primeras tres columnas\n",
        "suma1 <- sum(A[, 1:3])\n",
        "print(paste(\"La suma de los valores en las primeras tres columnas es:\", suma1))"
      ],
      "metadata": {
        "colab": {
          "base_uri": "https://localhost:8080/"
        },
        "id": "wmLjH88C0-PA",
        "outputId": "a2661856-7c27-48f7-8d28-2680dd3d89da"
      },
      "execution_count": null,
      "outputs": [
        {
          "output_type": "stream",
          "name": "stdout",
          "text": [
            "[1] \"La suma de los valores en las primeras tres columnas es: 120\"\n"
          ]
        }
      ]
    },
    {
      "cell_type": "code",
      "source": [
        "# Sumar los valores solo de las últimas tres filas de A.\n",
        "\n",
        "# Sumar los valores de las últimas tres filas\n",
        "suma2 <- sum(A[(nrow(A)-2):nrow(A), ])\n",
        "print(paste(\"La suma de los valores en las últimas tres filas es:\", suma2))"
      ],
      "metadata": {
        "colab": {
          "base_uri": "https://localhost:8080/"
        },
        "id": "q1alt-fW3Y9o",
        "outputId": "256aaf51-9394-419c-e275-23a9f5376d79"
      },
      "execution_count": null,
      "outputs": [
        {
          "output_type": "stream",
          "name": "stdout",
          "text": [
            "[1] \"La suma de los valores en las últimas tres filas es: 138\"\n"
          ]
        }
      ]
    },
    {
      "cell_type": "code",
      "source": [
        "# Considerar matrices con dimensiones igual a cero.\n",
        "\n",
        "# Matriz vacía como ejemplo\n",
        "A <- matrix(numeric(0), ncol = 0)\n",
        "\n",
        "# Suma con verificación\n",
        "if (ncol(A) >= 3) {\n",
        "  suma1 <- sum(A[, 1:3])\n",
        "  print(paste(\"La suma de los valores en las primeras tres columnas es:\", suma1))\n",
        "} else {\n",
        "  print(\"La matriz tiene menos de 3 columnas.\")\n",
        "}\n",
        "\n",
        "if (nrow(A) >= 3) {\n",
        "  suma2 <- sum(A[(nrow(A)-2):nrow(A), ])\n",
        "  print(paste(\"La suma de los valores en las últimas tres filas es:\", suma2))\n",
        "} else {\n",
        "  print(\"La matriz tiene menos de 3 filas.\")\n",
        "}"
      ],
      "metadata": {
        "colab": {
          "base_uri": "https://localhost:8080/"
        },
        "id": "RT-hmeuv3ZAF",
        "outputId": "8a317669-c100-45a2-bd59-fee73ee56ee1"
      },
      "execution_count": null,
      "outputs": [
        {
          "output_type": "stream",
          "name": "stdout",
          "text": [
            "[1] \"La matriz tiene menos de 3 columnas.\"\n",
            "[1] \"La matriz tiene menos de 3 filas.\"\n"
          ]
        }
      ]
    },
    {
      "cell_type": "code",
      "source": [
        "# Creando una matriz de ejemplo\n",
        "A <- matrix(1:20, ncol = 4)\n",
        "\n",
        "# --- Sumando solo las últimas tres columnas ---\n",
        "\n",
        "# Seleccionamos las últimas tres columnas usando subíndices y sumamos sus valores.\n",
        "suma_ultimas_tres_columnas <- sum(A[, (ncol(A)-2):ncol(A)])\n",
        "# Mostramos el resultado\n",
        "print(paste(\"La suma de los valores en las últimas tres columnas es:\", suma_ultimas_tres_columnas))\n",
        "\n",
        "# --- Obtener sumas de columnas de diferentes maneras ---\n",
        "\n",
        "# a) Usando bucles anidados:\n",
        "suma_columnas <- numeric(ncol(A)) # Vector para almacenar las sumas de las columnas\n",
        "for (j in 1:ncol(A)) { # Bucle para recorrer las columnas\n",
        "  for (i in 1:nrow(A)) { # Bucle para recorrer las filas\n",
        "    suma_columnas[j] <- suma_columnas[j] + A[i, j] # Acumular valores en el vector suma_columnas\n",
        "  }\n",
        "}\n",
        "# Mostrar el resultado\n",
        "print(paste(\"La suma de las columnas usando bucles es:\", toString(suma_columnas)))\n",
        "\n",
        "# b) Transponiendo la matriz y usando `rowSums()`:\n",
        "\n",
        "# Transponemos la matriz y usamos rowSums para sumar las \"filas\" (anteriormente columnas)\n",
        "suma_columnas_transpuesta <- rowSums(t(A))\n",
        "# Mostrar el resultado\n",
        "print(paste(\"La suma de las columnas trasponiendo la matriz es:\", toString(suma_columnas_transpuesta)))\n",
        "\n",
        "# c) Directamente en R usando `colSums()`:\n",
        "\n",
        "# colSums() es una función que directamente suma las columnas de una matriz\n",
        "suma_columnas_directa <- colSums(A)\n",
        "# Mostrar el resultado\n",
        "print(paste(\"La suma de las columnas usando colSums es:\", toString(suma_columnas_directa)))\n",
        "\n",
        "# La función colSums() es el método más eficiente y directo para obtener sumas de columnas en R."
      ],
      "metadata": {
        "colab": {
          "base_uri": "https://localhost:8080/"
        },
        "id": "QwvKiNyl3ZCq",
        "outputId": "0b1435df-b658-43de-e41f-bacb746446cd"
      },
      "execution_count": null,
      "outputs": [
        {
          "output_type": "stream",
          "name": "stdout",
          "text": [
            "[1] \"La suma de los valores en las últimas tres columnas es: 195\"\n",
            "[1] \"La suma de las columnas usando bucles es: 15, 40, 65, 90\"\n",
            "[1] \"La suma de las columnas trasponiendo la matriz es: 15, 40, 65, 90\"\n",
            "[1] \"La suma de las columnas usando colSums es: 15, 40, 65, 90\"\n"
          ]
        }
      ]
    },
    {
      "cell_type": "markdown",
      "source": [
        "### **3.4.1 Aplicación de funciones a vectores y listas**"
      ],
      "metadata": {
        "id": "pRMqXP9X4aO1"
      }
    },
    {
      "cell_type": "code",
      "source": [
        "# Definir la función mean_and_sd\n",
        "mean_and_sd <- function(x) {\n",
        "  return(list(mean = mean(x, na.rm = TRUE), sd = sd(x, na.rm = TRUE)))\n",
        "}\n",
        "\n",
        "# Aplicar esta función a cada columna del marco de datos cars\n",
        "result <- lapply(cars, mean_and_sd)\n",
        "\n",
        "# Mostrar el resultado\n",
        "print(result)"
      ],
      "metadata": {
        "colab": {
          "base_uri": "https://localhost:8080/"
        },
        "id": "shXuBf7b33Ig",
        "outputId": "cba7e3c8-e766-4c9e-b272-1b57aa264c05"
      },
      "execution_count": null,
      "outputs": [
        {
          "output_type": "stream",
          "name": "stdout",
          "text": [
            "$speed\n",
            "$speed$mean\n",
            "[1] 15.4\n",
            "\n",
            "$speed$sd\n",
            "[1] 5.287644\n",
            "\n",
            "\n",
            "$dist\n",
            "$dist$mean\n",
            "[1] 42.98\n",
            "\n",
            "$dist$sd\n",
            "[1] 25.76938\n",
            "\n",
            "\n"
          ]
        }
      ]
    },
    {
      "cell_type": "markdown",
      "source": [
        "### **3.4.2 Aplicación de funciones a matrices y arrays**"
      ],
      "metadata": {
        "id": "IoETsgHy5CWO"
      }
    },
    {
      "cell_type": "code",
      "source": [
        "# Definir la función mean_and_sd\n",
        "mean_and_sd <- function(x) {\n",
        "  return(list(mean = mean(x, na.rm = TRUE), sd = sd(x, na.rm = TRUE)))\n",
        "}\n",
        "\n",
        "# Convertir el data.frame a una matriz y transponerlo\n",
        "transposed_cars <- t(as.matrix(cars))\n",
        "\n",
        "# Aplicar la función a cada fila (que originalmente eran columnas)\n",
        "result <- lapply(transposed_cars, mean_and_sd)\n",
        "\n",
        "# Mostrar el resultado\n",
        "print(result)"
      ],
      "metadata": {
        "colab": {
          "base_uri": "https://localhost:8080/"
        },
        "id": "JbUrzxs333MJ",
        "outputId": "4fcf82e4-ad52-44f8-d5cc-0d2a23c495e8"
      },
      "execution_count": null,
      "outputs": [
        {
          "output_type": "stream",
          "name": "stdout",
          "text": [
            "[[1]]\n",
            "[[1]]$mean\n",
            "[1] 4\n",
            "\n",
            "[[1]]$sd\n",
            "[1] NA\n",
            "\n",
            "\n",
            "[[2]]\n",
            "[[2]]$mean\n",
            "[1] 2\n",
            "\n",
            "[[2]]$sd\n",
            "[1] NA\n",
            "\n",
            "\n",
            "[[3]]\n",
            "[[3]]$mean\n",
            "[1] 4\n",
            "\n",
            "[[3]]$sd\n",
            "[1] NA\n",
            "\n",
            "\n",
            "[[4]]\n",
            "[[4]]$mean\n",
            "[1] 10\n",
            "\n",
            "[[4]]$sd\n",
            "[1] NA\n",
            "\n",
            "\n",
            "[[5]]\n",
            "[[5]]$mean\n",
            "[1] 7\n",
            "\n",
            "[[5]]$sd\n",
            "[1] NA\n",
            "\n",
            "\n",
            "[[6]]\n",
            "[[6]]$mean\n",
            "[1] 4\n",
            "\n",
            "[[6]]$sd\n",
            "[1] NA\n",
            "\n",
            "\n",
            "[[7]]\n",
            "[[7]]$mean\n",
            "[1] 7\n",
            "\n",
            "[[7]]$sd\n",
            "[1] NA\n",
            "\n",
            "\n",
            "[[8]]\n",
            "[[8]]$mean\n",
            "[1] 22\n",
            "\n",
            "[[8]]$sd\n",
            "[1] NA\n",
            "\n",
            "\n",
            "[[9]]\n",
            "[[9]]$mean\n",
            "[1] 8\n",
            "\n",
            "[[9]]$sd\n",
            "[1] NA\n",
            "\n",
            "\n",
            "[[10]]\n",
            "[[10]]$mean\n",
            "[1] 16\n",
            "\n",
            "[[10]]$sd\n",
            "[1] NA\n",
            "\n",
            "\n",
            "[[11]]\n",
            "[[11]]$mean\n",
            "[1] 9\n",
            "\n",
            "[[11]]$sd\n",
            "[1] NA\n",
            "\n",
            "\n",
            "[[12]]\n",
            "[[12]]$mean\n",
            "[1] 10\n",
            "\n",
            "[[12]]$sd\n",
            "[1] NA\n",
            "\n",
            "\n",
            "[[13]]\n",
            "[[13]]$mean\n",
            "[1] 10\n",
            "\n",
            "[[13]]$sd\n",
            "[1] NA\n",
            "\n",
            "\n",
            "[[14]]\n",
            "[[14]]$mean\n",
            "[1] 18\n",
            "\n",
            "[[14]]$sd\n",
            "[1] NA\n",
            "\n",
            "\n",
            "[[15]]\n",
            "[[15]]$mean\n",
            "[1] 10\n",
            "\n",
            "[[15]]$sd\n",
            "[1] NA\n",
            "\n",
            "\n",
            "[[16]]\n",
            "[[16]]$mean\n",
            "[1] 26\n",
            "\n",
            "[[16]]$sd\n",
            "[1] NA\n",
            "\n",
            "\n",
            "[[17]]\n",
            "[[17]]$mean\n",
            "[1] 10\n",
            "\n",
            "[[17]]$sd\n",
            "[1] NA\n",
            "\n",
            "\n",
            "[[18]]\n",
            "[[18]]$mean\n",
            "[1] 34\n",
            "\n",
            "[[18]]$sd\n",
            "[1] NA\n",
            "\n",
            "\n",
            "[[19]]\n",
            "[[19]]$mean\n",
            "[1] 11\n",
            "\n",
            "[[19]]$sd\n",
            "[1] NA\n",
            "\n",
            "\n",
            "[[20]]\n",
            "[[20]]$mean\n",
            "[1] 17\n",
            "\n",
            "[[20]]$sd\n",
            "[1] NA\n",
            "\n",
            "\n",
            "[[21]]\n",
            "[[21]]$mean\n",
            "[1] 11\n",
            "\n",
            "[[21]]$sd\n",
            "[1] NA\n",
            "\n",
            "\n",
            "[[22]]\n",
            "[[22]]$mean\n",
            "[1] 28\n",
            "\n",
            "[[22]]$sd\n",
            "[1] NA\n",
            "\n",
            "\n",
            "[[23]]\n",
            "[[23]]$mean\n",
            "[1] 12\n",
            "\n",
            "[[23]]$sd\n",
            "[1] NA\n",
            "\n",
            "\n",
            "[[24]]\n",
            "[[24]]$mean\n",
            "[1] 14\n",
            "\n",
            "[[24]]$sd\n",
            "[1] NA\n",
            "\n",
            "\n",
            "[[25]]\n",
            "[[25]]$mean\n",
            "[1] 12\n",
            "\n",
            "[[25]]$sd\n",
            "[1] NA\n",
            "\n",
            "\n",
            "[[26]]\n",
            "[[26]]$mean\n",
            "[1] 20\n",
            "\n",
            "[[26]]$sd\n",
            "[1] NA\n",
            "\n",
            "\n",
            "[[27]]\n",
            "[[27]]$mean\n",
            "[1] 12\n",
            "\n",
            "[[27]]$sd\n",
            "[1] NA\n",
            "\n",
            "\n",
            "[[28]]\n",
            "[[28]]$mean\n",
            "[1] 24\n",
            "\n",
            "[[28]]$sd\n",
            "[1] NA\n",
            "\n",
            "\n",
            "[[29]]\n",
            "[[29]]$mean\n",
            "[1] 12\n",
            "\n",
            "[[29]]$sd\n",
            "[1] NA\n",
            "\n",
            "\n",
            "[[30]]\n",
            "[[30]]$mean\n",
            "[1] 28\n",
            "\n",
            "[[30]]$sd\n",
            "[1] NA\n",
            "\n",
            "\n",
            "[[31]]\n",
            "[[31]]$mean\n",
            "[1] 13\n",
            "\n",
            "[[31]]$sd\n",
            "[1] NA\n",
            "\n",
            "\n",
            "[[32]]\n",
            "[[32]]$mean\n",
            "[1] 26\n",
            "\n",
            "[[32]]$sd\n",
            "[1] NA\n",
            "\n",
            "\n",
            "[[33]]\n",
            "[[33]]$mean\n",
            "[1] 13\n",
            "\n",
            "[[33]]$sd\n",
            "[1] NA\n",
            "\n",
            "\n",
            "[[34]]\n",
            "[[34]]$mean\n",
            "[1] 34\n",
            "\n",
            "[[34]]$sd\n",
            "[1] NA\n",
            "\n",
            "\n",
            "[[35]]\n",
            "[[35]]$mean\n",
            "[1] 13\n",
            "\n",
            "[[35]]$sd\n",
            "[1] NA\n",
            "\n",
            "\n",
            "[[36]]\n",
            "[[36]]$mean\n",
            "[1] 34\n",
            "\n",
            "[[36]]$sd\n",
            "[1] NA\n",
            "\n",
            "\n",
            "[[37]]\n",
            "[[37]]$mean\n",
            "[1] 13\n",
            "\n",
            "[[37]]$sd\n",
            "[1] NA\n",
            "\n",
            "\n",
            "[[38]]\n",
            "[[38]]$mean\n",
            "[1] 46\n",
            "\n",
            "[[38]]$sd\n",
            "[1] NA\n",
            "\n",
            "\n",
            "[[39]]\n",
            "[[39]]$mean\n",
            "[1] 14\n",
            "\n",
            "[[39]]$sd\n",
            "[1] NA\n",
            "\n",
            "\n",
            "[[40]]\n",
            "[[40]]$mean\n",
            "[1] 26\n",
            "\n",
            "[[40]]$sd\n",
            "[1] NA\n",
            "\n",
            "\n",
            "[[41]]\n",
            "[[41]]$mean\n",
            "[1] 14\n",
            "\n",
            "[[41]]$sd\n",
            "[1] NA\n",
            "\n",
            "\n",
            "[[42]]\n",
            "[[42]]$mean\n",
            "[1] 36\n",
            "\n",
            "[[42]]$sd\n",
            "[1] NA\n",
            "\n",
            "\n",
            "[[43]]\n",
            "[[43]]$mean\n",
            "[1] 14\n",
            "\n",
            "[[43]]$sd\n",
            "[1] NA\n",
            "\n",
            "\n",
            "[[44]]\n",
            "[[44]]$mean\n",
            "[1] 60\n",
            "\n",
            "[[44]]$sd\n",
            "[1] NA\n",
            "\n",
            "\n",
            "[[45]]\n",
            "[[45]]$mean\n",
            "[1] 14\n",
            "\n",
            "[[45]]$sd\n",
            "[1] NA\n",
            "\n",
            "\n",
            "[[46]]\n",
            "[[46]]$mean\n",
            "[1] 80\n",
            "\n",
            "[[46]]$sd\n",
            "[1] NA\n",
            "\n",
            "\n",
            "[[47]]\n",
            "[[47]]$mean\n",
            "[1] 15\n",
            "\n",
            "[[47]]$sd\n",
            "[1] NA\n",
            "\n",
            "\n",
            "[[48]]\n",
            "[[48]]$mean\n",
            "[1] 20\n",
            "\n",
            "[[48]]$sd\n",
            "[1] NA\n",
            "\n",
            "\n",
            "[[49]]\n",
            "[[49]]$mean\n",
            "[1] 15\n",
            "\n",
            "[[49]]$sd\n",
            "[1] NA\n",
            "\n",
            "\n",
            "[[50]]\n",
            "[[50]]$mean\n",
            "[1] 26\n",
            "\n",
            "[[50]]$sd\n",
            "[1] NA\n",
            "\n",
            "\n",
            "[[51]]\n",
            "[[51]]$mean\n",
            "[1] 15\n",
            "\n",
            "[[51]]$sd\n",
            "[1] NA\n",
            "\n",
            "\n",
            "[[52]]\n",
            "[[52]]$mean\n",
            "[1] 54\n",
            "\n",
            "[[52]]$sd\n",
            "[1] NA\n",
            "\n",
            "\n",
            "[[53]]\n",
            "[[53]]$mean\n",
            "[1] 16\n",
            "\n",
            "[[53]]$sd\n",
            "[1] NA\n",
            "\n",
            "\n",
            "[[54]]\n",
            "[[54]]$mean\n",
            "[1] 32\n",
            "\n",
            "[[54]]$sd\n",
            "[1] NA\n",
            "\n",
            "\n",
            "[[55]]\n",
            "[[55]]$mean\n",
            "[1] 16\n",
            "\n",
            "[[55]]$sd\n",
            "[1] NA\n",
            "\n",
            "\n",
            "[[56]]\n",
            "[[56]]$mean\n",
            "[1] 40\n",
            "\n",
            "[[56]]$sd\n",
            "[1] NA\n",
            "\n",
            "\n",
            "[[57]]\n",
            "[[57]]$mean\n",
            "[1] 17\n",
            "\n",
            "[[57]]$sd\n",
            "[1] NA\n",
            "\n",
            "\n",
            "[[58]]\n",
            "[[58]]$mean\n",
            "[1] 32\n",
            "\n",
            "[[58]]$sd\n",
            "[1] NA\n",
            "\n",
            "\n",
            "[[59]]\n",
            "[[59]]$mean\n",
            "[1] 17\n",
            "\n",
            "[[59]]$sd\n",
            "[1] NA\n",
            "\n",
            "\n",
            "[[60]]\n",
            "[[60]]$mean\n",
            "[1] 40\n",
            "\n",
            "[[60]]$sd\n",
            "[1] NA\n",
            "\n",
            "\n",
            "[[61]]\n",
            "[[61]]$mean\n",
            "[1] 17\n",
            "\n",
            "[[61]]$sd\n",
            "[1] NA\n",
            "\n",
            "\n",
            "[[62]]\n",
            "[[62]]$mean\n",
            "[1] 50\n",
            "\n",
            "[[62]]$sd\n",
            "[1] NA\n",
            "\n",
            "\n",
            "[[63]]\n",
            "[[63]]$mean\n",
            "[1] 18\n",
            "\n",
            "[[63]]$sd\n",
            "[1] NA\n",
            "\n",
            "\n",
            "[[64]]\n",
            "[[64]]$mean\n",
            "[1] 42\n",
            "\n",
            "[[64]]$sd\n",
            "[1] NA\n",
            "\n",
            "\n",
            "[[65]]\n",
            "[[65]]$mean\n",
            "[1] 18\n",
            "\n",
            "[[65]]$sd\n",
            "[1] NA\n",
            "\n",
            "\n",
            "[[66]]\n",
            "[[66]]$mean\n",
            "[1] 56\n",
            "\n",
            "[[66]]$sd\n",
            "[1] NA\n",
            "\n",
            "\n",
            "[[67]]\n",
            "[[67]]$mean\n",
            "[1] 18\n",
            "\n",
            "[[67]]$sd\n",
            "[1] NA\n",
            "\n",
            "\n",
            "[[68]]\n",
            "[[68]]$mean\n",
            "[1] 76\n",
            "\n",
            "[[68]]$sd\n",
            "[1] NA\n",
            "\n",
            "\n",
            "[[69]]\n",
            "[[69]]$mean\n",
            "[1] 18\n",
            "\n",
            "[[69]]$sd\n",
            "[1] NA\n",
            "\n",
            "\n",
            "[[70]]\n",
            "[[70]]$mean\n",
            "[1] 84\n",
            "\n",
            "[[70]]$sd\n",
            "[1] NA\n",
            "\n",
            "\n",
            "[[71]]\n",
            "[[71]]$mean\n",
            "[1] 19\n",
            "\n",
            "[[71]]$sd\n",
            "[1] NA\n",
            "\n",
            "\n",
            "[[72]]\n",
            "[[72]]$mean\n",
            "[1] 36\n",
            "\n",
            "[[72]]$sd\n",
            "[1] NA\n",
            "\n",
            "\n",
            "[[73]]\n",
            "[[73]]$mean\n",
            "[1] 19\n",
            "\n",
            "[[73]]$sd\n",
            "[1] NA\n",
            "\n",
            "\n",
            "[[74]]\n",
            "[[74]]$mean\n",
            "[1] 46\n",
            "\n",
            "[[74]]$sd\n",
            "[1] NA\n",
            "\n",
            "\n",
            "[[75]]\n",
            "[[75]]$mean\n",
            "[1] 19\n",
            "\n",
            "[[75]]$sd\n",
            "[1] NA\n",
            "\n",
            "\n",
            "[[76]]\n",
            "[[76]]$mean\n",
            "[1] 68\n",
            "\n",
            "[[76]]$sd\n",
            "[1] NA\n",
            "\n",
            "\n",
            "[[77]]\n",
            "[[77]]$mean\n",
            "[1] 20\n",
            "\n",
            "[[77]]$sd\n",
            "[1] NA\n",
            "\n",
            "\n",
            "[[78]]\n",
            "[[78]]$mean\n",
            "[1] 32\n",
            "\n",
            "[[78]]$sd\n",
            "[1] NA\n",
            "\n",
            "\n",
            "[[79]]\n",
            "[[79]]$mean\n",
            "[1] 20\n",
            "\n",
            "[[79]]$sd\n",
            "[1] NA\n",
            "\n",
            "\n",
            "[[80]]\n",
            "[[80]]$mean\n",
            "[1] 48\n",
            "\n",
            "[[80]]$sd\n",
            "[1] NA\n",
            "\n",
            "\n",
            "[[81]]\n",
            "[[81]]$mean\n",
            "[1] 20\n",
            "\n",
            "[[81]]$sd\n",
            "[1] NA\n",
            "\n",
            "\n",
            "[[82]]\n",
            "[[82]]$mean\n",
            "[1] 52\n",
            "\n",
            "[[82]]$sd\n",
            "[1] NA\n",
            "\n",
            "\n",
            "[[83]]\n",
            "[[83]]$mean\n",
            "[1] 20\n",
            "\n",
            "[[83]]$sd\n",
            "[1] NA\n",
            "\n",
            "\n",
            "[[84]]\n",
            "[[84]]$mean\n",
            "[1] 56\n",
            "\n",
            "[[84]]$sd\n",
            "[1] NA\n",
            "\n",
            "\n",
            "[[85]]\n",
            "[[85]]$mean\n",
            "[1] 20\n",
            "\n",
            "[[85]]$sd\n",
            "[1] NA\n",
            "\n",
            "\n",
            "[[86]]\n",
            "[[86]]$mean\n",
            "[1] 64\n",
            "\n",
            "[[86]]$sd\n",
            "[1] NA\n",
            "\n",
            "\n",
            "[[87]]\n",
            "[[87]]$mean\n",
            "[1] 22\n",
            "\n",
            "[[87]]$sd\n",
            "[1] NA\n",
            "\n",
            "\n",
            "[[88]]\n",
            "[[88]]$mean\n",
            "[1] 66\n",
            "\n",
            "[[88]]$sd\n",
            "[1] NA\n",
            "\n",
            "\n",
            "[[89]]\n",
            "[[89]]$mean\n",
            "[1] 23\n",
            "\n",
            "[[89]]$sd\n",
            "[1] NA\n",
            "\n",
            "\n",
            "[[90]]\n",
            "[[90]]$mean\n",
            "[1] 54\n",
            "\n",
            "[[90]]$sd\n",
            "[1] NA\n",
            "\n",
            "\n",
            "[[91]]\n",
            "[[91]]$mean\n",
            "[1] 24\n",
            "\n",
            "[[91]]$sd\n",
            "[1] NA\n",
            "\n",
            "\n",
            "[[92]]\n",
            "[[92]]$mean\n",
            "[1] 70\n",
            "\n",
            "[[92]]$sd\n",
            "[1] NA\n",
            "\n",
            "\n",
            "[[93]]\n",
            "[[93]]$mean\n",
            "[1] 24\n",
            "\n",
            "[[93]]$sd\n",
            "[1] NA\n",
            "\n",
            "\n",
            "[[94]]\n",
            "[[94]]$mean\n",
            "[1] 92\n",
            "\n",
            "[[94]]$sd\n",
            "[1] NA\n",
            "\n",
            "\n",
            "[[95]]\n",
            "[[95]]$mean\n",
            "[1] 24\n",
            "\n",
            "[[95]]$sd\n",
            "[1] NA\n",
            "\n",
            "\n",
            "[[96]]\n",
            "[[96]]$mean\n",
            "[1] 93\n",
            "\n",
            "[[96]]$sd\n",
            "[1] NA\n",
            "\n",
            "\n",
            "[[97]]\n",
            "[[97]]$mean\n",
            "[1] 24\n",
            "\n",
            "[[97]]$sd\n",
            "[1] NA\n",
            "\n",
            "\n",
            "[[98]]\n",
            "[[98]]$mean\n",
            "[1] 120\n",
            "\n",
            "[[98]]$sd\n",
            "[1] NA\n",
            "\n",
            "\n",
            "[[99]]\n",
            "[[99]]$mean\n",
            "[1] 25\n",
            "\n",
            "[[99]]$sd\n",
            "[1] NA\n",
            "\n",
            "\n",
            "[[100]]\n",
            "[[100]]$mean\n",
            "[1] 85\n",
            "\n",
            "[[100]]$sd\n",
            "[1] NA\n",
            "\n",
            "\n"
          ]
        }
      ]
    },
    {
      "cell_type": "markdown",
      "source": [
        "### **3.5 Nombres de objetos y cadenas de caracteres**"
      ],
      "metadata": {
        "id": "iSFCQdIC6PK1"
      }
    },
    {
      "cell_type": "code",
      "source": [
        "# Crear una lista de nombres de conjuntos de datos\n",
        "dataset_names <- c(\"data1\", \"data2\", \"data3\", \"data4\")\n",
        "\n",
        "# Iterar a través de los nombres de conjuntos de datos y asignar datos simulados a cada uno\n",
        "for (name in dataset_names) {\n",
        "  data <- data.frame(\n",
        "    ID = 1:10,\n",
        "    Value = rnorm(10)\n",
        "  )\n",
        "  assign(name, data)\n",
        "}\n",
        "\n",
        "# Verificar la existencia de los conjuntos de datos\n",
        "print(ls())  # Lista de objetos en el entorno\n",
        "\n",
        "# Acceder a un conjunto de datos específico y realizar un análisis\n",
        "chosen_dataset <- \"data2\"  # Cambiar al conjunto de datos que desees analizar\n",
        "if (chosen_dataset %in% dataset_names) {\n",
        "  dataset <- get(chosen_dataset)\n",
        "  summary(dataset)\n",
        "} else {\n",
        "  cat(\"El conjunto de datos no existe.\\n\")\n",
        "}\n",
        "\n",
        "# Obtener múltiples conjuntos de datos en una lista\n",
        "selected_datasets <- c(\"data1\", \"data3\")  # Cambiar a los conjuntos de datos que desees\n",
        "datasets_list <- mget(selected_datasets)\n",
        "print(datasets_list)"
      ],
      "metadata": {
        "colab": {
          "base_uri": "https://localhost:8080/",
          "height": 1000
        },
        "id": "J-oLAQgw3ZFt",
        "outputId": "3460e64a-211d-4feb-f5ac-44ee79c5ff67"
      },
      "execution_count": null,
      "outputs": [
        {
          "output_type": "stream",
          "name": "stdout",
          "text": [
            " [1] \"a\"                          \"A\"                         \n",
            " [3] \"a_vector\"                   \"abc_value\"                 \n",
            " [5] \"airquality\"                 \"all_objects\"               \n",
            " [7] \"area\"                       \"b\"                         \n",
            " [9] \"b_vector\"                   \"c\"                         \n",
            "[11] \"cars\"                       \"columns_of_interest\"       \n",
            "[13] \"count_non_missing\"          \"d\"                         \n",
            "[15] \"data\"                       \"data_frame1\"               \n",
            "[17] \"data_frame2\"                \"data1\"                     \n",
            "[19] \"data2\"                      \"data3\"                     \n",
            "[21] \"data4\"                      \"dataset_names\"             \n",
            "[23] \"df1\"                        \"df2\"                       \n",
            "[25] \"dimensions\"                 \"ends_with_1_objects\"       \n",
            "[27] \"first_two_rows\"             \"flag\"                      \n",
            "[29] \"frame_objects\"              \"fruitColor\"                \n",
            "[31] \"getGrade\"                   \"getPosition\"               \n",
            "[33] \"height\"                     \"i\"                         \n",
            "[35] \"j\"                          \"last_three_rows\"           \n",
            "[37] \"length\"                     \"mean_and_sd\"               \n",
            "[39] \"my_vector\"                  \"name\"                      \n",
            "[41] \"non_missing_counts\"         \"result\"                    \n",
            "[43] \"result1\"                    \"result2\"                   \n",
            "[45] \"result3\"                    \"result4\"                   \n",
            "[47] \"result5\"                    \"score\"                     \n",
            "[49] \"sum_of_vector\"              \"suma_columnas\"             \n",
            "[51] \"suma_columnas_directa\"      \"suma_columnas_transpuesta\" \n",
            "[53] \"suma_ultimas_tres_columnas\" \"suma1\"                     \n",
            "[55] \"suma2\"                      \"temp_var\"                  \n",
            "[57] \"transposed_cars\"            \"value\"                     \n",
            "[59] \"var_objects\"                \"var1\"                      \n",
            "[61] \"var2\"                       \"vector1\"                   \n",
            "[63] \"vector2\"                   \n"
          ]
        },
        {
          "output_type": "display_data",
          "data": {
            "text/plain": [
              "       ID            Value        \n",
              " Min.   : 1.00   Min.   :-2.6609  \n",
              " 1st Qu.: 3.25   1st Qu.:-0.1637  \n",
              " Median : 5.50   Median : 0.5752  \n",
              " Mean   : 5.50   Mean   : 0.1886  \n",
              " 3rd Qu.: 7.75   3rd Qu.: 0.9059  \n",
              " Max.   :10.00   Max.   : 1.1103  "
            ]
          },
          "metadata": {}
        },
        {
          "output_type": "stream",
          "name": "stdout",
          "text": [
            "$data1\n",
            "   ID      Value\n",
            "1   1  0.4547693\n",
            "2   2  0.6599026\n",
            "3   3 -0.1998898\n",
            "4   4 -0.6451140\n",
            "5   5  0.1653210\n",
            "6   6  0.4388187\n",
            "7   7  0.8833028\n",
            "8   8 -2.0523370\n",
            "9   9 -1.6363793\n",
            "10 10  1.4304023\n",
            "\n",
            "$data3\n",
            "   ID       Value\n",
            "1   1 -0.34847245\n",
            "2   2  0.51850377\n",
            "3   3 -0.39068498\n",
            "4   4 -1.09278721\n",
            "5   5  1.21001051\n",
            "6   6  0.74090001\n",
            "7   7  1.72426224\n",
            "8   8  0.06515393\n",
            "9   9  1.12500275\n",
            "10 10  1.97541905\n",
            "\n"
          ]
        }
      ]
    },
    {
      "cell_type": "code",
      "source": [],
      "metadata": {
        "id": "QtHb4iYs5pe_"
      },
      "execution_count": null,
      "outputs": []
    }
  ]
}